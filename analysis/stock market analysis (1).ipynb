{
 "cells": [
  {
   "cell_type": "markdown",
   "id": "99d7c3e0-5262-4400-b4a8-733e5e798118",
   "metadata": {},
   "source": [
    "# Saudi Stock Market Analysis\n",
    "This notebook provides a comprehensive analysis of stock market data for various companies, aiming to uncover patterns, trends, and insights. The analysis is guided by a set of data-driven questions, each designed to provide insights into different aspects of the market, such as price performance, transaction volumes, and market activity."
   ]
  },
  {
   "cell_type": "code",
   "execution_count": 1,
   "id": "8292b8df-e99d-4a38-809c-1267402626f7",
   "metadata": {},
   "outputs": [],
   "source": [
    "import pandas as pd\n",
    "import numpy as np\n",
    "import re\n",
    "import plotly.express as px\n",
    "import plotly.graph_objects as go\n",
    "import plotly.figure_factory as ff"
   ]
  },
  {
   "cell_type": "code",
   "execution_count": 6,
   "id": "a35e11ae-a767-4a34-880e-8277873e35da",
   "metadata": {},
   "outputs": [],
   "source": [
    "file_path = r'C:\\Users\\kingd\\OneDrive\\سطح المكتب\\Projects\\Datathon\\advanced rag\\\\data\\Saudi_Stock_11092024.xlsx' \n",
    "data = pd.read_excel(file_path)"
   ]
  },
  {
   "cell_type": "markdown",
   "id": "a1aac288-b442-4e06-84b4-32c7cd05a596",
   "metadata": {},
   "source": [
    "# Data Preprocessing"
   ]
  },
  {
   "cell_type": "code",
   "execution_count": 7,
   "id": "ce0bbd44-5e43-41fb-af5c-d1303a0059c1",
   "metadata": {},
   "outputs": [
    {
     "name": "stdout",
     "output_type": "stream",
     "text": [
      "Unnamed: 0        0\n",
      "Stock_Id          0\n",
      "Company Name      0\n",
      "52 Weeks Range    0\n",
      "Par Value         0\n",
      "Price             0\n",
      "Change            0\n",
      "Change (%)        0\n",
      "Prev. Close       0\n",
      "Volume            0\n",
      "Turnover          0\n",
      "Transactions      0\n",
      "dtype: int64\n"
     ]
    }
   ],
   "source": [
    "print(data.isnull().sum())"
   ]
  },
  {
   "cell_type": "code",
   "execution_count": 8,
   "id": "a8905f0e-7458-493b-b1ae-3df69510b2e1",
   "metadata": {},
   "outputs": [
    {
     "name": "stdout",
     "output_type": "stream",
     "text": [
      "Unnamed: 0          int64\n",
      "Stock_Id            int64\n",
      "Company Name       object\n",
      "52 Weeks Range     object\n",
      "Par Value          object\n",
      "Price             float64\n",
      "Change             object\n",
      "Change (%)         object\n",
      "Prev. Close       float64\n",
      "Volume              int64\n",
      "Turnover            int64\n",
      "Transactions        int64\n",
      "dtype: object\n"
     ]
    }
   ],
   "source": [
    "print(data.dtypes)"
   ]
  },
  {
   "cell_type": "code",
   "execution_count": 9,
   "id": "07af1c9f-159f-4a8f-8ddf-da9706f5cd8f",
   "metadata": {
    "scrolled": true
   },
   "outputs": [
    {
     "data": {
      "text/html": [
       "<div>\n",
       "<style scoped>\n",
       "    .dataframe tbody tr th:only-of-type {\n",
       "        vertical-align: middle;\n",
       "    }\n",
       "\n",
       "    .dataframe tbody tr th {\n",
       "        vertical-align: top;\n",
       "    }\n",
       "\n",
       "    .dataframe thead th {\n",
       "        text-align: right;\n",
       "    }\n",
       "</style>\n",
       "<table border=\"1\" class=\"dataframe\">\n",
       "  <thead>\n",
       "    <tr style=\"text-align: right;\">\n",
       "      <th></th>\n",
       "      <th>Unnamed: 0</th>\n",
       "      <th>Stock_Id</th>\n",
       "      <th>Price</th>\n",
       "      <th>Prev. Close</th>\n",
       "      <th>Volume</th>\n",
       "      <th>Turnover</th>\n",
       "      <th>Transactions</th>\n",
       "    </tr>\n",
       "  </thead>\n",
       "  <tbody>\n",
       "    <tr>\n",
       "      <th>count</th>\n",
       "      <td>258.000000</td>\n",
       "      <td>258.000000</td>\n",
       "      <td>258.000000</td>\n",
       "      <td>258.000000</td>\n",
       "      <td>2.580000e+02</td>\n",
       "      <td>2.580000e+02</td>\n",
       "      <td>258.000000</td>\n",
       "    </tr>\n",
       "    <tr>\n",
       "      <th>mean</th>\n",
       "      <td>128.500000</td>\n",
       "      <td>4194.794574</td>\n",
       "      <td>52.860426</td>\n",
       "      <td>52.952946</td>\n",
       "      <td>4.803442e+06</td>\n",
       "      <td>2.940089e+07</td>\n",
       "      <td>1872.922481</td>\n",
       "    </tr>\n",
       "    <tr>\n",
       "      <th>std</th>\n",
       "      <td>74.622383</td>\n",
       "      <td>2308.426548</td>\n",
       "      <td>89.415242</td>\n",
       "      <td>90.024461</td>\n",
       "      <td>5.598941e+07</td>\n",
       "      <td>9.131151e+07</td>\n",
       "      <td>2763.081675</td>\n",
       "    </tr>\n",
       "    <tr>\n",
       "      <th>min</th>\n",
       "      <td>0.000000</td>\n",
       "      <td>1010.000000</td>\n",
       "      <td>0.330000</td>\n",
       "      <td>0.330000</td>\n",
       "      <td>3.450000e+02</td>\n",
       "      <td>1.031900e+04</td>\n",
       "      <td>12.000000</td>\n",
       "    </tr>\n",
       "    <tr>\n",
       "      <th>25%</th>\n",
       "      <td>64.250000</td>\n",
       "      <td>2242.500000</td>\n",
       "      <td>12.830000</td>\n",
       "      <td>12.770000</td>\n",
       "      <td>1.096135e+05</td>\n",
       "      <td>2.948452e+06</td>\n",
       "      <td>508.500000</td>\n",
       "    </tr>\n",
       "    <tr>\n",
       "      <th>50%</th>\n",
       "      <td>128.500000</td>\n",
       "      <td>4080.500000</td>\n",
       "      <td>25.925000</td>\n",
       "      <td>25.800000</td>\n",
       "      <td>2.456810e+05</td>\n",
       "      <td>9.637432e+06</td>\n",
       "      <td>1137.500000</td>\n",
       "    </tr>\n",
       "    <tr>\n",
       "      <th>75%</th>\n",
       "      <td>192.750000</td>\n",
       "      <td>4701.750000</td>\n",
       "      <td>57.150000</td>\n",
       "      <td>56.800000</td>\n",
       "      <td>7.564478e+05</td>\n",
       "      <td>2.609448e+07</td>\n",
       "      <td>2225.250000</td>\n",
       "    </tr>\n",
       "    <tr>\n",
       "      <th>max</th>\n",
       "      <td>257.000000</td>\n",
       "      <td>9411.000000</td>\n",
       "      <td>1081.600000</td>\n",
       "      <td>1089.000000</td>\n",
       "      <td>8.974221e+08</td>\n",
       "      <td>1.071074e+09</td>\n",
       "      <td>27539.000000</td>\n",
       "    </tr>\n",
       "  </tbody>\n",
       "</table>\n",
       "</div>"
      ],
      "text/plain": [
       "       Unnamed: 0     Stock_Id        Price  Prev. Close        Volume  \\\n",
       "count  258.000000   258.000000   258.000000   258.000000  2.580000e+02   \n",
       "mean   128.500000  4194.794574    52.860426    52.952946  4.803442e+06   \n",
       "std     74.622383  2308.426548    89.415242    90.024461  5.598941e+07   \n",
       "min      0.000000  1010.000000     0.330000     0.330000  3.450000e+02   \n",
       "25%     64.250000  2242.500000    12.830000    12.770000  1.096135e+05   \n",
       "50%    128.500000  4080.500000    25.925000    25.800000  2.456810e+05   \n",
       "75%    192.750000  4701.750000    57.150000    56.800000  7.564478e+05   \n",
       "max    257.000000  9411.000000  1081.600000  1089.000000  8.974221e+08   \n",
       "\n",
       "           Turnover  Transactions  \n",
       "count  2.580000e+02    258.000000  \n",
       "mean   2.940089e+07   1872.922481  \n",
       "std    9.131151e+07   2763.081675  \n",
       "min    1.031900e+04     12.000000  \n",
       "25%    2.948452e+06    508.500000  \n",
       "50%    9.637432e+06   1137.500000  \n",
       "75%    2.609448e+07   2225.250000  \n",
       "max    1.071074e+09  27539.000000  "
      ]
     },
     "execution_count": 9,
     "metadata": {},
     "output_type": "execute_result"
    }
   ],
   "source": [
    "data.describe()"
   ]
  },
  {
   "cell_type": "code",
   "execution_count": 10,
   "id": "af3fd1d6-0fe6-4364-a2b3-7a61cc610373",
   "metadata": {},
   "outputs": [
    {
     "name": "stdout",
     "output_type": "stream",
     "text": [
      "All values are parsed correctly.\n"
     ]
    }
   ],
   "source": [
    "def extract_low_high(range_str):\n",
    "    numbers = re.findall(r\"[-+]?\\d*\\.\\d+|\\d+\", range_str)\n",
    "    if len(numbers) >= 2:\n",
    "        values = [float(num) for num in numbers]\n",
    "        return min(values), max(values)\n",
    "    elif len(numbers) == 1:\n",
    "        return float(numbers[0]), float(numbers[0])\n",
    "    else:\n",
    "        return None, None\n",
    "\n",
    "# Apply the function to extract values and create new columns\n",
    "data[['52_Week_Low', '52_Week_High']] = data['52 Weeks Range'].apply(lambda x: extract_low_high(x)).apply(pd.Series)\n",
    "problematic_rows = data[data['52_Week_Low'] > data['52_Week_High']]\n",
    "if not problematic_rows.empty:\n",
    "    print(\"Problematic rows found:\")\n",
    "    print(problematic_rows[['Company Name', '52 Weeks Range', '52_Week_Low', '52_Week_High']])\n",
    "else:\n",
    "    print(\"All values are parsed correctly.\")"
   ]
  },
  {
   "cell_type": "code",
   "execution_count": 11,
   "id": "5fe1abc1",
   "metadata": {},
   "outputs": [
    {
     "name": "stdout",
     "output_type": "stream",
     "text": [
      "Available columns:\n",
      "['Unnamed: 0', 'Stock_Id', 'Company Name', '52 Weeks Range', 'Par Value', 'Price', 'Change', 'Change (%)', 'Prev. Close', 'Volume', 'Turnover', 'Transactions', '52_Week_Low', '52_Week_High']\n"
     ]
    }
   ],
   "source": [
    "# Display column names\n",
    "print(\"Available columns:\")\n",
    "print(data.columns.tolist())"
   ]
  },
  {
   "cell_type": "code",
   "execution_count": 12,
   "id": "6c841a34",
   "metadata": {},
   "outputs": [],
   "source": [
    "# Example with possible alternative column names\n",
    "try:\n",
    "    # Try different possible column names\n",
    "    if '52 Week High' in data.columns:\n",
    "        data['Price_Range'] = data['52 Week High'] - data['52 Week Low']\n",
    "    elif '52Week High' in data.columns:\n",
    "        data['Price_Range'] = data['52Week High'] - data['52Week Low']\n",
    "    elif '52_Week_High' in data.columns:\n",
    "        data['Price_Range'] = data['52_Week_High'] - data['52_Week_Low']\n",
    "    else:\n",
    "        print(\"Please provide the correct column names from your data:\")\n",
    "        print(data.columns.tolist())\n",
    "except Exception as e:\n",
    "    print(f\"Error: {e}\")"
   ]
  },
  {
   "cell_type": "code",
   "execution_count": 13,
   "id": "8536dfb8-fc08-49f0-8ff6-9d074693bce8",
   "metadata": {},
   "outputs": [],
   "source": [
    "data['Price_Range'] = data['52_Week_High'] - data['52_Week_Low']"
   ]
  },
  {
   "cell_type": "code",
   "execution_count": 14,
   "id": "a5c8f5fd-32b1-4c1a-b8f9-1ed1dacef43c",
   "metadata": {},
   "outputs": [],
   "source": [
    "def clean_company_name(name):\n",
    "    clean_name = re.split(r'\\sCompanies\\b', name, maxsplit=1)[0]\n",
    "    return clean_name.strip()   \n",
    "data['Company Name'] = data['Company Name'].apply(clean_company_name)"
   ]
  },
  {
   "cell_type": "code",
   "execution_count": 15,
   "id": "8cefabb1-0497-4c83-9bf8-148eaca8bde1",
   "metadata": {},
   "outputs": [],
   "source": [
    "data['Volume'] = pd.to_numeric(data['Volume'], errors='coerce')\n",
    "data['Turnover'] = pd.to_numeric(data['Turnover'], errors='coerce')\n",
    "data['Transactions'] = pd.to_numeric(data['Transactions'], errors='coerce')"
   ]
  },
  {
   "cell_type": "code",
   "execution_count": 16,
   "id": "55ccb1ae-13df-48c2-97a4-e2d7d85023d4",
   "metadata": {},
   "outputs": [],
   "source": [
    "def remove_parentheses(value):\n",
    "    if isinstance(value, str):\n",
    "        return float(value.strip('()'))\n",
    "    return float(value)\n",
    "data['Change'] = data['Change'].apply(remove_parentheses)"
   ]
  },
  {
   "cell_type": "code",
   "execution_count": 17,
   "id": "d50c0a23-62ae-463f-a0fe-cdd4bb0dc9f3",
   "metadata": {},
   "outputs": [],
   "source": [
    "data = data.drop(columns=['Unnamed: 0'])"
   ]
  },
  {
   "cell_type": "code",
   "execution_count": 18,
   "id": "be34f9a7-7fc7-4228-a17b-9904c9f27d53",
   "metadata": {},
   "outputs": [
    {
     "data": {
      "text/html": [
       "<div>\n",
       "<style scoped>\n",
       "    .dataframe tbody tr th:only-of-type {\n",
       "        vertical-align: middle;\n",
       "    }\n",
       "\n",
       "    .dataframe tbody tr th {\n",
       "        vertical-align: top;\n",
       "    }\n",
       "\n",
       "    .dataframe thead th {\n",
       "        text-align: right;\n",
       "    }\n",
       "</style>\n",
       "<table border=\"1\" class=\"dataframe\">\n",
       "  <thead>\n",
       "    <tr style=\"text-align: right;\">\n",
       "      <th></th>\n",
       "      <th>Stock_Id</th>\n",
       "      <th>Company Name</th>\n",
       "      <th>52 Weeks Range</th>\n",
       "      <th>Par Value</th>\n",
       "      <th>Price</th>\n",
       "      <th>Change</th>\n",
       "      <th>Change (%)</th>\n",
       "      <th>Prev. Close</th>\n",
       "      <th>Volume</th>\n",
       "      <th>Turnover</th>\n",
       "      <th>Transactions</th>\n",
       "      <th>52_Week_Low</th>\n",
       "      <th>52_Week_High</th>\n",
       "      <th>Price_Range</th>\n",
       "    </tr>\n",
       "  </thead>\n",
       "  <tbody>\n",
       "  </tbody>\n",
       "</table>\n",
       "</div>"
      ],
      "text/plain": [
       "Empty DataFrame\n",
       "Columns: [Stock_Id, Company Name, 52 Weeks Range, Par Value, Price, Change, Change (%), Prev. Close, Volume, Turnover, Transactions, 52_Week_Low, 52_Week_High, Price_Range]\n",
       "Index: []"
      ]
     },
     "metadata": {},
     "output_type": "display_data"
    }
   ],
   "source": [
    "display(data.head(0))"
   ]
  },
  {
   "cell_type": "markdown",
   "id": "39d17078-18c6-45de-81c3-11888221868d",
   "metadata": {},
   "source": [
    "# Exploratory Data Analysis (EDA)\n",
    " This section provides visual insights into the stock market data to better understand trends, distributions, and key metrics. "
   ]
  },
  {
   "cell_type": "code",
   "execution_count": 19,
   "id": "d9a5156a-9164-4e64-b0a5-d23b134f696c",
   "metadata": {},
   "outputs": [
    {
     "data": {
      "application/vnd.plotly.v1+json": {
       "config": {
        "plotlyServerURL": "https://plot.ly"
       },
       "data": [
        {
         "alignmentgroup": "True",
         "hovertemplate": "Company Name=%{x}<br>Price=%{y}<extra></extra>",
         "legendgroup": "",
         "marker": {
          "color": "#636efa",
          "pattern": {
           "shape": ""
          }
         },
         "name": "",
         "offsetgroup": "",
         "orientation": "v",
         "showlegend": false,
         "textposition": "auto",
         "type": "bar",
         "x": [
          "ELM",
          "ACWA POWER",
          "SADAFCO",
          "SULAIMAN ALHABIB",
          "SAL",
          "SRMG",
          "SOLUTIONS",
          "TADAWUL GROUP",
          "NCLE",
          "MIS"
         ],
         "xaxis": "x",
         "y": [
          1081.6,
          441.2,
          352,
          283.4,
          277.4,
          268.4,
          262.6,
          245,
          215.2,
          194.4
         ],
         "yaxis": "y"
        }
       ],
       "layout": {
        "barmode": "relative",
        "legend": {
         "tracegroupgap": 0
        },
        "template": {
         "data": {
          "bar": [
           {
            "error_x": {
             "color": "#2a3f5f"
            },
            "error_y": {
             "color": "#2a3f5f"
            },
            "marker": {
             "line": {
              "color": "#E5ECF6",
              "width": 0.5
             },
             "pattern": {
              "fillmode": "overlay",
              "size": 10,
              "solidity": 0.2
             }
            },
            "type": "bar"
           }
          ],
          "barpolar": [
           {
            "marker": {
             "line": {
              "color": "#E5ECF6",
              "width": 0.5
             },
             "pattern": {
              "fillmode": "overlay",
              "size": 10,
              "solidity": 0.2
             }
            },
            "type": "barpolar"
           }
          ],
          "carpet": [
           {
            "aaxis": {
             "endlinecolor": "#2a3f5f",
             "gridcolor": "white",
             "linecolor": "white",
             "minorgridcolor": "white",
             "startlinecolor": "#2a3f5f"
            },
            "baxis": {
             "endlinecolor": "#2a3f5f",
             "gridcolor": "white",
             "linecolor": "white",
             "minorgridcolor": "white",
             "startlinecolor": "#2a3f5f"
            },
            "type": "carpet"
           }
          ],
          "choropleth": [
           {
            "colorbar": {
             "outlinewidth": 0,
             "ticks": ""
            },
            "type": "choropleth"
           }
          ],
          "contour": [
           {
            "colorbar": {
             "outlinewidth": 0,
             "ticks": ""
            },
            "colorscale": [
             [
              0,
              "#0d0887"
             ],
             [
              0.1111111111111111,
              "#46039f"
             ],
             [
              0.2222222222222222,
              "#7201a8"
             ],
             [
              0.3333333333333333,
              "#9c179e"
             ],
             [
              0.4444444444444444,
              "#bd3786"
             ],
             [
              0.5555555555555556,
              "#d8576b"
             ],
             [
              0.6666666666666666,
              "#ed7953"
             ],
             [
              0.7777777777777778,
              "#fb9f3a"
             ],
             [
              0.8888888888888888,
              "#fdca26"
             ],
             [
              1,
              "#f0f921"
             ]
            ],
            "type": "contour"
           }
          ],
          "contourcarpet": [
           {
            "colorbar": {
             "outlinewidth": 0,
             "ticks": ""
            },
            "type": "contourcarpet"
           }
          ],
          "heatmap": [
           {
            "colorbar": {
             "outlinewidth": 0,
             "ticks": ""
            },
            "colorscale": [
             [
              0,
              "#0d0887"
             ],
             [
              0.1111111111111111,
              "#46039f"
             ],
             [
              0.2222222222222222,
              "#7201a8"
             ],
             [
              0.3333333333333333,
              "#9c179e"
             ],
             [
              0.4444444444444444,
              "#bd3786"
             ],
             [
              0.5555555555555556,
              "#d8576b"
             ],
             [
              0.6666666666666666,
              "#ed7953"
             ],
             [
              0.7777777777777778,
              "#fb9f3a"
             ],
             [
              0.8888888888888888,
              "#fdca26"
             ],
             [
              1,
              "#f0f921"
             ]
            ],
            "type": "heatmap"
           }
          ],
          "heatmapgl": [
           {
            "colorbar": {
             "outlinewidth": 0,
             "ticks": ""
            },
            "colorscale": [
             [
              0,
              "#0d0887"
             ],
             [
              0.1111111111111111,
              "#46039f"
             ],
             [
              0.2222222222222222,
              "#7201a8"
             ],
             [
              0.3333333333333333,
              "#9c179e"
             ],
             [
              0.4444444444444444,
              "#bd3786"
             ],
             [
              0.5555555555555556,
              "#d8576b"
             ],
             [
              0.6666666666666666,
              "#ed7953"
             ],
             [
              0.7777777777777778,
              "#fb9f3a"
             ],
             [
              0.8888888888888888,
              "#fdca26"
             ],
             [
              1,
              "#f0f921"
             ]
            ],
            "type": "heatmapgl"
           }
          ],
          "histogram": [
           {
            "marker": {
             "pattern": {
              "fillmode": "overlay",
              "size": 10,
              "solidity": 0.2
             }
            },
            "type": "histogram"
           }
          ],
          "histogram2d": [
           {
            "colorbar": {
             "outlinewidth": 0,
             "ticks": ""
            },
            "colorscale": [
             [
              0,
              "#0d0887"
             ],
             [
              0.1111111111111111,
              "#46039f"
             ],
             [
              0.2222222222222222,
              "#7201a8"
             ],
             [
              0.3333333333333333,
              "#9c179e"
             ],
             [
              0.4444444444444444,
              "#bd3786"
             ],
             [
              0.5555555555555556,
              "#d8576b"
             ],
             [
              0.6666666666666666,
              "#ed7953"
             ],
             [
              0.7777777777777778,
              "#fb9f3a"
             ],
             [
              0.8888888888888888,
              "#fdca26"
             ],
             [
              1,
              "#f0f921"
             ]
            ],
            "type": "histogram2d"
           }
          ],
          "histogram2dcontour": [
           {
            "colorbar": {
             "outlinewidth": 0,
             "ticks": ""
            },
            "colorscale": [
             [
              0,
              "#0d0887"
             ],
             [
              0.1111111111111111,
              "#46039f"
             ],
             [
              0.2222222222222222,
              "#7201a8"
             ],
             [
              0.3333333333333333,
              "#9c179e"
             ],
             [
              0.4444444444444444,
              "#bd3786"
             ],
             [
              0.5555555555555556,
              "#d8576b"
             ],
             [
              0.6666666666666666,
              "#ed7953"
             ],
             [
              0.7777777777777778,
              "#fb9f3a"
             ],
             [
              0.8888888888888888,
              "#fdca26"
             ],
             [
              1,
              "#f0f921"
             ]
            ],
            "type": "histogram2dcontour"
           }
          ],
          "mesh3d": [
           {
            "colorbar": {
             "outlinewidth": 0,
             "ticks": ""
            },
            "type": "mesh3d"
           }
          ],
          "parcoords": [
           {
            "line": {
             "colorbar": {
              "outlinewidth": 0,
              "ticks": ""
             }
            },
            "type": "parcoords"
           }
          ],
          "pie": [
           {
            "automargin": true,
            "type": "pie"
           }
          ],
          "scatter": [
           {
            "fillpattern": {
             "fillmode": "overlay",
             "size": 10,
             "solidity": 0.2
            },
            "type": "scatter"
           }
          ],
          "scatter3d": [
           {
            "line": {
             "colorbar": {
              "outlinewidth": 0,
              "ticks": ""
             }
            },
            "marker": {
             "colorbar": {
              "outlinewidth": 0,
              "ticks": ""
             }
            },
            "type": "scatter3d"
           }
          ],
          "scattercarpet": [
           {
            "marker": {
             "colorbar": {
              "outlinewidth": 0,
              "ticks": ""
             }
            },
            "type": "scattercarpet"
           }
          ],
          "scattergeo": [
           {
            "marker": {
             "colorbar": {
              "outlinewidth": 0,
              "ticks": ""
             }
            },
            "type": "scattergeo"
           }
          ],
          "scattergl": [
           {
            "marker": {
             "colorbar": {
              "outlinewidth": 0,
              "ticks": ""
             }
            },
            "type": "scattergl"
           }
          ],
          "scattermapbox": [
           {
            "marker": {
             "colorbar": {
              "outlinewidth": 0,
              "ticks": ""
             }
            },
            "type": "scattermapbox"
           }
          ],
          "scatterpolar": [
           {
            "marker": {
             "colorbar": {
              "outlinewidth": 0,
              "ticks": ""
             }
            },
            "type": "scatterpolar"
           }
          ],
          "scatterpolargl": [
           {
            "marker": {
             "colorbar": {
              "outlinewidth": 0,
              "ticks": ""
             }
            },
            "type": "scatterpolargl"
           }
          ],
          "scatterternary": [
           {
            "marker": {
             "colorbar": {
              "outlinewidth": 0,
              "ticks": ""
             }
            },
            "type": "scatterternary"
           }
          ],
          "surface": [
           {
            "colorbar": {
             "outlinewidth": 0,
             "ticks": ""
            },
            "colorscale": [
             [
              0,
              "#0d0887"
             ],
             [
              0.1111111111111111,
              "#46039f"
             ],
             [
              0.2222222222222222,
              "#7201a8"
             ],
             [
              0.3333333333333333,
              "#9c179e"
             ],
             [
              0.4444444444444444,
              "#bd3786"
             ],
             [
              0.5555555555555556,
              "#d8576b"
             ],
             [
              0.6666666666666666,
              "#ed7953"
             ],
             [
              0.7777777777777778,
              "#fb9f3a"
             ],
             [
              0.8888888888888888,
              "#fdca26"
             ],
             [
              1,
              "#f0f921"
             ]
            ],
            "type": "surface"
           }
          ],
          "table": [
           {
            "cells": {
             "fill": {
              "color": "#EBF0F8"
             },
             "line": {
              "color": "white"
             }
            },
            "header": {
             "fill": {
              "color": "#C8D4E3"
             },
             "line": {
              "color": "white"
             }
            },
            "type": "table"
           }
          ]
         },
         "layout": {
          "annotationdefaults": {
           "arrowcolor": "#2a3f5f",
           "arrowhead": 0,
           "arrowwidth": 1
          },
          "autotypenumbers": "strict",
          "coloraxis": {
           "colorbar": {
            "outlinewidth": 0,
            "ticks": ""
           }
          },
          "colorscale": {
           "diverging": [
            [
             0,
             "#8e0152"
            ],
            [
             0.1,
             "#c51b7d"
            ],
            [
             0.2,
             "#de77ae"
            ],
            [
             0.3,
             "#f1b6da"
            ],
            [
             0.4,
             "#fde0ef"
            ],
            [
             0.5,
             "#f7f7f7"
            ],
            [
             0.6,
             "#e6f5d0"
            ],
            [
             0.7,
             "#b8e186"
            ],
            [
             0.8,
             "#7fbc41"
            ],
            [
             0.9,
             "#4d9221"
            ],
            [
             1,
             "#276419"
            ]
           ],
           "sequential": [
            [
             0,
             "#0d0887"
            ],
            [
             0.1111111111111111,
             "#46039f"
            ],
            [
             0.2222222222222222,
             "#7201a8"
            ],
            [
             0.3333333333333333,
             "#9c179e"
            ],
            [
             0.4444444444444444,
             "#bd3786"
            ],
            [
             0.5555555555555556,
             "#d8576b"
            ],
            [
             0.6666666666666666,
             "#ed7953"
            ],
            [
             0.7777777777777778,
             "#fb9f3a"
            ],
            [
             0.8888888888888888,
             "#fdca26"
            ],
            [
             1,
             "#f0f921"
            ]
           ],
           "sequentialminus": [
            [
             0,
             "#0d0887"
            ],
            [
             0.1111111111111111,
             "#46039f"
            ],
            [
             0.2222222222222222,
             "#7201a8"
            ],
            [
             0.3333333333333333,
             "#9c179e"
            ],
            [
             0.4444444444444444,
             "#bd3786"
            ],
            [
             0.5555555555555556,
             "#d8576b"
            ],
            [
             0.6666666666666666,
             "#ed7953"
            ],
            [
             0.7777777777777778,
             "#fb9f3a"
            ],
            [
             0.8888888888888888,
             "#fdca26"
            ],
            [
             1,
             "#f0f921"
            ]
           ]
          },
          "colorway": [
           "#636efa",
           "#EF553B",
           "#00cc96",
           "#ab63fa",
           "#FFA15A",
           "#19d3f3",
           "#FF6692",
           "#B6E880",
           "#FF97FF",
           "#FECB52"
          ],
          "font": {
           "color": "#2a3f5f"
          },
          "geo": {
           "bgcolor": "white",
           "lakecolor": "white",
           "landcolor": "#E5ECF6",
           "showlakes": true,
           "showland": true,
           "subunitcolor": "white"
          },
          "hoverlabel": {
           "align": "left"
          },
          "hovermode": "closest",
          "mapbox": {
           "style": "light"
          },
          "paper_bgcolor": "white",
          "plot_bgcolor": "#E5ECF6",
          "polar": {
           "angularaxis": {
            "gridcolor": "white",
            "linecolor": "white",
            "ticks": ""
           },
           "bgcolor": "#E5ECF6",
           "radialaxis": {
            "gridcolor": "white",
            "linecolor": "white",
            "ticks": ""
           }
          },
          "scene": {
           "xaxis": {
            "backgroundcolor": "#E5ECF6",
            "gridcolor": "white",
            "gridwidth": 2,
            "linecolor": "white",
            "showbackground": true,
            "ticks": "",
            "zerolinecolor": "white"
           },
           "yaxis": {
            "backgroundcolor": "#E5ECF6",
            "gridcolor": "white",
            "gridwidth": 2,
            "linecolor": "white",
            "showbackground": true,
            "ticks": "",
            "zerolinecolor": "white"
           },
           "zaxis": {
            "backgroundcolor": "#E5ECF6",
            "gridcolor": "white",
            "gridwidth": 2,
            "linecolor": "white",
            "showbackground": true,
            "ticks": "",
            "zerolinecolor": "white"
           }
          },
          "shapedefaults": {
           "line": {
            "color": "#2a3f5f"
           }
          },
          "ternary": {
           "aaxis": {
            "gridcolor": "white",
            "linecolor": "white",
            "ticks": ""
           },
           "baxis": {
            "gridcolor": "white",
            "linecolor": "white",
            "ticks": ""
           },
           "bgcolor": "#E5ECF6",
           "caxis": {
            "gridcolor": "white",
            "linecolor": "white",
            "ticks": ""
           }
          },
          "title": {
           "x": 0.05
          },
          "xaxis": {
           "automargin": true,
           "gridcolor": "white",
           "linecolor": "white",
           "ticks": "",
           "title": {
            "standoff": 15
           },
           "zerolinecolor": "white",
           "zerolinewidth": 2
          },
          "yaxis": {
           "automargin": true,
           "gridcolor": "white",
           "linecolor": "white",
           "ticks": "",
           "title": {
            "standoff": 15
           },
           "zerolinecolor": "white",
           "zerolinewidth": 2
          }
         }
        },
        "title": {
         "text": "Top 10 Stock Prices by Company"
        },
        "xaxis": {
         "anchor": "y",
         "domain": [
          0,
          1
         ],
         "title": {
          "text": "Company Name"
         }
        },
        "yaxis": {
         "anchor": "x",
         "domain": [
          0,
          1
         ],
         "title": {
          "text": "Price"
         }
        }
       }
      }
     },
     "metadata": {},
     "output_type": "display_data"
    }
   ],
   "source": [
    "top_10_data = data.sort_values(by='Price', ascending=False).head(10)\n",
    "fig = px.bar(top_10_data, x='Company Name', y='Price', title='Top 10 Stock Prices by Company')\n",
    "fig.show()"
   ]
  },
  {
   "cell_type": "code",
   "execution_count": 20,
   "id": "9b3e47eb-2264-43c1-81ef-79a90f4454a6",
   "metadata": {},
   "outputs": [
    {
     "data": {
      "application/vnd.plotly.v1+json": {
       "config": {
        "plotlyServerURL": "https://plot.ly"
       },
       "data": [
        {
         "hovertemplate": "Stock ID=%{x}<br>Price=%{y}<br>Change=%{marker.color}<extra></extra>",
         "legendgroup": "",
         "marker": {
          "color": [
           0.45,
           1.4,
           0.06,
           0.13,
           0.1,
           1.2,
           0.4,
           0.5,
           0.05,
           0.02,
           1.6,
           0.03,
           0.02,
           0.2,
           0.2,
           0.12,
           0.1,
           0,
           0.12,
           0.1,
           0.1,
           0.1,
           0,
           1.4,
           0,
           0.9,
           0.04,
           0,
           0.25,
           0.1,
           0.3,
           0.6,
           0.4,
           2.3,
           1,
           0.55,
           0.18,
           0.4,
           0.06,
           0.28,
           0.07,
           0.6,
           0.5,
           0.3,
           1,
           0.7,
           0.5,
           0.7,
           0.24,
           0.04,
           0.08,
           0.9,
           2.4,
           0.2,
           0.04,
           1.2,
           0.15,
           0.55,
           0.05,
           0.52,
           0.8,
           2.4,
           0.15,
           0.08,
           0.95,
           0.7,
           0.1,
           0.12,
           2.2,
           0.6,
           0.04,
           0.14,
           0.16,
           1.3,
           1,
           4.9,
           0.4,
           4.6,
           0.3,
           0.01,
           0.04,
           0.04,
           0.3,
           3.3,
           0.14,
           0.4,
           0,
           0.09,
           0.08,
           0.44,
           3.2,
           0.03,
           2.4,
           5.8,
           0.5,
           0.36,
           2.2,
           0.35,
           0.22,
           0.4,
           2.4,
           0.25,
           0.24,
           0.08,
           3,
           1.1,
           0.02,
           0.08,
           0.25,
           0.6,
           0,
           0.02,
           2.4,
           1.4,
           0.7,
           1.2,
           0.06,
           0.02,
           1.5,
           0.3,
           0.6,
           0.15,
           1.2,
           0.01,
           0.2,
           0.08,
           0.02,
           0.16,
           0.48,
           1.6,
           0.06,
           1,
           0,
           0.25,
           1,
           0.3,
           0.32,
           0.4,
           1.1,
           0.02,
           1,
           0.4,
           0.7,
           2.2,
           0.05,
           0.1,
           0.22,
           0,
           1.6,
           1.8,
           0.45,
           0.16,
           0.04,
           0.05,
           0.6,
           0.2,
           1.8,
           0.45,
           0.1,
           0,
           0.08,
           0.3,
           0.16,
           2.8,
           0.08,
           0,
           0.15,
           0.12,
           5.2,
           0.4,
           0,
           0.42,
           0.36,
           0.18,
           0.02,
           0.4,
           0,
           0.38,
           0.12,
           0.16,
           0.16,
           0.08,
           0.08,
           0,
           0.45,
           1.6,
           1.2,
           0.2,
           0.15,
           0.08,
           0.18,
           0.16,
           0.7,
           0.12,
           0.3,
           0.15,
           0.1,
           0.1,
           1.6,
           0.6,
           0.22,
           1.85,
           1.6,
           13.4,
           1.3,
           0.01,
           0.04,
           0,
           0.02,
           0.04,
           0,
           0.03,
           0.04,
           0.02,
           0.1,
           0.01,
           0.09,
           0.02,
           0.16,
           0.01,
           0.02,
           0.01,
           0.07,
           0.12,
           0.16,
           0.2,
           1.4,
           0.75,
           0.1,
           0,
           0.28,
           0.04,
           0,
           0.34,
           0.14,
           0.5,
           0,
           8,
           0.07,
           2.2,
           7.4,
           0.22,
           1.4,
           0.35,
           0.08,
           0.01,
           0.04,
           0.15,
           0.05,
           0,
           0.19,
           0,
           0.57,
           0.04,
           0.01,
           0.01,
           0.06,
           1.18
          ],
          "coloraxis": "coloraxis",
          "symbol": "circle"
         },
         "mode": "markers",
         "name": "",
         "orientation": "v",
         "showlegend": false,
         "type": "scatter",
         "x": [
          2222,
          2381,
          2382,
          2380,
          4030,
          4200,
          2030,
          1202,
          3007,
          1201,
          1322,
          3008,
          2001,
          2010,
          2020,
          2060,
          2170,
          2210,
          2250,
          2290,
          2310,
          2330,
          2350,
          2223,
          1301,
          1320,
          2090,
          2200,
          2240,
          2360,
          1304,
          1321,
          1210,
          1211,
          2150,
          2180,
          2220,
          2300,
          3002,
          3003,
          3004,
          3010,
          3020,
          3030,
          3040,
          3050,
          3060,
          3080,
          3090,
          3091,
          3005,
          3092,
          4142,
          2160,
          4140,
          1212,
          1302,
          2370,
          1303,
          1214,
          2320,
          2110,
          2040,
          4110,
          4141,
          4143,
          4270,
          1831,
          6004,
          1833,
          1832,
          1834,
          4040,
          4260,
          4031,
          4261,
          4262,
          4263,
          2190,
          4180,
          4012,
          4011,
          2130,
          1213,
          2340,
          1810,
          4170,
          1820,
          6002,
          6016,
          6013,
          6015,
          1830,
          4291,
          4292,
          6012,
          6014,
          4290,
          4070,
          4210,
          4071,
          4072,
          4240,
          4190,
          4003,
          4050,
          4192,
          4051,
          4191,
          4008,
          4001,
          4161,
          4162,
          4164,
          4163,
          4160,
          4006,
          4061,
          6001,
          2282,
          2283,
          2284,
          2285,
          2286,
          6010,
          6020,
          6040,
          6050,
          6060,
          6070,
          6090,
          2281,
          2050,
          2100,
          2270,
          2280,
          4080,
          4014,
          4017,
          2140,
          4013,
          4005,
          4002,
          4004,
          4007,
          4009,
          2230,
          2070,
          4015,
          4016,
          1010,
          1020,
          1030,
          1050,
          1060,
          1080,
          1120,
          1140,
          1150,
          1180,
          1183,
          1182,
          4081,
          1111,
          4082,
          4130,
          2120,
          4280,
          8313,
          8010,
          8020,
          8030,
          8060,
          8040,
          8070,
          8050,
          8100,
          8012,
          8120,
          8150,
          8160,
          8170,
          8180,
          8190,
          8200,
          8210,
          8230,
          8240,
          8250,
          8260,
          8270,
          8280,
          8300,
          8310,
          8311,
          7010,
          7020,
          7030,
          7040,
          2080,
          5110,
          2084,
          2081,
          2082,
          2083,
          4330,
          4331,
          4332,
          4333,
          4334,
          4335,
          4336,
          4337,
          4338,
          4344,
          4339,
          4340,
          4345,
          4342,
          4346,
          4347,
          4348,
          4349,
          4350,
          4020,
          4090,
          4100,
          4150,
          4220,
          4250,
          4300,
          4310,
          4320,
          4321,
          4322,
          4323,
          4230,
          7200,
          7201,
          7202,
          7203,
          7204,
          4165,
          9406,
          9402,
          9403,
          4701,
          9400,
          9401,
          9404,
          9405,
          4700,
          9407,
          9408,
          4702,
          4703,
          9410,
          9411
         ],
         "xaxis": "x",
         "y": [
          28,
          110.2,
          19.74,
          8.37,
          28.35,
          135.4,
          76.3,
          38.9,
          34.05,
          11.4,
          71.9,
          2.69,
          17.98,
          72.3,
          116.4,
          10.92,
          39.9,
          25.5,
          17.98,
          39.9,
          26.35,
          35.9,
          7.77,
          116.4,
          31.7,
          70.2,
          22.6,
          121.6,
          28.4,
          40.35,
          33.15,
          160,
          30.65,
          53.9,
          53.5,
          45.15,
          17.86,
          67.7,
          9.18,
          17.8,
          9.03,
          26.45,
          31.3,
          40.9,
          53.5,
          33.65,
          23.94,
          32.75,
          12.92,
          10.18,
          17.88,
          29.85,
          117.4,
          33,
          2.46,
          171.6,
          44.5,
          39.2,
          8.59,
          24.98,
          43.1,
          80.3,
          34.2,
          3.81,
          38.7,
          58.4,
          13.7,
          7.37,
          126.2,
          111,
          3.45,
          8.31,
          22.18,
          82.7,
          51.2,
          79.3,
          74.3,
          277.4,
          29.8,
          4.04,
          4.64,
          13.78,
          27.6,
          80.1,
          16.04,
          23.2,
          1.01,
          2.74,
          23.94,
          21.1,
          129.8,
          2.45,
          186.6,
          215.2,
          74.4,
          24.82,
          80.8,
          29.05,
          15.34,
          268.4,
          169.6,
          46.65,
          12.8,
          13.32,
          102,
          78.6,
          7.93,
          6.33,
          29.5,
          32.2,
          11.24,
          7.01,
          103.8,
          124.2,
          88.3,
          40.6,
          22.72,
          1.29,
          59,
          62,
          63.4,
          42.95,
          53.8,
          4.86,
          26.1,
          18.12,
          16.28,
          23.5,
          20.7,
          67.8,
          13.6,
          137.6,
          25.75,
          40.5,
          352,
          56.1,
          14.18,
          54.9,
          58.1,
          14,
          283.4,
          184.6,
          93.8,
          155.4,
          40.4,
          72,
          11,
          33,
          164.4,
          130.6,
          26.3,
          16.86,
          13.3,
          31.9,
          34.45,
          19.6,
          92.7,
          37.5,
          28.4,
          32.65,
          17.28,
          13.18,
          14.92,
          245,
          11.54,
          0.33,
          37.2,
          10.36,
          78.1,
          134.6,
          15.1,
          20.56,
          21.66,
          14.8,
          18.94,
          23.24,
          14.8,
          16.5,
          15.44,
          13.7,
          12.8,
          18.66,
          17.36,
          9.75,
          36.05,
          189.6,
          170,
          49.6,
          29.45,
          10.66,
          18.66,
          17.4,
          23.7,
          10.72,
          14.2,
          42.15,
          52.1,
          10.58,
          115,
          105.8,
          17.04,
          29.25,
          164.6,
          441.2,
          57.5,
          6.58,
          15.98,
          5.97,
          10.94,
          9.39,
          4.97,
          5.53,
          4.12,
          7.24,
          8.3,
          6.2,
          8.54,
          4.88,
          11.24,
          4.23,
          9.36,
          5.97,
          8.53,
          10.04,
          24.84,
          43,
          115.2,
          27.95,
          8.41,
          21.5,
          16.9,
          14.12,
          23.7,
          21.24,
          15.52,
          39.65,
          77,
          194.4,
          7.27,
          262.6,
          1081.6,
          14.64,
          152.6,
          12.01,
          46.73,
          8.13,
          8.66,
          51.15,
          29.03,
          10.64,
          14.18,
          6.25,
          18.24,
          10.65,
          7.3,
          6.76,
          9.93,
          10.62
         ],
         "yaxis": "y"
        }
       ],
       "layout": {
        "coloraxis": {
         "colorbar": {
          "title": {
           "text": "Change"
          }
         },
         "colorscale": [
          [
           0,
           "#0d0887"
          ],
          [
           0.1111111111111111,
           "#46039f"
          ],
          [
           0.2222222222222222,
           "#7201a8"
          ],
          [
           0.3333333333333333,
           "#9c179e"
          ],
          [
           0.4444444444444444,
           "#bd3786"
          ],
          [
           0.5555555555555556,
           "#d8576b"
          ],
          [
           0.6666666666666666,
           "#ed7953"
          ],
          [
           0.7777777777777778,
           "#fb9f3a"
          ],
          [
           0.8888888888888888,
           "#fdca26"
          ],
          [
           1,
           "#f0f921"
          ]
         ]
        },
        "legend": {
         "tracegroupgap": 0
        },
        "template": {
         "data": {
          "bar": [
           {
            "error_x": {
             "color": "#2a3f5f"
            },
            "error_y": {
             "color": "#2a3f5f"
            },
            "marker": {
             "line": {
              "color": "#E5ECF6",
              "width": 0.5
             },
             "pattern": {
              "fillmode": "overlay",
              "size": 10,
              "solidity": 0.2
             }
            },
            "type": "bar"
           }
          ],
          "barpolar": [
           {
            "marker": {
             "line": {
              "color": "#E5ECF6",
              "width": 0.5
             },
             "pattern": {
              "fillmode": "overlay",
              "size": 10,
              "solidity": 0.2
             }
            },
            "type": "barpolar"
           }
          ],
          "carpet": [
           {
            "aaxis": {
             "endlinecolor": "#2a3f5f",
             "gridcolor": "white",
             "linecolor": "white",
             "minorgridcolor": "white",
             "startlinecolor": "#2a3f5f"
            },
            "baxis": {
             "endlinecolor": "#2a3f5f",
             "gridcolor": "white",
             "linecolor": "white",
             "minorgridcolor": "white",
             "startlinecolor": "#2a3f5f"
            },
            "type": "carpet"
           }
          ],
          "choropleth": [
           {
            "colorbar": {
             "outlinewidth": 0,
             "ticks": ""
            },
            "type": "choropleth"
           }
          ],
          "contour": [
           {
            "colorbar": {
             "outlinewidth": 0,
             "ticks": ""
            },
            "colorscale": [
             [
              0,
              "#0d0887"
             ],
             [
              0.1111111111111111,
              "#46039f"
             ],
             [
              0.2222222222222222,
              "#7201a8"
             ],
             [
              0.3333333333333333,
              "#9c179e"
             ],
             [
              0.4444444444444444,
              "#bd3786"
             ],
             [
              0.5555555555555556,
              "#d8576b"
             ],
             [
              0.6666666666666666,
              "#ed7953"
             ],
             [
              0.7777777777777778,
              "#fb9f3a"
             ],
             [
              0.8888888888888888,
              "#fdca26"
             ],
             [
              1,
              "#f0f921"
             ]
            ],
            "type": "contour"
           }
          ],
          "contourcarpet": [
           {
            "colorbar": {
             "outlinewidth": 0,
             "ticks": ""
            },
            "type": "contourcarpet"
           }
          ],
          "heatmap": [
           {
            "colorbar": {
             "outlinewidth": 0,
             "ticks": ""
            },
            "colorscale": [
             [
              0,
              "#0d0887"
             ],
             [
              0.1111111111111111,
              "#46039f"
             ],
             [
              0.2222222222222222,
              "#7201a8"
             ],
             [
              0.3333333333333333,
              "#9c179e"
             ],
             [
              0.4444444444444444,
              "#bd3786"
             ],
             [
              0.5555555555555556,
              "#d8576b"
             ],
             [
              0.6666666666666666,
              "#ed7953"
             ],
             [
              0.7777777777777778,
              "#fb9f3a"
             ],
             [
              0.8888888888888888,
              "#fdca26"
             ],
             [
              1,
              "#f0f921"
             ]
            ],
            "type": "heatmap"
           }
          ],
          "heatmapgl": [
           {
            "colorbar": {
             "outlinewidth": 0,
             "ticks": ""
            },
            "colorscale": [
             [
              0,
              "#0d0887"
             ],
             [
              0.1111111111111111,
              "#46039f"
             ],
             [
              0.2222222222222222,
              "#7201a8"
             ],
             [
              0.3333333333333333,
              "#9c179e"
             ],
             [
              0.4444444444444444,
              "#bd3786"
             ],
             [
              0.5555555555555556,
              "#d8576b"
             ],
             [
              0.6666666666666666,
              "#ed7953"
             ],
             [
              0.7777777777777778,
              "#fb9f3a"
             ],
             [
              0.8888888888888888,
              "#fdca26"
             ],
             [
              1,
              "#f0f921"
             ]
            ],
            "type": "heatmapgl"
           }
          ],
          "histogram": [
           {
            "marker": {
             "pattern": {
              "fillmode": "overlay",
              "size": 10,
              "solidity": 0.2
             }
            },
            "type": "histogram"
           }
          ],
          "histogram2d": [
           {
            "colorbar": {
             "outlinewidth": 0,
             "ticks": ""
            },
            "colorscale": [
             [
              0,
              "#0d0887"
             ],
             [
              0.1111111111111111,
              "#46039f"
             ],
             [
              0.2222222222222222,
              "#7201a8"
             ],
             [
              0.3333333333333333,
              "#9c179e"
             ],
             [
              0.4444444444444444,
              "#bd3786"
             ],
             [
              0.5555555555555556,
              "#d8576b"
             ],
             [
              0.6666666666666666,
              "#ed7953"
             ],
             [
              0.7777777777777778,
              "#fb9f3a"
             ],
             [
              0.8888888888888888,
              "#fdca26"
             ],
             [
              1,
              "#f0f921"
             ]
            ],
            "type": "histogram2d"
           }
          ],
          "histogram2dcontour": [
           {
            "colorbar": {
             "outlinewidth": 0,
             "ticks": ""
            },
            "colorscale": [
             [
              0,
              "#0d0887"
             ],
             [
              0.1111111111111111,
              "#46039f"
             ],
             [
              0.2222222222222222,
              "#7201a8"
             ],
             [
              0.3333333333333333,
              "#9c179e"
             ],
             [
              0.4444444444444444,
              "#bd3786"
             ],
             [
              0.5555555555555556,
              "#d8576b"
             ],
             [
              0.6666666666666666,
              "#ed7953"
             ],
             [
              0.7777777777777778,
              "#fb9f3a"
             ],
             [
              0.8888888888888888,
              "#fdca26"
             ],
             [
              1,
              "#f0f921"
             ]
            ],
            "type": "histogram2dcontour"
           }
          ],
          "mesh3d": [
           {
            "colorbar": {
             "outlinewidth": 0,
             "ticks": ""
            },
            "type": "mesh3d"
           }
          ],
          "parcoords": [
           {
            "line": {
             "colorbar": {
              "outlinewidth": 0,
              "ticks": ""
             }
            },
            "type": "parcoords"
           }
          ],
          "pie": [
           {
            "automargin": true,
            "type": "pie"
           }
          ],
          "scatter": [
           {
            "fillpattern": {
             "fillmode": "overlay",
             "size": 10,
             "solidity": 0.2
            },
            "type": "scatter"
           }
          ],
          "scatter3d": [
           {
            "line": {
             "colorbar": {
              "outlinewidth": 0,
              "ticks": ""
             }
            },
            "marker": {
             "colorbar": {
              "outlinewidth": 0,
              "ticks": ""
             }
            },
            "type": "scatter3d"
           }
          ],
          "scattercarpet": [
           {
            "marker": {
             "colorbar": {
              "outlinewidth": 0,
              "ticks": ""
             }
            },
            "type": "scattercarpet"
           }
          ],
          "scattergeo": [
           {
            "marker": {
             "colorbar": {
              "outlinewidth": 0,
              "ticks": ""
             }
            },
            "type": "scattergeo"
           }
          ],
          "scattergl": [
           {
            "marker": {
             "colorbar": {
              "outlinewidth": 0,
              "ticks": ""
             }
            },
            "type": "scattergl"
           }
          ],
          "scattermapbox": [
           {
            "marker": {
             "colorbar": {
              "outlinewidth": 0,
              "ticks": ""
             }
            },
            "type": "scattermapbox"
           }
          ],
          "scatterpolar": [
           {
            "marker": {
             "colorbar": {
              "outlinewidth": 0,
              "ticks": ""
             }
            },
            "type": "scatterpolar"
           }
          ],
          "scatterpolargl": [
           {
            "marker": {
             "colorbar": {
              "outlinewidth": 0,
              "ticks": ""
             }
            },
            "type": "scatterpolargl"
           }
          ],
          "scatterternary": [
           {
            "marker": {
             "colorbar": {
              "outlinewidth": 0,
              "ticks": ""
             }
            },
            "type": "scatterternary"
           }
          ],
          "surface": [
           {
            "colorbar": {
             "outlinewidth": 0,
             "ticks": ""
            },
            "colorscale": [
             [
              0,
              "#0d0887"
             ],
             [
              0.1111111111111111,
              "#46039f"
             ],
             [
              0.2222222222222222,
              "#7201a8"
             ],
             [
              0.3333333333333333,
              "#9c179e"
             ],
             [
              0.4444444444444444,
              "#bd3786"
             ],
             [
              0.5555555555555556,
              "#d8576b"
             ],
             [
              0.6666666666666666,
              "#ed7953"
             ],
             [
              0.7777777777777778,
              "#fb9f3a"
             ],
             [
              0.8888888888888888,
              "#fdca26"
             ],
             [
              1,
              "#f0f921"
             ]
            ],
            "type": "surface"
           }
          ],
          "table": [
           {
            "cells": {
             "fill": {
              "color": "#EBF0F8"
             },
             "line": {
              "color": "white"
             }
            },
            "header": {
             "fill": {
              "color": "#C8D4E3"
             },
             "line": {
              "color": "white"
             }
            },
            "type": "table"
           }
          ]
         },
         "layout": {
          "annotationdefaults": {
           "arrowcolor": "#2a3f5f",
           "arrowhead": 0,
           "arrowwidth": 1
          },
          "autotypenumbers": "strict",
          "coloraxis": {
           "colorbar": {
            "outlinewidth": 0,
            "ticks": ""
           }
          },
          "colorscale": {
           "diverging": [
            [
             0,
             "#8e0152"
            ],
            [
             0.1,
             "#c51b7d"
            ],
            [
             0.2,
             "#de77ae"
            ],
            [
             0.3,
             "#f1b6da"
            ],
            [
             0.4,
             "#fde0ef"
            ],
            [
             0.5,
             "#f7f7f7"
            ],
            [
             0.6,
             "#e6f5d0"
            ],
            [
             0.7,
             "#b8e186"
            ],
            [
             0.8,
             "#7fbc41"
            ],
            [
             0.9,
             "#4d9221"
            ],
            [
             1,
             "#276419"
            ]
           ],
           "sequential": [
            [
             0,
             "#0d0887"
            ],
            [
             0.1111111111111111,
             "#46039f"
            ],
            [
             0.2222222222222222,
             "#7201a8"
            ],
            [
             0.3333333333333333,
             "#9c179e"
            ],
            [
             0.4444444444444444,
             "#bd3786"
            ],
            [
             0.5555555555555556,
             "#d8576b"
            ],
            [
             0.6666666666666666,
             "#ed7953"
            ],
            [
             0.7777777777777778,
             "#fb9f3a"
            ],
            [
             0.8888888888888888,
             "#fdca26"
            ],
            [
             1,
             "#f0f921"
            ]
           ],
           "sequentialminus": [
            [
             0,
             "#0d0887"
            ],
            [
             0.1111111111111111,
             "#46039f"
            ],
            [
             0.2222222222222222,
             "#7201a8"
            ],
            [
             0.3333333333333333,
             "#9c179e"
            ],
            [
             0.4444444444444444,
             "#bd3786"
            ],
            [
             0.5555555555555556,
             "#d8576b"
            ],
            [
             0.6666666666666666,
             "#ed7953"
            ],
            [
             0.7777777777777778,
             "#fb9f3a"
            ],
            [
             0.8888888888888888,
             "#fdca26"
            ],
            [
             1,
             "#f0f921"
            ]
           ]
          },
          "colorway": [
           "#636efa",
           "#EF553B",
           "#00cc96",
           "#ab63fa",
           "#FFA15A",
           "#19d3f3",
           "#FF6692",
           "#B6E880",
           "#FF97FF",
           "#FECB52"
          ],
          "font": {
           "color": "#2a3f5f"
          },
          "geo": {
           "bgcolor": "white",
           "lakecolor": "white",
           "landcolor": "#E5ECF6",
           "showlakes": true,
           "showland": true,
           "subunitcolor": "white"
          },
          "hoverlabel": {
           "align": "left"
          },
          "hovermode": "closest",
          "mapbox": {
           "style": "light"
          },
          "paper_bgcolor": "white",
          "plot_bgcolor": "#E5ECF6",
          "polar": {
           "angularaxis": {
            "gridcolor": "white",
            "linecolor": "white",
            "ticks": ""
           },
           "bgcolor": "#E5ECF6",
           "radialaxis": {
            "gridcolor": "white",
            "linecolor": "white",
            "ticks": ""
           }
          },
          "scene": {
           "xaxis": {
            "backgroundcolor": "#E5ECF6",
            "gridcolor": "white",
            "gridwidth": 2,
            "linecolor": "white",
            "showbackground": true,
            "ticks": "",
            "zerolinecolor": "white"
           },
           "yaxis": {
            "backgroundcolor": "#E5ECF6",
            "gridcolor": "white",
            "gridwidth": 2,
            "linecolor": "white",
            "showbackground": true,
            "ticks": "",
            "zerolinecolor": "white"
           },
           "zaxis": {
            "backgroundcolor": "#E5ECF6",
            "gridcolor": "white",
            "gridwidth": 2,
            "linecolor": "white",
            "showbackground": true,
            "ticks": "",
            "zerolinecolor": "white"
           }
          },
          "shapedefaults": {
           "line": {
            "color": "#2a3f5f"
           }
          },
          "ternary": {
           "aaxis": {
            "gridcolor": "white",
            "linecolor": "white",
            "ticks": ""
           },
           "baxis": {
            "gridcolor": "white",
            "linecolor": "white",
            "ticks": ""
           },
           "bgcolor": "#E5ECF6",
           "caxis": {
            "gridcolor": "white",
            "linecolor": "white",
            "ticks": ""
           }
          },
          "title": {
           "x": 0.05
          },
          "xaxis": {
           "automargin": true,
           "gridcolor": "white",
           "linecolor": "white",
           "ticks": "",
           "title": {
            "standoff": 15
           },
           "zerolinecolor": "white",
           "zerolinewidth": 2
          },
          "yaxis": {
           "automargin": true,
           "gridcolor": "white",
           "linecolor": "white",
           "ticks": "",
           "title": {
            "standoff": 15
           },
           "zerolinecolor": "white",
           "zerolinewidth": 2
          }
         }
        },
        "title": {
         "text": "Stock Price and Change Over Time"
        },
        "xaxis": {
         "anchor": "y",
         "domain": [
          0,
          1
         ],
         "title": {
          "text": "Stock ID"
         }
        },
        "yaxis": {
         "anchor": "x",
         "domain": [
          0,
          1
         ],
         "title": {
          "text": "Price"
         }
        }
       }
      }
     },
     "metadata": {},
     "output_type": "display_data"
    }
   ],
   "source": [
    "fig1 = px.scatter(data, x='Stock_Id', y='Price', color='Change', title='Stock Price and Change Over Time', labels={'Stock_Id': 'Stock ID', 'Price': 'Price'})\n",
    "fig1.show()"
   ]
  },
  {
   "cell_type": "code",
   "execution_count": 21,
   "id": "e1750967-d362-4000-a0ac-b79802b0ef9a",
   "metadata": {},
   "outputs": [
    {
     "data": {
      "application/vnd.plotly.v1+json": {
       "config": {
        "plotlyServerURL": "https://plot.ly"
       },
       "data": [
        {
         "alignmentgroup": "True",
         "hovertemplate": "Company Name=%{x}<br>Price_Range=%{marker.color}<extra></extra>",
         "legendgroup": "",
         "marker": {
          "color": [
           701.2,
           291.22,
           194.8,
           193.8,
           167.68
          ],
          "coloraxis": "coloraxis",
          "pattern": {
           "shape": ""
          }
         },
         "name": "",
         "offsetgroup": "",
         "orientation": "v",
         "showlegend": false,
         "textposition": "auto",
         "type": "bar",
         "x": [
          "ELM",
          "ACWA POWER",
          "SAL",
          "SRMG",
          "ALRAJHI TAKAFUL"
         ],
         "xaxis": "x",
         "y": [
          701.2,
          291.22,
          194.8,
          193.8,
          167.68
         ],
         "yaxis": "y"
        }
       ],
       "layout": {
        "barmode": "relative",
        "coloraxis": {
         "colorbar": {
          "title": {
           "text": "Price_Range"
          }
         },
         "colorscale": [
          [
           0,
           "#0d0887"
          ],
          [
           0.1111111111111111,
           "#46039f"
          ],
          [
           0.2222222222222222,
           "#7201a8"
          ],
          [
           0.3333333333333333,
           "#9c179e"
          ],
          [
           0.4444444444444444,
           "#bd3786"
          ],
          [
           0.5555555555555556,
           "#d8576b"
          ],
          [
           0.6666666666666666,
           "#ed7953"
          ],
          [
           0.7777777777777778,
           "#fb9f3a"
          ],
          [
           0.8888888888888888,
           "#fdca26"
          ],
          [
           1,
           "#f0f921"
          ]
         ]
        },
        "legend": {
         "tracegroupgap": 0
        },
        "template": {
         "data": {
          "bar": [
           {
            "error_x": {
             "color": "#2a3f5f"
            },
            "error_y": {
             "color": "#2a3f5f"
            },
            "marker": {
             "line": {
              "color": "#E5ECF6",
              "width": 0.5
             },
             "pattern": {
              "fillmode": "overlay",
              "size": 10,
              "solidity": 0.2
             }
            },
            "type": "bar"
           }
          ],
          "barpolar": [
           {
            "marker": {
             "line": {
              "color": "#E5ECF6",
              "width": 0.5
             },
             "pattern": {
              "fillmode": "overlay",
              "size": 10,
              "solidity": 0.2
             }
            },
            "type": "barpolar"
           }
          ],
          "carpet": [
           {
            "aaxis": {
             "endlinecolor": "#2a3f5f",
             "gridcolor": "white",
             "linecolor": "white",
             "minorgridcolor": "white",
             "startlinecolor": "#2a3f5f"
            },
            "baxis": {
             "endlinecolor": "#2a3f5f",
             "gridcolor": "white",
             "linecolor": "white",
             "minorgridcolor": "white",
             "startlinecolor": "#2a3f5f"
            },
            "type": "carpet"
           }
          ],
          "choropleth": [
           {
            "colorbar": {
             "outlinewidth": 0,
             "ticks": ""
            },
            "type": "choropleth"
           }
          ],
          "contour": [
           {
            "colorbar": {
             "outlinewidth": 0,
             "ticks": ""
            },
            "colorscale": [
             [
              0,
              "#0d0887"
             ],
             [
              0.1111111111111111,
              "#46039f"
             ],
             [
              0.2222222222222222,
              "#7201a8"
             ],
             [
              0.3333333333333333,
              "#9c179e"
             ],
             [
              0.4444444444444444,
              "#bd3786"
             ],
             [
              0.5555555555555556,
              "#d8576b"
             ],
             [
              0.6666666666666666,
              "#ed7953"
             ],
             [
              0.7777777777777778,
              "#fb9f3a"
             ],
             [
              0.8888888888888888,
              "#fdca26"
             ],
             [
              1,
              "#f0f921"
             ]
            ],
            "type": "contour"
           }
          ],
          "contourcarpet": [
           {
            "colorbar": {
             "outlinewidth": 0,
             "ticks": ""
            },
            "type": "contourcarpet"
           }
          ],
          "heatmap": [
           {
            "colorbar": {
             "outlinewidth": 0,
             "ticks": ""
            },
            "colorscale": [
             [
              0,
              "#0d0887"
             ],
             [
              0.1111111111111111,
              "#46039f"
             ],
             [
              0.2222222222222222,
              "#7201a8"
             ],
             [
              0.3333333333333333,
              "#9c179e"
             ],
             [
              0.4444444444444444,
              "#bd3786"
             ],
             [
              0.5555555555555556,
              "#d8576b"
             ],
             [
              0.6666666666666666,
              "#ed7953"
             ],
             [
              0.7777777777777778,
              "#fb9f3a"
             ],
             [
              0.8888888888888888,
              "#fdca26"
             ],
             [
              1,
              "#f0f921"
             ]
            ],
            "type": "heatmap"
           }
          ],
          "heatmapgl": [
           {
            "colorbar": {
             "outlinewidth": 0,
             "ticks": ""
            },
            "colorscale": [
             [
              0,
              "#0d0887"
             ],
             [
              0.1111111111111111,
              "#46039f"
             ],
             [
              0.2222222222222222,
              "#7201a8"
             ],
             [
              0.3333333333333333,
              "#9c179e"
             ],
             [
              0.4444444444444444,
              "#bd3786"
             ],
             [
              0.5555555555555556,
              "#d8576b"
             ],
             [
              0.6666666666666666,
              "#ed7953"
             ],
             [
              0.7777777777777778,
              "#fb9f3a"
             ],
             [
              0.8888888888888888,
              "#fdca26"
             ],
             [
              1,
              "#f0f921"
             ]
            ],
            "type": "heatmapgl"
           }
          ],
          "histogram": [
           {
            "marker": {
             "pattern": {
              "fillmode": "overlay",
              "size": 10,
              "solidity": 0.2
             }
            },
            "type": "histogram"
           }
          ],
          "histogram2d": [
           {
            "colorbar": {
             "outlinewidth": 0,
             "ticks": ""
            },
            "colorscale": [
             [
              0,
              "#0d0887"
             ],
             [
              0.1111111111111111,
              "#46039f"
             ],
             [
              0.2222222222222222,
              "#7201a8"
             ],
             [
              0.3333333333333333,
              "#9c179e"
             ],
             [
              0.4444444444444444,
              "#bd3786"
             ],
             [
              0.5555555555555556,
              "#d8576b"
             ],
             [
              0.6666666666666666,
              "#ed7953"
             ],
             [
              0.7777777777777778,
              "#fb9f3a"
             ],
             [
              0.8888888888888888,
              "#fdca26"
             ],
             [
              1,
              "#f0f921"
             ]
            ],
            "type": "histogram2d"
           }
          ],
          "histogram2dcontour": [
           {
            "colorbar": {
             "outlinewidth": 0,
             "ticks": ""
            },
            "colorscale": [
             [
              0,
              "#0d0887"
             ],
             [
              0.1111111111111111,
              "#46039f"
             ],
             [
              0.2222222222222222,
              "#7201a8"
             ],
             [
              0.3333333333333333,
              "#9c179e"
             ],
             [
              0.4444444444444444,
              "#bd3786"
             ],
             [
              0.5555555555555556,
              "#d8576b"
             ],
             [
              0.6666666666666666,
              "#ed7953"
             ],
             [
              0.7777777777777778,
              "#fb9f3a"
             ],
             [
              0.8888888888888888,
              "#fdca26"
             ],
             [
              1,
              "#f0f921"
             ]
            ],
            "type": "histogram2dcontour"
           }
          ],
          "mesh3d": [
           {
            "colorbar": {
             "outlinewidth": 0,
             "ticks": ""
            },
            "type": "mesh3d"
           }
          ],
          "parcoords": [
           {
            "line": {
             "colorbar": {
              "outlinewidth": 0,
              "ticks": ""
             }
            },
            "type": "parcoords"
           }
          ],
          "pie": [
           {
            "automargin": true,
            "type": "pie"
           }
          ],
          "scatter": [
           {
            "fillpattern": {
             "fillmode": "overlay",
             "size": 10,
             "solidity": 0.2
            },
            "type": "scatter"
           }
          ],
          "scatter3d": [
           {
            "line": {
             "colorbar": {
              "outlinewidth": 0,
              "ticks": ""
             }
            },
            "marker": {
             "colorbar": {
              "outlinewidth": 0,
              "ticks": ""
             }
            },
            "type": "scatter3d"
           }
          ],
          "scattercarpet": [
           {
            "marker": {
             "colorbar": {
              "outlinewidth": 0,
              "ticks": ""
             }
            },
            "type": "scattercarpet"
           }
          ],
          "scattergeo": [
           {
            "marker": {
             "colorbar": {
              "outlinewidth": 0,
              "ticks": ""
             }
            },
            "type": "scattergeo"
           }
          ],
          "scattergl": [
           {
            "marker": {
             "colorbar": {
              "outlinewidth": 0,
              "ticks": ""
             }
            },
            "type": "scattergl"
           }
          ],
          "scattermapbox": [
           {
            "marker": {
             "colorbar": {
              "outlinewidth": 0,
              "ticks": ""
             }
            },
            "type": "scattermapbox"
           }
          ],
          "scatterpolar": [
           {
            "marker": {
             "colorbar": {
              "outlinewidth": 0,
              "ticks": ""
             }
            },
            "type": "scatterpolar"
           }
          ],
          "scatterpolargl": [
           {
            "marker": {
             "colorbar": {
              "outlinewidth": 0,
              "ticks": ""
             }
            },
            "type": "scatterpolargl"
           }
          ],
          "scatterternary": [
           {
            "marker": {
             "colorbar": {
              "outlinewidth": 0,
              "ticks": ""
             }
            },
            "type": "scatterternary"
           }
          ],
          "surface": [
           {
            "colorbar": {
             "outlinewidth": 0,
             "ticks": ""
            },
            "colorscale": [
             [
              0,
              "#0d0887"
             ],
             [
              0.1111111111111111,
              "#46039f"
             ],
             [
              0.2222222222222222,
              "#7201a8"
             ],
             [
              0.3333333333333333,
              "#9c179e"
             ],
             [
              0.4444444444444444,
              "#bd3786"
             ],
             [
              0.5555555555555556,
              "#d8576b"
             ],
             [
              0.6666666666666666,
              "#ed7953"
             ],
             [
              0.7777777777777778,
              "#fb9f3a"
             ],
             [
              0.8888888888888888,
              "#fdca26"
             ],
             [
              1,
              "#f0f921"
             ]
            ],
            "type": "surface"
           }
          ],
          "table": [
           {
            "cells": {
             "fill": {
              "color": "#EBF0F8"
             },
             "line": {
              "color": "white"
             }
            },
            "header": {
             "fill": {
              "color": "#C8D4E3"
             },
             "line": {
              "color": "white"
             }
            },
            "type": "table"
           }
          ]
         },
         "layout": {
          "annotationdefaults": {
           "arrowcolor": "#2a3f5f",
           "arrowhead": 0,
           "arrowwidth": 1
          },
          "autotypenumbers": "strict",
          "coloraxis": {
           "colorbar": {
            "outlinewidth": 0,
            "ticks": ""
           }
          },
          "colorscale": {
           "diverging": [
            [
             0,
             "#8e0152"
            ],
            [
             0.1,
             "#c51b7d"
            ],
            [
             0.2,
             "#de77ae"
            ],
            [
             0.3,
             "#f1b6da"
            ],
            [
             0.4,
             "#fde0ef"
            ],
            [
             0.5,
             "#f7f7f7"
            ],
            [
             0.6,
             "#e6f5d0"
            ],
            [
             0.7,
             "#b8e186"
            ],
            [
             0.8,
             "#7fbc41"
            ],
            [
             0.9,
             "#4d9221"
            ],
            [
             1,
             "#276419"
            ]
           ],
           "sequential": [
            [
             0,
             "#0d0887"
            ],
            [
             0.1111111111111111,
             "#46039f"
            ],
            [
             0.2222222222222222,
             "#7201a8"
            ],
            [
             0.3333333333333333,
             "#9c179e"
            ],
            [
             0.4444444444444444,
             "#bd3786"
            ],
            [
             0.5555555555555556,
             "#d8576b"
            ],
            [
             0.6666666666666666,
             "#ed7953"
            ],
            [
             0.7777777777777778,
             "#fb9f3a"
            ],
            [
             0.8888888888888888,
             "#fdca26"
            ],
            [
             1,
             "#f0f921"
            ]
           ],
           "sequentialminus": [
            [
             0,
             "#0d0887"
            ],
            [
             0.1111111111111111,
             "#46039f"
            ],
            [
             0.2222222222222222,
             "#7201a8"
            ],
            [
             0.3333333333333333,
             "#9c179e"
            ],
            [
             0.4444444444444444,
             "#bd3786"
            ],
            [
             0.5555555555555556,
             "#d8576b"
            ],
            [
             0.6666666666666666,
             "#ed7953"
            ],
            [
             0.7777777777777778,
             "#fb9f3a"
            ],
            [
             0.8888888888888888,
             "#fdca26"
            ],
            [
             1,
             "#f0f921"
            ]
           ]
          },
          "colorway": [
           "#636efa",
           "#EF553B",
           "#00cc96",
           "#ab63fa",
           "#FFA15A",
           "#19d3f3",
           "#FF6692",
           "#B6E880",
           "#FF97FF",
           "#FECB52"
          ],
          "font": {
           "color": "#2a3f5f"
          },
          "geo": {
           "bgcolor": "white",
           "lakecolor": "white",
           "landcolor": "#E5ECF6",
           "showlakes": true,
           "showland": true,
           "subunitcolor": "white"
          },
          "hoverlabel": {
           "align": "left"
          },
          "hovermode": "closest",
          "mapbox": {
           "style": "light"
          },
          "paper_bgcolor": "white",
          "plot_bgcolor": "#E5ECF6",
          "polar": {
           "angularaxis": {
            "gridcolor": "white",
            "linecolor": "white",
            "ticks": ""
           },
           "bgcolor": "#E5ECF6",
           "radialaxis": {
            "gridcolor": "white",
            "linecolor": "white",
            "ticks": ""
           }
          },
          "scene": {
           "xaxis": {
            "backgroundcolor": "#E5ECF6",
            "gridcolor": "white",
            "gridwidth": 2,
            "linecolor": "white",
            "showbackground": true,
            "ticks": "",
            "zerolinecolor": "white"
           },
           "yaxis": {
            "backgroundcolor": "#E5ECF6",
            "gridcolor": "white",
            "gridwidth": 2,
            "linecolor": "white",
            "showbackground": true,
            "ticks": "",
            "zerolinecolor": "white"
           },
           "zaxis": {
            "backgroundcolor": "#E5ECF6",
            "gridcolor": "white",
            "gridwidth": 2,
            "linecolor": "white",
            "showbackground": true,
            "ticks": "",
            "zerolinecolor": "white"
           }
          },
          "shapedefaults": {
           "line": {
            "color": "#2a3f5f"
           }
          },
          "ternary": {
           "aaxis": {
            "gridcolor": "white",
            "linecolor": "white",
            "ticks": ""
           },
           "baxis": {
            "gridcolor": "white",
            "linecolor": "white",
            "ticks": ""
           },
           "bgcolor": "#E5ECF6",
           "caxis": {
            "gridcolor": "white",
            "linecolor": "white",
            "ticks": ""
           }
          },
          "title": {
           "x": 0.05
          },
          "xaxis": {
           "automargin": true,
           "gridcolor": "white",
           "linecolor": "white",
           "ticks": "",
           "title": {
            "standoff": 15
           },
           "zerolinecolor": "white",
           "zerolinewidth": 2
          },
          "yaxis": {
           "automargin": true,
           "gridcolor": "white",
           "linecolor": "white",
           "ticks": "",
           "title": {
            "standoff": 15
           },
           "zerolinecolor": "white",
           "zerolinewidth": 2
          }
         }
        },
        "title": {
         "text": "Companies with Largest Price Range"
        },
        "xaxis": {
         "anchor": "y",
         "domain": [
          0,
          1
         ],
         "title": {
          "text": "Company Name"
         }
        },
        "yaxis": {
         "anchor": "x",
         "domain": [
          0,
          1
         ],
         "title": {
          "text": "Price_Range"
         }
        }
       }
      }
     },
     "metadata": {},
     "output_type": "display_data"
    }
   ],
   "source": [
    "largest_price_range = data.sort_values(by='Price_Range', ascending=False).head()\n",
    "fig = px.bar(\n",
    "    largest_price_range,\n",
    "    x='Company Name',\n",
    "    y='Price_Range',\n",
    "    title='Companies with Largest Price Range',\n",
    "    color='Price_Range',  \n",
    "    color_continuous_scale='Plasma'  \n",
    ")\n",
    "fig.show()"
   ]
  },
  {
   "cell_type": "code",
   "execution_count": 22,
   "id": "7583de0e-a97a-483f-918c-b68c75b39ac1",
   "metadata": {},
   "outputs": [
    {
     "data": {
      "application/vnd.plotly.v1+json": {
       "config": {
        "plotlyServerURL": "https://plot.ly"
       },
       "data": [
        {
         "alignmentgroup": "True",
         "hovertemplate": "Company Name=%{x}<br>Volume=%{marker.color}<extra></extra>",
         "legendgroup": "",
         "marker": {
          "color": [
           897422077,
           44364343,
           38332150,
           34336527,
           27889203,
           15119377,
           10317816,
           8968623,
           7896659,
           7713363
          ],
          "coloraxis": "coloraxis",
          "pattern": {
           "shape": ""
          }
         },
         "name": "",
         "offsetgroup": "",
         "orientation": "v",
         "showlegend": false,
         "textposition": "auto",
         "type": "bar",
         "x": [
          "ALBAHA",
          "TECO",
          "SAUDI ARAMCO",
          "ANAAM HOLDING",
          "AMERICANA",
          "SNB",
          "ALINMA",
          "SMASCO",
          "MIAHONA",
          "ALRAJHI"
         ],
         "xaxis": "x",
         "y": [
          897422077,
          44364343,
          38332150,
          34336527,
          27889203,
          15119377,
          10317816,
          8968623,
          7896659,
          7713363
         ],
         "yaxis": "y"
        }
       ],
       "layout": {
        "barmode": "relative",
        "coloraxis": {
         "colorbar": {
          "title": {
           "text": "Volume"
          }
         },
         "colorscale": [
          [
           0,
           "#00224e"
          ],
          [
           0.1111111111111111,
           "#123570"
          ],
          [
           0.2222222222222222,
           "#3b496c"
          ],
          [
           0.3333333333333333,
           "#575d6d"
          ],
          [
           0.4444444444444444,
           "#707173"
          ],
          [
           0.5555555555555556,
           "#8a8678"
          ],
          [
           0.6666666666666666,
           "#a59c74"
          ],
          [
           0.7777777777777778,
           "#c3b369"
          ],
          [
           0.8888888888888888,
           "#e1cc55"
          ],
          [
           1,
           "#fee838"
          ]
         ]
        },
        "legend": {
         "tracegroupgap": 0
        },
        "template": {
         "data": {
          "bar": [
           {
            "error_x": {
             "color": "#2a3f5f"
            },
            "error_y": {
             "color": "#2a3f5f"
            },
            "marker": {
             "line": {
              "color": "#E5ECF6",
              "width": 0.5
             },
             "pattern": {
              "fillmode": "overlay",
              "size": 10,
              "solidity": 0.2
             }
            },
            "type": "bar"
           }
          ],
          "barpolar": [
           {
            "marker": {
             "line": {
              "color": "#E5ECF6",
              "width": 0.5
             },
             "pattern": {
              "fillmode": "overlay",
              "size": 10,
              "solidity": 0.2
             }
            },
            "type": "barpolar"
           }
          ],
          "carpet": [
           {
            "aaxis": {
             "endlinecolor": "#2a3f5f",
             "gridcolor": "white",
             "linecolor": "white",
             "minorgridcolor": "white",
             "startlinecolor": "#2a3f5f"
            },
            "baxis": {
             "endlinecolor": "#2a3f5f",
             "gridcolor": "white",
             "linecolor": "white",
             "minorgridcolor": "white",
             "startlinecolor": "#2a3f5f"
            },
            "type": "carpet"
           }
          ],
          "choropleth": [
           {
            "colorbar": {
             "outlinewidth": 0,
             "ticks": ""
            },
            "type": "choropleth"
           }
          ],
          "contour": [
           {
            "colorbar": {
             "outlinewidth": 0,
             "ticks": ""
            },
            "colorscale": [
             [
              0,
              "#0d0887"
             ],
             [
              0.1111111111111111,
              "#46039f"
             ],
             [
              0.2222222222222222,
              "#7201a8"
             ],
             [
              0.3333333333333333,
              "#9c179e"
             ],
             [
              0.4444444444444444,
              "#bd3786"
             ],
             [
              0.5555555555555556,
              "#d8576b"
             ],
             [
              0.6666666666666666,
              "#ed7953"
             ],
             [
              0.7777777777777778,
              "#fb9f3a"
             ],
             [
              0.8888888888888888,
              "#fdca26"
             ],
             [
              1,
              "#f0f921"
             ]
            ],
            "type": "contour"
           }
          ],
          "contourcarpet": [
           {
            "colorbar": {
             "outlinewidth": 0,
             "ticks": ""
            },
            "type": "contourcarpet"
           }
          ],
          "heatmap": [
           {
            "colorbar": {
             "outlinewidth": 0,
             "ticks": ""
            },
            "colorscale": [
             [
              0,
              "#0d0887"
             ],
             [
              0.1111111111111111,
              "#46039f"
             ],
             [
              0.2222222222222222,
              "#7201a8"
             ],
             [
              0.3333333333333333,
              "#9c179e"
             ],
             [
              0.4444444444444444,
              "#bd3786"
             ],
             [
              0.5555555555555556,
              "#d8576b"
             ],
             [
              0.6666666666666666,
              "#ed7953"
             ],
             [
              0.7777777777777778,
              "#fb9f3a"
             ],
             [
              0.8888888888888888,
              "#fdca26"
             ],
             [
              1,
              "#f0f921"
             ]
            ],
            "type": "heatmap"
           }
          ],
          "heatmapgl": [
           {
            "colorbar": {
             "outlinewidth": 0,
             "ticks": ""
            },
            "colorscale": [
             [
              0,
              "#0d0887"
             ],
             [
              0.1111111111111111,
              "#46039f"
             ],
             [
              0.2222222222222222,
              "#7201a8"
             ],
             [
              0.3333333333333333,
              "#9c179e"
             ],
             [
              0.4444444444444444,
              "#bd3786"
             ],
             [
              0.5555555555555556,
              "#d8576b"
             ],
             [
              0.6666666666666666,
              "#ed7953"
             ],
             [
              0.7777777777777778,
              "#fb9f3a"
             ],
             [
              0.8888888888888888,
              "#fdca26"
             ],
             [
              1,
              "#f0f921"
             ]
            ],
            "type": "heatmapgl"
           }
          ],
          "histogram": [
           {
            "marker": {
             "pattern": {
              "fillmode": "overlay",
              "size": 10,
              "solidity": 0.2
             }
            },
            "type": "histogram"
           }
          ],
          "histogram2d": [
           {
            "colorbar": {
             "outlinewidth": 0,
             "ticks": ""
            },
            "colorscale": [
             [
              0,
              "#0d0887"
             ],
             [
              0.1111111111111111,
              "#46039f"
             ],
             [
              0.2222222222222222,
              "#7201a8"
             ],
             [
              0.3333333333333333,
              "#9c179e"
             ],
             [
              0.4444444444444444,
              "#bd3786"
             ],
             [
              0.5555555555555556,
              "#d8576b"
             ],
             [
              0.6666666666666666,
              "#ed7953"
             ],
             [
              0.7777777777777778,
              "#fb9f3a"
             ],
             [
              0.8888888888888888,
              "#fdca26"
             ],
             [
              1,
              "#f0f921"
             ]
            ],
            "type": "histogram2d"
           }
          ],
          "histogram2dcontour": [
           {
            "colorbar": {
             "outlinewidth": 0,
             "ticks": ""
            },
            "colorscale": [
             [
              0,
              "#0d0887"
             ],
             [
              0.1111111111111111,
              "#46039f"
             ],
             [
              0.2222222222222222,
              "#7201a8"
             ],
             [
              0.3333333333333333,
              "#9c179e"
             ],
             [
              0.4444444444444444,
              "#bd3786"
             ],
             [
              0.5555555555555556,
              "#d8576b"
             ],
             [
              0.6666666666666666,
              "#ed7953"
             ],
             [
              0.7777777777777778,
              "#fb9f3a"
             ],
             [
              0.8888888888888888,
              "#fdca26"
             ],
             [
              1,
              "#f0f921"
             ]
            ],
            "type": "histogram2dcontour"
           }
          ],
          "mesh3d": [
           {
            "colorbar": {
             "outlinewidth": 0,
             "ticks": ""
            },
            "type": "mesh3d"
           }
          ],
          "parcoords": [
           {
            "line": {
             "colorbar": {
              "outlinewidth": 0,
              "ticks": ""
             }
            },
            "type": "parcoords"
           }
          ],
          "pie": [
           {
            "automargin": true,
            "type": "pie"
           }
          ],
          "scatter": [
           {
            "fillpattern": {
             "fillmode": "overlay",
             "size": 10,
             "solidity": 0.2
            },
            "type": "scatter"
           }
          ],
          "scatter3d": [
           {
            "line": {
             "colorbar": {
              "outlinewidth": 0,
              "ticks": ""
             }
            },
            "marker": {
             "colorbar": {
              "outlinewidth": 0,
              "ticks": ""
             }
            },
            "type": "scatter3d"
           }
          ],
          "scattercarpet": [
           {
            "marker": {
             "colorbar": {
              "outlinewidth": 0,
              "ticks": ""
             }
            },
            "type": "scattercarpet"
           }
          ],
          "scattergeo": [
           {
            "marker": {
             "colorbar": {
              "outlinewidth": 0,
              "ticks": ""
             }
            },
            "type": "scattergeo"
           }
          ],
          "scattergl": [
           {
            "marker": {
             "colorbar": {
              "outlinewidth": 0,
              "ticks": ""
             }
            },
            "type": "scattergl"
           }
          ],
          "scattermapbox": [
           {
            "marker": {
             "colorbar": {
              "outlinewidth": 0,
              "ticks": ""
             }
            },
            "type": "scattermapbox"
           }
          ],
          "scatterpolar": [
           {
            "marker": {
             "colorbar": {
              "outlinewidth": 0,
              "ticks": ""
             }
            },
            "type": "scatterpolar"
           }
          ],
          "scatterpolargl": [
           {
            "marker": {
             "colorbar": {
              "outlinewidth": 0,
              "ticks": ""
             }
            },
            "type": "scatterpolargl"
           }
          ],
          "scatterternary": [
           {
            "marker": {
             "colorbar": {
              "outlinewidth": 0,
              "ticks": ""
             }
            },
            "type": "scatterternary"
           }
          ],
          "surface": [
           {
            "colorbar": {
             "outlinewidth": 0,
             "ticks": ""
            },
            "colorscale": [
             [
              0,
              "#0d0887"
             ],
             [
              0.1111111111111111,
              "#46039f"
             ],
             [
              0.2222222222222222,
              "#7201a8"
             ],
             [
              0.3333333333333333,
              "#9c179e"
             ],
             [
              0.4444444444444444,
              "#bd3786"
             ],
             [
              0.5555555555555556,
              "#d8576b"
             ],
             [
              0.6666666666666666,
              "#ed7953"
             ],
             [
              0.7777777777777778,
              "#fb9f3a"
             ],
             [
              0.8888888888888888,
              "#fdca26"
             ],
             [
              1,
              "#f0f921"
             ]
            ],
            "type": "surface"
           }
          ],
          "table": [
           {
            "cells": {
             "fill": {
              "color": "#EBF0F8"
             },
             "line": {
              "color": "white"
             }
            },
            "header": {
             "fill": {
              "color": "#C8D4E3"
             },
             "line": {
              "color": "white"
             }
            },
            "type": "table"
           }
          ]
         },
         "layout": {
          "annotationdefaults": {
           "arrowcolor": "#2a3f5f",
           "arrowhead": 0,
           "arrowwidth": 1
          },
          "autotypenumbers": "strict",
          "coloraxis": {
           "colorbar": {
            "outlinewidth": 0,
            "ticks": ""
           }
          },
          "colorscale": {
           "diverging": [
            [
             0,
             "#8e0152"
            ],
            [
             0.1,
             "#c51b7d"
            ],
            [
             0.2,
             "#de77ae"
            ],
            [
             0.3,
             "#f1b6da"
            ],
            [
             0.4,
             "#fde0ef"
            ],
            [
             0.5,
             "#f7f7f7"
            ],
            [
             0.6,
             "#e6f5d0"
            ],
            [
             0.7,
             "#b8e186"
            ],
            [
             0.8,
             "#7fbc41"
            ],
            [
             0.9,
             "#4d9221"
            ],
            [
             1,
             "#276419"
            ]
           ],
           "sequential": [
            [
             0,
             "#0d0887"
            ],
            [
             0.1111111111111111,
             "#46039f"
            ],
            [
             0.2222222222222222,
             "#7201a8"
            ],
            [
             0.3333333333333333,
             "#9c179e"
            ],
            [
             0.4444444444444444,
             "#bd3786"
            ],
            [
             0.5555555555555556,
             "#d8576b"
            ],
            [
             0.6666666666666666,
             "#ed7953"
            ],
            [
             0.7777777777777778,
             "#fb9f3a"
            ],
            [
             0.8888888888888888,
             "#fdca26"
            ],
            [
             1,
             "#f0f921"
            ]
           ],
           "sequentialminus": [
            [
             0,
             "#0d0887"
            ],
            [
             0.1111111111111111,
             "#46039f"
            ],
            [
             0.2222222222222222,
             "#7201a8"
            ],
            [
             0.3333333333333333,
             "#9c179e"
            ],
            [
             0.4444444444444444,
             "#bd3786"
            ],
            [
             0.5555555555555556,
             "#d8576b"
            ],
            [
             0.6666666666666666,
             "#ed7953"
            ],
            [
             0.7777777777777778,
             "#fb9f3a"
            ],
            [
             0.8888888888888888,
             "#fdca26"
            ],
            [
             1,
             "#f0f921"
            ]
           ]
          },
          "colorway": [
           "#636efa",
           "#EF553B",
           "#00cc96",
           "#ab63fa",
           "#FFA15A",
           "#19d3f3",
           "#FF6692",
           "#B6E880",
           "#FF97FF",
           "#FECB52"
          ],
          "font": {
           "color": "#2a3f5f"
          },
          "geo": {
           "bgcolor": "white",
           "lakecolor": "white",
           "landcolor": "#E5ECF6",
           "showlakes": true,
           "showland": true,
           "subunitcolor": "white"
          },
          "hoverlabel": {
           "align": "left"
          },
          "hovermode": "closest",
          "mapbox": {
           "style": "light"
          },
          "paper_bgcolor": "white",
          "plot_bgcolor": "#E5ECF6",
          "polar": {
           "angularaxis": {
            "gridcolor": "white",
            "linecolor": "white",
            "ticks": ""
           },
           "bgcolor": "#E5ECF6",
           "radialaxis": {
            "gridcolor": "white",
            "linecolor": "white",
            "ticks": ""
           }
          },
          "scene": {
           "xaxis": {
            "backgroundcolor": "#E5ECF6",
            "gridcolor": "white",
            "gridwidth": 2,
            "linecolor": "white",
            "showbackground": true,
            "ticks": "",
            "zerolinecolor": "white"
           },
           "yaxis": {
            "backgroundcolor": "#E5ECF6",
            "gridcolor": "white",
            "gridwidth": 2,
            "linecolor": "white",
            "showbackground": true,
            "ticks": "",
            "zerolinecolor": "white"
           },
           "zaxis": {
            "backgroundcolor": "#E5ECF6",
            "gridcolor": "white",
            "gridwidth": 2,
            "linecolor": "white",
            "showbackground": true,
            "ticks": "",
            "zerolinecolor": "white"
           }
          },
          "shapedefaults": {
           "line": {
            "color": "#2a3f5f"
           }
          },
          "ternary": {
           "aaxis": {
            "gridcolor": "white",
            "linecolor": "white",
            "ticks": ""
           },
           "baxis": {
            "gridcolor": "white",
            "linecolor": "white",
            "ticks": ""
           },
           "bgcolor": "#E5ECF6",
           "caxis": {
            "gridcolor": "white",
            "linecolor": "white",
            "ticks": ""
           }
          },
          "title": {
           "x": 0.05
          },
          "xaxis": {
           "automargin": true,
           "gridcolor": "white",
           "linecolor": "white",
           "ticks": "",
           "title": {
            "standoff": 15
           },
           "zerolinecolor": "white",
           "zerolinewidth": 2
          },
          "yaxis": {
           "automargin": true,
           "gridcolor": "white",
           "linecolor": "white",
           "ticks": "",
           "title": {
            "standoff": 15
           },
           "zerolinecolor": "white",
           "zerolinewidth": 2
          }
         }
        },
        "title": {
         "text": "Top 10 Companies by Trading Volume"
        },
        "xaxis": {
         "anchor": "y",
         "domain": [
          0,
          1
         ],
         "title": {
          "text": "Company Name"
         }
        },
        "yaxis": {
         "anchor": "x",
         "domain": [
          0,
          1
         ],
         "title": {
          "text": "Volume"
         }
        }
       }
      }
     },
     "metadata": {},
     "output_type": "display_data"
    }
   ],
   "source": [
    "top_volume_data = data.sort_values(by='Volume', ascending=False).head(10)\n",
    "fig = px.bar(\n",
    "    top_volume_data,\n",
    "    x='Company Name',\n",
    "    y='Volume',\n",
    "    title='Top 10 Companies by Trading Volume',\n",
    "    color='Volume',\n",
    "    color_continuous_scale='Cividis'\n",
    ")\n",
    "fig.show()"
   ]
  },
  {
   "cell_type": "code",
   "execution_count": 23,
   "id": "50f3595a-a723-48ab-85ca-fa649fa3e905",
   "metadata": {},
   "outputs": [
    {
     "data": {
      "application/vnd.plotly.v1+json": {
       "config": {
        "plotlyServerURL": "https://plot.ly"
       },
       "data": [
        {
         "hovertemplate": "Company Name=%{x}<br>Price_Range=%{y}<extra></extra>",
         "legendgroup": "",
         "line": {
          "color": "#636efa",
          "dash": "solid"
         },
         "marker": {
          "symbol": "circle"
         },
         "mode": "lines+markers",
         "name": "",
         "orientation": "v",
         "showlegend": false,
         "type": "scatter",
         "x": [
          "ELM",
          "ACWA POWER",
          "SAL",
          "SRMG",
          "ALRAJHI TAKAFUL",
          "SOLUTIONS",
          "SADAFCO",
          "NCLE",
          "ALARABIA",
          "TADAWUL GROUP"
         ],
         "xaxis": "x",
         "y": [
          701.2,
          291.22,
          194.8,
          193.8,
          167.68,
          154.8,
          152,
          133,
          131.2,
          116.80000000000001
         ],
         "yaxis": "y"
        }
       ],
       "layout": {
        "legend": {
         "tracegroupgap": 0
        },
        "template": {
         "data": {
          "bar": [
           {
            "error_x": {
             "color": "#2a3f5f"
            },
            "error_y": {
             "color": "#2a3f5f"
            },
            "marker": {
             "line": {
              "color": "#E5ECF6",
              "width": 0.5
             },
             "pattern": {
              "fillmode": "overlay",
              "size": 10,
              "solidity": 0.2
             }
            },
            "type": "bar"
           }
          ],
          "barpolar": [
           {
            "marker": {
             "line": {
              "color": "#E5ECF6",
              "width": 0.5
             },
             "pattern": {
              "fillmode": "overlay",
              "size": 10,
              "solidity": 0.2
             }
            },
            "type": "barpolar"
           }
          ],
          "carpet": [
           {
            "aaxis": {
             "endlinecolor": "#2a3f5f",
             "gridcolor": "white",
             "linecolor": "white",
             "minorgridcolor": "white",
             "startlinecolor": "#2a3f5f"
            },
            "baxis": {
             "endlinecolor": "#2a3f5f",
             "gridcolor": "white",
             "linecolor": "white",
             "minorgridcolor": "white",
             "startlinecolor": "#2a3f5f"
            },
            "type": "carpet"
           }
          ],
          "choropleth": [
           {
            "colorbar": {
             "outlinewidth": 0,
             "ticks": ""
            },
            "type": "choropleth"
           }
          ],
          "contour": [
           {
            "colorbar": {
             "outlinewidth": 0,
             "ticks": ""
            },
            "colorscale": [
             [
              0,
              "#0d0887"
             ],
             [
              0.1111111111111111,
              "#46039f"
             ],
             [
              0.2222222222222222,
              "#7201a8"
             ],
             [
              0.3333333333333333,
              "#9c179e"
             ],
             [
              0.4444444444444444,
              "#bd3786"
             ],
             [
              0.5555555555555556,
              "#d8576b"
             ],
             [
              0.6666666666666666,
              "#ed7953"
             ],
             [
              0.7777777777777778,
              "#fb9f3a"
             ],
             [
              0.8888888888888888,
              "#fdca26"
             ],
             [
              1,
              "#f0f921"
             ]
            ],
            "type": "contour"
           }
          ],
          "contourcarpet": [
           {
            "colorbar": {
             "outlinewidth": 0,
             "ticks": ""
            },
            "type": "contourcarpet"
           }
          ],
          "heatmap": [
           {
            "colorbar": {
             "outlinewidth": 0,
             "ticks": ""
            },
            "colorscale": [
             [
              0,
              "#0d0887"
             ],
             [
              0.1111111111111111,
              "#46039f"
             ],
             [
              0.2222222222222222,
              "#7201a8"
             ],
             [
              0.3333333333333333,
              "#9c179e"
             ],
             [
              0.4444444444444444,
              "#bd3786"
             ],
             [
              0.5555555555555556,
              "#d8576b"
             ],
             [
              0.6666666666666666,
              "#ed7953"
             ],
             [
              0.7777777777777778,
              "#fb9f3a"
             ],
             [
              0.8888888888888888,
              "#fdca26"
             ],
             [
              1,
              "#f0f921"
             ]
            ],
            "type": "heatmap"
           }
          ],
          "heatmapgl": [
           {
            "colorbar": {
             "outlinewidth": 0,
             "ticks": ""
            },
            "colorscale": [
             [
              0,
              "#0d0887"
             ],
             [
              0.1111111111111111,
              "#46039f"
             ],
             [
              0.2222222222222222,
              "#7201a8"
             ],
             [
              0.3333333333333333,
              "#9c179e"
             ],
             [
              0.4444444444444444,
              "#bd3786"
             ],
             [
              0.5555555555555556,
              "#d8576b"
             ],
             [
              0.6666666666666666,
              "#ed7953"
             ],
             [
              0.7777777777777778,
              "#fb9f3a"
             ],
             [
              0.8888888888888888,
              "#fdca26"
             ],
             [
              1,
              "#f0f921"
             ]
            ],
            "type": "heatmapgl"
           }
          ],
          "histogram": [
           {
            "marker": {
             "pattern": {
              "fillmode": "overlay",
              "size": 10,
              "solidity": 0.2
             }
            },
            "type": "histogram"
           }
          ],
          "histogram2d": [
           {
            "colorbar": {
             "outlinewidth": 0,
             "ticks": ""
            },
            "colorscale": [
             [
              0,
              "#0d0887"
             ],
             [
              0.1111111111111111,
              "#46039f"
             ],
             [
              0.2222222222222222,
              "#7201a8"
             ],
             [
              0.3333333333333333,
              "#9c179e"
             ],
             [
              0.4444444444444444,
              "#bd3786"
             ],
             [
              0.5555555555555556,
              "#d8576b"
             ],
             [
              0.6666666666666666,
              "#ed7953"
             ],
             [
              0.7777777777777778,
              "#fb9f3a"
             ],
             [
              0.8888888888888888,
              "#fdca26"
             ],
             [
              1,
              "#f0f921"
             ]
            ],
            "type": "histogram2d"
           }
          ],
          "histogram2dcontour": [
           {
            "colorbar": {
             "outlinewidth": 0,
             "ticks": ""
            },
            "colorscale": [
             [
              0,
              "#0d0887"
             ],
             [
              0.1111111111111111,
              "#46039f"
             ],
             [
              0.2222222222222222,
              "#7201a8"
             ],
             [
              0.3333333333333333,
              "#9c179e"
             ],
             [
              0.4444444444444444,
              "#bd3786"
             ],
             [
              0.5555555555555556,
              "#d8576b"
             ],
             [
              0.6666666666666666,
              "#ed7953"
             ],
             [
              0.7777777777777778,
              "#fb9f3a"
             ],
             [
              0.8888888888888888,
              "#fdca26"
             ],
             [
              1,
              "#f0f921"
             ]
            ],
            "type": "histogram2dcontour"
           }
          ],
          "mesh3d": [
           {
            "colorbar": {
             "outlinewidth": 0,
             "ticks": ""
            },
            "type": "mesh3d"
           }
          ],
          "parcoords": [
           {
            "line": {
             "colorbar": {
              "outlinewidth": 0,
              "ticks": ""
             }
            },
            "type": "parcoords"
           }
          ],
          "pie": [
           {
            "automargin": true,
            "type": "pie"
           }
          ],
          "scatter": [
           {
            "fillpattern": {
             "fillmode": "overlay",
             "size": 10,
             "solidity": 0.2
            },
            "type": "scatter"
           }
          ],
          "scatter3d": [
           {
            "line": {
             "colorbar": {
              "outlinewidth": 0,
              "ticks": ""
             }
            },
            "marker": {
             "colorbar": {
              "outlinewidth": 0,
              "ticks": ""
             }
            },
            "type": "scatter3d"
           }
          ],
          "scattercarpet": [
           {
            "marker": {
             "colorbar": {
              "outlinewidth": 0,
              "ticks": ""
             }
            },
            "type": "scattercarpet"
           }
          ],
          "scattergeo": [
           {
            "marker": {
             "colorbar": {
              "outlinewidth": 0,
              "ticks": ""
             }
            },
            "type": "scattergeo"
           }
          ],
          "scattergl": [
           {
            "marker": {
             "colorbar": {
              "outlinewidth": 0,
              "ticks": ""
             }
            },
            "type": "scattergl"
           }
          ],
          "scattermapbox": [
           {
            "marker": {
             "colorbar": {
              "outlinewidth": 0,
              "ticks": ""
             }
            },
            "type": "scattermapbox"
           }
          ],
          "scatterpolar": [
           {
            "marker": {
             "colorbar": {
              "outlinewidth": 0,
              "ticks": ""
             }
            },
            "type": "scatterpolar"
           }
          ],
          "scatterpolargl": [
           {
            "marker": {
             "colorbar": {
              "outlinewidth": 0,
              "ticks": ""
             }
            },
            "type": "scatterpolargl"
           }
          ],
          "scatterternary": [
           {
            "marker": {
             "colorbar": {
              "outlinewidth": 0,
              "ticks": ""
             }
            },
            "type": "scatterternary"
           }
          ],
          "surface": [
           {
            "colorbar": {
             "outlinewidth": 0,
             "ticks": ""
            },
            "colorscale": [
             [
              0,
              "#0d0887"
             ],
             [
              0.1111111111111111,
              "#46039f"
             ],
             [
              0.2222222222222222,
              "#7201a8"
             ],
             [
              0.3333333333333333,
              "#9c179e"
             ],
             [
              0.4444444444444444,
              "#bd3786"
             ],
             [
              0.5555555555555556,
              "#d8576b"
             ],
             [
              0.6666666666666666,
              "#ed7953"
             ],
             [
              0.7777777777777778,
              "#fb9f3a"
             ],
             [
              0.8888888888888888,
              "#fdca26"
             ],
             [
              1,
              "#f0f921"
             ]
            ],
            "type": "surface"
           }
          ],
          "table": [
           {
            "cells": {
             "fill": {
              "color": "#EBF0F8"
             },
             "line": {
              "color": "white"
             }
            },
            "header": {
             "fill": {
              "color": "#C8D4E3"
             },
             "line": {
              "color": "white"
             }
            },
            "type": "table"
           }
          ]
         },
         "layout": {
          "annotationdefaults": {
           "arrowcolor": "#2a3f5f",
           "arrowhead": 0,
           "arrowwidth": 1
          },
          "autotypenumbers": "strict",
          "coloraxis": {
           "colorbar": {
            "outlinewidth": 0,
            "ticks": ""
           }
          },
          "colorscale": {
           "diverging": [
            [
             0,
             "#8e0152"
            ],
            [
             0.1,
             "#c51b7d"
            ],
            [
             0.2,
             "#de77ae"
            ],
            [
             0.3,
             "#f1b6da"
            ],
            [
             0.4,
             "#fde0ef"
            ],
            [
             0.5,
             "#f7f7f7"
            ],
            [
             0.6,
             "#e6f5d0"
            ],
            [
             0.7,
             "#b8e186"
            ],
            [
             0.8,
             "#7fbc41"
            ],
            [
             0.9,
             "#4d9221"
            ],
            [
             1,
             "#276419"
            ]
           ],
           "sequential": [
            [
             0,
             "#0d0887"
            ],
            [
             0.1111111111111111,
             "#46039f"
            ],
            [
             0.2222222222222222,
             "#7201a8"
            ],
            [
             0.3333333333333333,
             "#9c179e"
            ],
            [
             0.4444444444444444,
             "#bd3786"
            ],
            [
             0.5555555555555556,
             "#d8576b"
            ],
            [
             0.6666666666666666,
             "#ed7953"
            ],
            [
             0.7777777777777778,
             "#fb9f3a"
            ],
            [
             0.8888888888888888,
             "#fdca26"
            ],
            [
             1,
             "#f0f921"
            ]
           ],
           "sequentialminus": [
            [
             0,
             "#0d0887"
            ],
            [
             0.1111111111111111,
             "#46039f"
            ],
            [
             0.2222222222222222,
             "#7201a8"
            ],
            [
             0.3333333333333333,
             "#9c179e"
            ],
            [
             0.4444444444444444,
             "#bd3786"
            ],
            [
             0.5555555555555556,
             "#d8576b"
            ],
            [
             0.6666666666666666,
             "#ed7953"
            ],
            [
             0.7777777777777778,
             "#fb9f3a"
            ],
            [
             0.8888888888888888,
             "#fdca26"
            ],
            [
             1,
             "#f0f921"
            ]
           ]
          },
          "colorway": [
           "#636efa",
           "#EF553B",
           "#00cc96",
           "#ab63fa",
           "#FFA15A",
           "#19d3f3",
           "#FF6692",
           "#B6E880",
           "#FF97FF",
           "#FECB52"
          ],
          "font": {
           "color": "#2a3f5f"
          },
          "geo": {
           "bgcolor": "white",
           "lakecolor": "white",
           "landcolor": "#E5ECF6",
           "showlakes": true,
           "showland": true,
           "subunitcolor": "white"
          },
          "hoverlabel": {
           "align": "left"
          },
          "hovermode": "closest",
          "mapbox": {
           "style": "light"
          },
          "paper_bgcolor": "white",
          "plot_bgcolor": "#E5ECF6",
          "polar": {
           "angularaxis": {
            "gridcolor": "white",
            "linecolor": "white",
            "ticks": ""
           },
           "bgcolor": "#E5ECF6",
           "radialaxis": {
            "gridcolor": "white",
            "linecolor": "white",
            "ticks": ""
           }
          },
          "scene": {
           "xaxis": {
            "backgroundcolor": "#E5ECF6",
            "gridcolor": "white",
            "gridwidth": 2,
            "linecolor": "white",
            "showbackground": true,
            "ticks": "",
            "zerolinecolor": "white"
           },
           "yaxis": {
            "backgroundcolor": "#E5ECF6",
            "gridcolor": "white",
            "gridwidth": 2,
            "linecolor": "white",
            "showbackground": true,
            "ticks": "",
            "zerolinecolor": "white"
           },
           "zaxis": {
            "backgroundcolor": "#E5ECF6",
            "gridcolor": "white",
            "gridwidth": 2,
            "linecolor": "white",
            "showbackground": true,
            "ticks": "",
            "zerolinecolor": "white"
           }
          },
          "shapedefaults": {
           "line": {
            "color": "#2a3f5f"
           }
          },
          "ternary": {
           "aaxis": {
            "gridcolor": "white",
            "linecolor": "white",
            "ticks": ""
           },
           "baxis": {
            "gridcolor": "white",
            "linecolor": "white",
            "ticks": ""
           },
           "bgcolor": "#E5ECF6",
           "caxis": {
            "gridcolor": "white",
            "linecolor": "white",
            "ticks": ""
           }
          },
          "title": {
           "x": 0.05
          },
          "xaxis": {
           "automargin": true,
           "gridcolor": "white",
           "linecolor": "white",
           "ticks": "",
           "title": {
            "standoff": 15
           },
           "zerolinecolor": "white",
           "zerolinewidth": 2
          },
          "yaxis": {
           "automargin": true,
           "gridcolor": "white",
           "linecolor": "white",
           "ticks": "",
           "title": {
            "standoff": 15
           },
           "zerolinecolor": "white",
           "zerolinewidth": 2
          }
         }
        },
        "title": {
         "text": "Top 10 Companies by Price Range"
        },
        "xaxis": {
         "anchor": "y",
         "domain": [
          0,
          1
         ],
         "tickangle": 45,
         "title": {
          "text": "Company Name"
         }
        },
        "yaxis": {
         "anchor": "x",
         "domain": [
          0,
          1
         ],
         "title": {
          "text": "Price_Range"
         }
        }
       }
      }
     },
     "metadata": {},
     "output_type": "display_data"
    }
   ],
   "source": [
    "top_10_data = data.sort_values(by='Price_Range', ascending=False).head(10)\n",
    "fig = px.line(\n",
    "    top_10_data,\n",
    "    x='Company Name',\n",
    "    y='Price_Range',\n",
    "    title='Top 10 Companies by Price Range',\n",
    "    markers=True\n",
    ")\n",
    "fig.update_layout(xaxis=dict(tickangle=45))\n",
    "fig.show()"
   ]
  },
  {
   "cell_type": "code",
   "execution_count": 24,
   "id": "1ef19d80-3b8a-4ef6-8ba8-1af6622d4e24",
   "metadata": {},
   "outputs": [
    {
     "data": {
      "application/vnd.plotly.v1+json": {
       "config": {
        "plotlyServerURL": "https://plot.ly"
       },
       "data": [
        {
         "alignmentgroup": "True",
         "bingroup": "x",
         "hovertemplate": "52_Week_Low=%{x}<br>count=%{y}<extra></extra>",
         "legendgroup": "",
         "marker": {
          "color": "blue",
          "pattern": {
           "shape": ""
          }
         },
         "name": "",
         "nbinsx": 30,
         "offsetgroup": "",
         "orientation": "v",
         "showlegend": false,
         "type": "histogram",
         "x": [
          26.8,
          103.6,
          17.2,
          6.58,
          21.6,
          84.18,
          69.6,
          27.45,
          33.05,
          10.02,
          49.65,
          2.39,
          13.7,
          72,
          106,
          10.38,
          37.55,
          23.64,
          17.5,
          35.85,
          26,
          35.5,
          7.7,
          112.6,
          25.15,
          32.65,
          20.08,
          70.97,
          18.62,
          38.9,
          21.74,
          62.5,
          27.85,
          36.9,
          33,
          43,
          14.58,
          31.77,
          8.19,
          16.82,
          8.71,
          23.98,
          28.35,
          39.65,
          50.8,
          32.1,
          22.3,
          30.2,
          11.68,
          10,
          14.64,
          22.64,
          70.7,
          12,
          2.1,
          87.5,
          33.3,
          18,
          2.15,
          18.27,
          20.82,
          55.5,
          18.25,
          1.99,
          31,
          45.7,
          12.36,
          5.73,
          104.4,
          106.4,
          2.89,
          7.56,
          16.2,
          64.9,
          28.55,
          57.4,
          73.8,
          133.2,
          24.38,
          2.71,
          3.93,
          12.84,
          24.43,
          46.1,
          14.66,
          22.08,
          0.58,
          1.99,
          22.64,
          8.9,
          97.7,
          2.25,
          159.8,
          100,
          55.7,
          23.08,
          70.5,
          20.3,
          14.7,
          141.8,
          167.2,
          27.5,
          7.56,
          12.48,
          77.9,
          42.51,
          7.45,
          5.58,
          25.15,
          25.7,
          10.96,
          5.91,
          63.3,
          122.8,
          80.9,
          36.65,
          19.98,
          0.85,
          44.75,
          59.4,
          62.6,
          42.45,
          53.6,
          4.75,
          19.78,
          15.9,
          15.18,
          19.6,
          16.02,
          42.95,
          12.9,
          87.6,
          21.23,
          34.95,
          287,
          51.6,
          10.24,
          42.4,
          54.8,
          11.59,
          255.4,
          140,
          92.8,
          150.8,
          39.5,
          61.5,
          3.88,
          25.5,
          102.4,
          90.2,
          23.88,
          13.14,
          11.62,
          30.2,
          32.7,
          17.44,
          69.8,
          28.84,
          27.28,
          32.4,
          14.52,
          10.08,
          11.98,
          168,
          10.06,
          0.11,
          25.9,
          6.82,
          40.7,
          114.4,
          14.04,
          13.2,
          16.38,
          13.9,
          16.9,
          18.38,
          13.22,
          14.5,
          13.64,
          12.3,
          12.2,
          15.93,
          14.77,
          8.24,
          17.04,
          186.2,
          62.32,
          18.94,
          25.6,
          10.46,
          17.7,
          16.12,
          16.7,
          10.3,
          10.9,
          35.85,
          45.2,
          10.36,
          44.83,
          56.6,
          16.04,
          16.42,
          100.1,
          209.58,
          53,
          6.43,
          14.68,
          5.77,
          9.93,
          8.47,
          4.73,
          5.4,
          4,
          7.14,
          7.23,
          6,
          8.15,
          4.48,
          10.06,
          4.15,
          8.91,
          5.95,
          7.92,
          8.68,
          11.76,
          25.65,
          62.5,
          19.52,
          6.23,
          19.44,
          11.18,
          12.1,
          18.82,
          19.26,
          7.87,
          30.02,
          19.9,
          120.2,
          5.06,
          255,
          1,
          10.84,
          103.4,
          10.46,
          42.25,
          7.94,
          7.9,
          47.9,
          28.7,
          10.37,
          10.4,
          6.14,
          12.6,
          9.87,
          6.97,
          6.6,
          9.77,
          9.84
         ],
         "xaxis": "x",
         "yaxis": "y"
        }
       ],
       "layout": {
        "barmode": "relative",
        "legend": {
         "tracegroupgap": 0
        },
        "template": {
         "data": {
          "bar": [
           {
            "error_x": {
             "color": "#2a3f5f"
            },
            "error_y": {
             "color": "#2a3f5f"
            },
            "marker": {
             "line": {
              "color": "#E5ECF6",
              "width": 0.5
             },
             "pattern": {
              "fillmode": "overlay",
              "size": 10,
              "solidity": 0.2
             }
            },
            "type": "bar"
           }
          ],
          "barpolar": [
           {
            "marker": {
             "line": {
              "color": "#E5ECF6",
              "width": 0.5
             },
             "pattern": {
              "fillmode": "overlay",
              "size": 10,
              "solidity": 0.2
             }
            },
            "type": "barpolar"
           }
          ],
          "carpet": [
           {
            "aaxis": {
             "endlinecolor": "#2a3f5f",
             "gridcolor": "white",
             "linecolor": "white",
             "minorgridcolor": "white",
             "startlinecolor": "#2a3f5f"
            },
            "baxis": {
             "endlinecolor": "#2a3f5f",
             "gridcolor": "white",
             "linecolor": "white",
             "minorgridcolor": "white",
             "startlinecolor": "#2a3f5f"
            },
            "type": "carpet"
           }
          ],
          "choropleth": [
           {
            "colorbar": {
             "outlinewidth": 0,
             "ticks": ""
            },
            "type": "choropleth"
           }
          ],
          "contour": [
           {
            "colorbar": {
             "outlinewidth": 0,
             "ticks": ""
            },
            "colorscale": [
             [
              0,
              "#0d0887"
             ],
             [
              0.1111111111111111,
              "#46039f"
             ],
             [
              0.2222222222222222,
              "#7201a8"
             ],
             [
              0.3333333333333333,
              "#9c179e"
             ],
             [
              0.4444444444444444,
              "#bd3786"
             ],
             [
              0.5555555555555556,
              "#d8576b"
             ],
             [
              0.6666666666666666,
              "#ed7953"
             ],
             [
              0.7777777777777778,
              "#fb9f3a"
             ],
             [
              0.8888888888888888,
              "#fdca26"
             ],
             [
              1,
              "#f0f921"
             ]
            ],
            "type": "contour"
           }
          ],
          "contourcarpet": [
           {
            "colorbar": {
             "outlinewidth": 0,
             "ticks": ""
            },
            "type": "contourcarpet"
           }
          ],
          "heatmap": [
           {
            "colorbar": {
             "outlinewidth": 0,
             "ticks": ""
            },
            "colorscale": [
             [
              0,
              "#0d0887"
             ],
             [
              0.1111111111111111,
              "#46039f"
             ],
             [
              0.2222222222222222,
              "#7201a8"
             ],
             [
              0.3333333333333333,
              "#9c179e"
             ],
             [
              0.4444444444444444,
              "#bd3786"
             ],
             [
              0.5555555555555556,
              "#d8576b"
             ],
             [
              0.6666666666666666,
              "#ed7953"
             ],
             [
              0.7777777777777778,
              "#fb9f3a"
             ],
             [
              0.8888888888888888,
              "#fdca26"
             ],
             [
              1,
              "#f0f921"
             ]
            ],
            "type": "heatmap"
           }
          ],
          "heatmapgl": [
           {
            "colorbar": {
             "outlinewidth": 0,
             "ticks": ""
            },
            "colorscale": [
             [
              0,
              "#0d0887"
             ],
             [
              0.1111111111111111,
              "#46039f"
             ],
             [
              0.2222222222222222,
              "#7201a8"
             ],
             [
              0.3333333333333333,
              "#9c179e"
             ],
             [
              0.4444444444444444,
              "#bd3786"
             ],
             [
              0.5555555555555556,
              "#d8576b"
             ],
             [
              0.6666666666666666,
              "#ed7953"
             ],
             [
              0.7777777777777778,
              "#fb9f3a"
             ],
             [
              0.8888888888888888,
              "#fdca26"
             ],
             [
              1,
              "#f0f921"
             ]
            ],
            "type": "heatmapgl"
           }
          ],
          "histogram": [
           {
            "marker": {
             "pattern": {
              "fillmode": "overlay",
              "size": 10,
              "solidity": 0.2
             }
            },
            "type": "histogram"
           }
          ],
          "histogram2d": [
           {
            "colorbar": {
             "outlinewidth": 0,
             "ticks": ""
            },
            "colorscale": [
             [
              0,
              "#0d0887"
             ],
             [
              0.1111111111111111,
              "#46039f"
             ],
             [
              0.2222222222222222,
              "#7201a8"
             ],
             [
              0.3333333333333333,
              "#9c179e"
             ],
             [
              0.4444444444444444,
              "#bd3786"
             ],
             [
              0.5555555555555556,
              "#d8576b"
             ],
             [
              0.6666666666666666,
              "#ed7953"
             ],
             [
              0.7777777777777778,
              "#fb9f3a"
             ],
             [
              0.8888888888888888,
              "#fdca26"
             ],
             [
              1,
              "#f0f921"
             ]
            ],
            "type": "histogram2d"
           }
          ],
          "histogram2dcontour": [
           {
            "colorbar": {
             "outlinewidth": 0,
             "ticks": ""
            },
            "colorscale": [
             [
              0,
              "#0d0887"
             ],
             [
              0.1111111111111111,
              "#46039f"
             ],
             [
              0.2222222222222222,
              "#7201a8"
             ],
             [
              0.3333333333333333,
              "#9c179e"
             ],
             [
              0.4444444444444444,
              "#bd3786"
             ],
             [
              0.5555555555555556,
              "#d8576b"
             ],
             [
              0.6666666666666666,
              "#ed7953"
             ],
             [
              0.7777777777777778,
              "#fb9f3a"
             ],
             [
              0.8888888888888888,
              "#fdca26"
             ],
             [
              1,
              "#f0f921"
             ]
            ],
            "type": "histogram2dcontour"
           }
          ],
          "mesh3d": [
           {
            "colorbar": {
             "outlinewidth": 0,
             "ticks": ""
            },
            "type": "mesh3d"
           }
          ],
          "parcoords": [
           {
            "line": {
             "colorbar": {
              "outlinewidth": 0,
              "ticks": ""
             }
            },
            "type": "parcoords"
           }
          ],
          "pie": [
           {
            "automargin": true,
            "type": "pie"
           }
          ],
          "scatter": [
           {
            "fillpattern": {
             "fillmode": "overlay",
             "size": 10,
             "solidity": 0.2
            },
            "type": "scatter"
           }
          ],
          "scatter3d": [
           {
            "line": {
             "colorbar": {
              "outlinewidth": 0,
              "ticks": ""
             }
            },
            "marker": {
             "colorbar": {
              "outlinewidth": 0,
              "ticks": ""
             }
            },
            "type": "scatter3d"
           }
          ],
          "scattercarpet": [
           {
            "marker": {
             "colorbar": {
              "outlinewidth": 0,
              "ticks": ""
             }
            },
            "type": "scattercarpet"
           }
          ],
          "scattergeo": [
           {
            "marker": {
             "colorbar": {
              "outlinewidth": 0,
              "ticks": ""
             }
            },
            "type": "scattergeo"
           }
          ],
          "scattergl": [
           {
            "marker": {
             "colorbar": {
              "outlinewidth": 0,
              "ticks": ""
             }
            },
            "type": "scattergl"
           }
          ],
          "scattermapbox": [
           {
            "marker": {
             "colorbar": {
              "outlinewidth": 0,
              "ticks": ""
             }
            },
            "type": "scattermapbox"
           }
          ],
          "scatterpolar": [
           {
            "marker": {
             "colorbar": {
              "outlinewidth": 0,
              "ticks": ""
             }
            },
            "type": "scatterpolar"
           }
          ],
          "scatterpolargl": [
           {
            "marker": {
             "colorbar": {
              "outlinewidth": 0,
              "ticks": ""
             }
            },
            "type": "scatterpolargl"
           }
          ],
          "scatterternary": [
           {
            "marker": {
             "colorbar": {
              "outlinewidth": 0,
              "ticks": ""
             }
            },
            "type": "scatterternary"
           }
          ],
          "surface": [
           {
            "colorbar": {
             "outlinewidth": 0,
             "ticks": ""
            },
            "colorscale": [
             [
              0,
              "#0d0887"
             ],
             [
              0.1111111111111111,
              "#46039f"
             ],
             [
              0.2222222222222222,
              "#7201a8"
             ],
             [
              0.3333333333333333,
              "#9c179e"
             ],
             [
              0.4444444444444444,
              "#bd3786"
             ],
             [
              0.5555555555555556,
              "#d8576b"
             ],
             [
              0.6666666666666666,
              "#ed7953"
             ],
             [
              0.7777777777777778,
              "#fb9f3a"
             ],
             [
              0.8888888888888888,
              "#fdca26"
             ],
             [
              1,
              "#f0f921"
             ]
            ],
            "type": "surface"
           }
          ],
          "table": [
           {
            "cells": {
             "fill": {
              "color": "#EBF0F8"
             },
             "line": {
              "color": "white"
             }
            },
            "header": {
             "fill": {
              "color": "#C8D4E3"
             },
             "line": {
              "color": "white"
             }
            },
            "type": "table"
           }
          ]
         },
         "layout": {
          "annotationdefaults": {
           "arrowcolor": "#2a3f5f",
           "arrowhead": 0,
           "arrowwidth": 1
          },
          "autotypenumbers": "strict",
          "coloraxis": {
           "colorbar": {
            "outlinewidth": 0,
            "ticks": ""
           }
          },
          "colorscale": {
           "diverging": [
            [
             0,
             "#8e0152"
            ],
            [
             0.1,
             "#c51b7d"
            ],
            [
             0.2,
             "#de77ae"
            ],
            [
             0.3,
             "#f1b6da"
            ],
            [
             0.4,
             "#fde0ef"
            ],
            [
             0.5,
             "#f7f7f7"
            ],
            [
             0.6,
             "#e6f5d0"
            ],
            [
             0.7,
             "#b8e186"
            ],
            [
             0.8,
             "#7fbc41"
            ],
            [
             0.9,
             "#4d9221"
            ],
            [
             1,
             "#276419"
            ]
           ],
           "sequential": [
            [
             0,
             "#0d0887"
            ],
            [
             0.1111111111111111,
             "#46039f"
            ],
            [
             0.2222222222222222,
             "#7201a8"
            ],
            [
             0.3333333333333333,
             "#9c179e"
            ],
            [
             0.4444444444444444,
             "#bd3786"
            ],
            [
             0.5555555555555556,
             "#d8576b"
            ],
            [
             0.6666666666666666,
             "#ed7953"
            ],
            [
             0.7777777777777778,
             "#fb9f3a"
            ],
            [
             0.8888888888888888,
             "#fdca26"
            ],
            [
             1,
             "#f0f921"
            ]
           ],
           "sequentialminus": [
            [
             0,
             "#0d0887"
            ],
            [
             0.1111111111111111,
             "#46039f"
            ],
            [
             0.2222222222222222,
             "#7201a8"
            ],
            [
             0.3333333333333333,
             "#9c179e"
            ],
            [
             0.4444444444444444,
             "#bd3786"
            ],
            [
             0.5555555555555556,
             "#d8576b"
            ],
            [
             0.6666666666666666,
             "#ed7953"
            ],
            [
             0.7777777777777778,
             "#fb9f3a"
            ],
            [
             0.8888888888888888,
             "#fdca26"
            ],
            [
             1,
             "#f0f921"
            ]
           ]
          },
          "colorway": [
           "#636efa",
           "#EF553B",
           "#00cc96",
           "#ab63fa",
           "#FFA15A",
           "#19d3f3",
           "#FF6692",
           "#B6E880",
           "#FF97FF",
           "#FECB52"
          ],
          "font": {
           "color": "#2a3f5f"
          },
          "geo": {
           "bgcolor": "white",
           "lakecolor": "white",
           "landcolor": "#E5ECF6",
           "showlakes": true,
           "showland": true,
           "subunitcolor": "white"
          },
          "hoverlabel": {
           "align": "left"
          },
          "hovermode": "closest",
          "mapbox": {
           "style": "light"
          },
          "paper_bgcolor": "white",
          "plot_bgcolor": "#E5ECF6",
          "polar": {
           "angularaxis": {
            "gridcolor": "white",
            "linecolor": "white",
            "ticks": ""
           },
           "bgcolor": "#E5ECF6",
           "radialaxis": {
            "gridcolor": "white",
            "linecolor": "white",
            "ticks": ""
           }
          },
          "scene": {
           "xaxis": {
            "backgroundcolor": "#E5ECF6",
            "gridcolor": "white",
            "gridwidth": 2,
            "linecolor": "white",
            "showbackground": true,
            "ticks": "",
            "zerolinecolor": "white"
           },
           "yaxis": {
            "backgroundcolor": "#E5ECF6",
            "gridcolor": "white",
            "gridwidth": 2,
            "linecolor": "white",
            "showbackground": true,
            "ticks": "",
            "zerolinecolor": "white"
           },
           "zaxis": {
            "backgroundcolor": "#E5ECF6",
            "gridcolor": "white",
            "gridwidth": 2,
            "linecolor": "white",
            "showbackground": true,
            "ticks": "",
            "zerolinecolor": "white"
           }
          },
          "shapedefaults": {
           "line": {
            "color": "#2a3f5f"
           }
          },
          "ternary": {
           "aaxis": {
            "gridcolor": "white",
            "linecolor": "white",
            "ticks": ""
           },
           "baxis": {
            "gridcolor": "white",
            "linecolor": "white",
            "ticks": ""
           },
           "bgcolor": "#E5ECF6",
           "caxis": {
            "gridcolor": "white",
            "linecolor": "white",
            "ticks": ""
           }
          },
          "title": {
           "x": 0.05
          },
          "xaxis": {
           "automargin": true,
           "gridcolor": "white",
           "linecolor": "white",
           "ticks": "",
           "title": {
            "standoff": 15
           },
           "zerolinecolor": "white",
           "zerolinewidth": 2
          },
          "yaxis": {
           "automargin": true,
           "gridcolor": "white",
           "linecolor": "white",
           "ticks": "",
           "title": {
            "standoff": 15
           },
           "zerolinecolor": "white",
           "zerolinewidth": 2
          }
         }
        },
        "title": {
         "text": "Distribution of 52-Week Low Prices"
        },
        "xaxis": {
         "anchor": "y",
         "domain": [
          0,
          1
         ],
         "title": {
          "text": "52_Week_Low"
         }
        },
        "yaxis": {
         "anchor": "x",
         "domain": [
          0,
          1
         ],
         "title": {
          "text": "count"
         }
        }
       }
      }
     },
     "metadata": {},
     "output_type": "display_data"
    },
    {
     "data": {
      "application/vnd.plotly.v1+json": {
       "config": {
        "plotlyServerURL": "https://plot.ly"
       },
       "data": [
        {
         "alignmentgroup": "True",
         "bingroup": "x",
         "hovertemplate": "52_Week_High=%{x}<br>count=%{y}<extra></extra>",
         "legendgroup": "",
         "marker": {
          "color": "green",
          "pattern": {
           "shape": ""
          }
         },
         "name": "",
         "nbinsx": 30,
         "offsetgroup": "",
         "orientation": "v",
         "showlegend": false,
         "type": "histogram",
         "x": [
          33.9,
          214.2,
          26.1,
          11.06,
          30.4,
          147.81,
          98.5,
          48.95,
          54.3,
          17.72,
          75.5,
          3.38,
          20.98,
          89,
          142.6,
          15.08,
          47.45,
          37.05,
          24.66,
          43,
          36.5,
          46.3,
          11.46,
          179,
          38.3,
          94,
          30.5,
          146,
          34.3,
          56.9,
          43.5,
          177.8,
          36.75,
          57.4,
          56.7,
          60.4,
          21.48,
          83.8,
          11.7,
          21.64,
          10.84,
          35.9,
          37.15,
          54.4,
          64.6,
          44,
          36.2,
          38.8,
          15.34,
          12.74,
          17.92,
          38.25,
          122,
          35.15,
          3.12,
          193.8,
          54.5,
          43.5,
          8.7,
          33.5,
          48.85,
          109.4,
          34.4,
          4.16,
          48.7,
          73.5,
          18.36,
          8.45,
          147.4,
          147,
          4.23,
          11.36,
          23.84,
          98.6,
          60,
          81,
          125,
          328,
          41,
          4.53,
          5.58,
          18.58,
          41.45,
          88.5,
          20.5,
          35.8,
          1.11,
          3.37,
          38.15,
          24.4,
          160,
          3.75,
          246.6,
          233,
          85.5,
          34.9,
          123.8,
          41.15,
          18.1,
          335.6,
          298.4,
          87.8,
          18.94,
          15.96,
          103.8,
          91.4,
          12.1,
          7.91,
          34.75,
          45.7,
          14.4,
          9.74,
          128.2,
          156.8,
          121.6,
          63.27,
          31.5,
          1.49,
          69.4,
          83,
          90,
          81.1,
          72.6,
          5.79,
          36.05,
          21.2,
          21.48,
          31.7,
          24.64,
          74,
          19.78,
          158,
          34.13,
          57.9,
          439,
          64.1,
          16.1,
          63.4,
          66.7,
          26.79,
          346.8,
          227.6,
          144,
          194,
          71.8,
          134.4,
          12.24,
          42.85,
          202.4,
          197.6,
          31.55,
          18.24,
          13.86,
          42.95,
          42.65,
          23.5,
          93,
          41.36,
          36,
          44.35,
          20.14,
          14.22,
          16.32,
          284.8,
          12.7,
          0.46,
          49.4,
          11.78,
          79,
          176,
          22.3,
          35.05,
          35.3,
          22.46,
          24.86,
          36.7,
          22.3,
          21.02,
          25.7,
          21.94,
          17.7,
          26.06,
          25.75,
          14,
          41.25,
          284.6,
          230,
          51,
          41.55,
          17,
          24.54,
          22.92,
          34,
          17,
          21.76,
          46.5,
          57,
          15.18,
          127,
          117.2,
          20.64,
          45.55,
          203.06,
          500.8,
          78.4,
          9.25,
          21.6,
          7.3,
          12.58,
          9.63,
          5.94,
          6.25,
          5.57,
          9.23,
          9.13,
          8.35,
          9.09,
          5.4,
          13.64,
          5.34,
          10.06,
          6.65,
          10,
          11.88,
          27.6,
          48.9,
          122.4,
          30.6,
          9.53,
          31.5,
          17.58,
          19.36,
          30.95,
          26.65,
          16.04,
          54,
          80,
          207,
          8.36,
          409.8,
          702.2,
          18.78,
          198.8,
          12.12,
          49.9,
          8.49,
          9.44,
          54.2,
          37,
          10.68,
          14.8,
          7.37,
          18.44,
          12.46,
          9.9,
          9.9,
          10.64,
          14.16
         ],
         "xaxis": "x",
         "yaxis": "y"
        }
       ],
       "layout": {
        "barmode": "relative",
        "legend": {
         "tracegroupgap": 0
        },
        "template": {
         "data": {
          "bar": [
           {
            "error_x": {
             "color": "#2a3f5f"
            },
            "error_y": {
             "color": "#2a3f5f"
            },
            "marker": {
             "line": {
              "color": "#E5ECF6",
              "width": 0.5
             },
             "pattern": {
              "fillmode": "overlay",
              "size": 10,
              "solidity": 0.2
             }
            },
            "type": "bar"
           }
          ],
          "barpolar": [
           {
            "marker": {
             "line": {
              "color": "#E5ECF6",
              "width": 0.5
             },
             "pattern": {
              "fillmode": "overlay",
              "size": 10,
              "solidity": 0.2
             }
            },
            "type": "barpolar"
           }
          ],
          "carpet": [
           {
            "aaxis": {
             "endlinecolor": "#2a3f5f",
             "gridcolor": "white",
             "linecolor": "white",
             "minorgridcolor": "white",
             "startlinecolor": "#2a3f5f"
            },
            "baxis": {
             "endlinecolor": "#2a3f5f",
             "gridcolor": "white",
             "linecolor": "white",
             "minorgridcolor": "white",
             "startlinecolor": "#2a3f5f"
            },
            "type": "carpet"
           }
          ],
          "choropleth": [
           {
            "colorbar": {
             "outlinewidth": 0,
             "ticks": ""
            },
            "type": "choropleth"
           }
          ],
          "contour": [
           {
            "colorbar": {
             "outlinewidth": 0,
             "ticks": ""
            },
            "colorscale": [
             [
              0,
              "#0d0887"
             ],
             [
              0.1111111111111111,
              "#46039f"
             ],
             [
              0.2222222222222222,
              "#7201a8"
             ],
             [
              0.3333333333333333,
              "#9c179e"
             ],
             [
              0.4444444444444444,
              "#bd3786"
             ],
             [
              0.5555555555555556,
              "#d8576b"
             ],
             [
              0.6666666666666666,
              "#ed7953"
             ],
             [
              0.7777777777777778,
              "#fb9f3a"
             ],
             [
              0.8888888888888888,
              "#fdca26"
             ],
             [
              1,
              "#f0f921"
             ]
            ],
            "type": "contour"
           }
          ],
          "contourcarpet": [
           {
            "colorbar": {
             "outlinewidth": 0,
             "ticks": ""
            },
            "type": "contourcarpet"
           }
          ],
          "heatmap": [
           {
            "colorbar": {
             "outlinewidth": 0,
             "ticks": ""
            },
            "colorscale": [
             [
              0,
              "#0d0887"
             ],
             [
              0.1111111111111111,
              "#46039f"
             ],
             [
              0.2222222222222222,
              "#7201a8"
             ],
             [
              0.3333333333333333,
              "#9c179e"
             ],
             [
              0.4444444444444444,
              "#bd3786"
             ],
             [
              0.5555555555555556,
              "#d8576b"
             ],
             [
              0.6666666666666666,
              "#ed7953"
             ],
             [
              0.7777777777777778,
              "#fb9f3a"
             ],
             [
              0.8888888888888888,
              "#fdca26"
             ],
             [
              1,
              "#f0f921"
             ]
            ],
            "type": "heatmap"
           }
          ],
          "heatmapgl": [
           {
            "colorbar": {
             "outlinewidth": 0,
             "ticks": ""
            },
            "colorscale": [
             [
              0,
              "#0d0887"
             ],
             [
              0.1111111111111111,
              "#46039f"
             ],
             [
              0.2222222222222222,
              "#7201a8"
             ],
             [
              0.3333333333333333,
              "#9c179e"
             ],
             [
              0.4444444444444444,
              "#bd3786"
             ],
             [
              0.5555555555555556,
              "#d8576b"
             ],
             [
              0.6666666666666666,
              "#ed7953"
             ],
             [
              0.7777777777777778,
              "#fb9f3a"
             ],
             [
              0.8888888888888888,
              "#fdca26"
             ],
             [
              1,
              "#f0f921"
             ]
            ],
            "type": "heatmapgl"
           }
          ],
          "histogram": [
           {
            "marker": {
             "pattern": {
              "fillmode": "overlay",
              "size": 10,
              "solidity": 0.2
             }
            },
            "type": "histogram"
           }
          ],
          "histogram2d": [
           {
            "colorbar": {
             "outlinewidth": 0,
             "ticks": ""
            },
            "colorscale": [
             [
              0,
              "#0d0887"
             ],
             [
              0.1111111111111111,
              "#46039f"
             ],
             [
              0.2222222222222222,
              "#7201a8"
             ],
             [
              0.3333333333333333,
              "#9c179e"
             ],
             [
              0.4444444444444444,
              "#bd3786"
             ],
             [
              0.5555555555555556,
              "#d8576b"
             ],
             [
              0.6666666666666666,
              "#ed7953"
             ],
             [
              0.7777777777777778,
              "#fb9f3a"
             ],
             [
              0.8888888888888888,
              "#fdca26"
             ],
             [
              1,
              "#f0f921"
             ]
            ],
            "type": "histogram2d"
           }
          ],
          "histogram2dcontour": [
           {
            "colorbar": {
             "outlinewidth": 0,
             "ticks": ""
            },
            "colorscale": [
             [
              0,
              "#0d0887"
             ],
             [
              0.1111111111111111,
              "#46039f"
             ],
             [
              0.2222222222222222,
              "#7201a8"
             ],
             [
              0.3333333333333333,
              "#9c179e"
             ],
             [
              0.4444444444444444,
              "#bd3786"
             ],
             [
              0.5555555555555556,
              "#d8576b"
             ],
             [
              0.6666666666666666,
              "#ed7953"
             ],
             [
              0.7777777777777778,
              "#fb9f3a"
             ],
             [
              0.8888888888888888,
              "#fdca26"
             ],
             [
              1,
              "#f0f921"
             ]
            ],
            "type": "histogram2dcontour"
           }
          ],
          "mesh3d": [
           {
            "colorbar": {
             "outlinewidth": 0,
             "ticks": ""
            },
            "type": "mesh3d"
           }
          ],
          "parcoords": [
           {
            "line": {
             "colorbar": {
              "outlinewidth": 0,
              "ticks": ""
             }
            },
            "type": "parcoords"
           }
          ],
          "pie": [
           {
            "automargin": true,
            "type": "pie"
           }
          ],
          "scatter": [
           {
            "fillpattern": {
             "fillmode": "overlay",
             "size": 10,
             "solidity": 0.2
            },
            "type": "scatter"
           }
          ],
          "scatter3d": [
           {
            "line": {
             "colorbar": {
              "outlinewidth": 0,
              "ticks": ""
             }
            },
            "marker": {
             "colorbar": {
              "outlinewidth": 0,
              "ticks": ""
             }
            },
            "type": "scatter3d"
           }
          ],
          "scattercarpet": [
           {
            "marker": {
             "colorbar": {
              "outlinewidth": 0,
              "ticks": ""
             }
            },
            "type": "scattercarpet"
           }
          ],
          "scattergeo": [
           {
            "marker": {
             "colorbar": {
              "outlinewidth": 0,
              "ticks": ""
             }
            },
            "type": "scattergeo"
           }
          ],
          "scattergl": [
           {
            "marker": {
             "colorbar": {
              "outlinewidth": 0,
              "ticks": ""
             }
            },
            "type": "scattergl"
           }
          ],
          "scattermapbox": [
           {
            "marker": {
             "colorbar": {
              "outlinewidth": 0,
              "ticks": ""
             }
            },
            "type": "scattermapbox"
           }
          ],
          "scatterpolar": [
           {
            "marker": {
             "colorbar": {
              "outlinewidth": 0,
              "ticks": ""
             }
            },
            "type": "scatterpolar"
           }
          ],
          "scatterpolargl": [
           {
            "marker": {
             "colorbar": {
              "outlinewidth": 0,
              "ticks": ""
             }
            },
            "type": "scatterpolargl"
           }
          ],
          "scatterternary": [
           {
            "marker": {
             "colorbar": {
              "outlinewidth": 0,
              "ticks": ""
             }
            },
            "type": "scatterternary"
           }
          ],
          "surface": [
           {
            "colorbar": {
             "outlinewidth": 0,
             "ticks": ""
            },
            "colorscale": [
             [
              0,
              "#0d0887"
             ],
             [
              0.1111111111111111,
              "#46039f"
             ],
             [
              0.2222222222222222,
              "#7201a8"
             ],
             [
              0.3333333333333333,
              "#9c179e"
             ],
             [
              0.4444444444444444,
              "#bd3786"
             ],
             [
              0.5555555555555556,
              "#d8576b"
             ],
             [
              0.6666666666666666,
              "#ed7953"
             ],
             [
              0.7777777777777778,
              "#fb9f3a"
             ],
             [
              0.8888888888888888,
              "#fdca26"
             ],
             [
              1,
              "#f0f921"
             ]
            ],
            "type": "surface"
           }
          ],
          "table": [
           {
            "cells": {
             "fill": {
              "color": "#EBF0F8"
             },
             "line": {
              "color": "white"
             }
            },
            "header": {
             "fill": {
              "color": "#C8D4E3"
             },
             "line": {
              "color": "white"
             }
            },
            "type": "table"
           }
          ]
         },
         "layout": {
          "annotationdefaults": {
           "arrowcolor": "#2a3f5f",
           "arrowhead": 0,
           "arrowwidth": 1
          },
          "autotypenumbers": "strict",
          "coloraxis": {
           "colorbar": {
            "outlinewidth": 0,
            "ticks": ""
           }
          },
          "colorscale": {
           "diverging": [
            [
             0,
             "#8e0152"
            ],
            [
             0.1,
             "#c51b7d"
            ],
            [
             0.2,
             "#de77ae"
            ],
            [
             0.3,
             "#f1b6da"
            ],
            [
             0.4,
             "#fde0ef"
            ],
            [
             0.5,
             "#f7f7f7"
            ],
            [
             0.6,
             "#e6f5d0"
            ],
            [
             0.7,
             "#b8e186"
            ],
            [
             0.8,
             "#7fbc41"
            ],
            [
             0.9,
             "#4d9221"
            ],
            [
             1,
             "#276419"
            ]
           ],
           "sequential": [
            [
             0,
             "#0d0887"
            ],
            [
             0.1111111111111111,
             "#46039f"
            ],
            [
             0.2222222222222222,
             "#7201a8"
            ],
            [
             0.3333333333333333,
             "#9c179e"
            ],
            [
             0.4444444444444444,
             "#bd3786"
            ],
            [
             0.5555555555555556,
             "#d8576b"
            ],
            [
             0.6666666666666666,
             "#ed7953"
            ],
            [
             0.7777777777777778,
             "#fb9f3a"
            ],
            [
             0.8888888888888888,
             "#fdca26"
            ],
            [
             1,
             "#f0f921"
            ]
           ],
           "sequentialminus": [
            [
             0,
             "#0d0887"
            ],
            [
             0.1111111111111111,
             "#46039f"
            ],
            [
             0.2222222222222222,
             "#7201a8"
            ],
            [
             0.3333333333333333,
             "#9c179e"
            ],
            [
             0.4444444444444444,
             "#bd3786"
            ],
            [
             0.5555555555555556,
             "#d8576b"
            ],
            [
             0.6666666666666666,
             "#ed7953"
            ],
            [
             0.7777777777777778,
             "#fb9f3a"
            ],
            [
             0.8888888888888888,
             "#fdca26"
            ],
            [
             1,
             "#f0f921"
            ]
           ]
          },
          "colorway": [
           "#636efa",
           "#EF553B",
           "#00cc96",
           "#ab63fa",
           "#FFA15A",
           "#19d3f3",
           "#FF6692",
           "#B6E880",
           "#FF97FF",
           "#FECB52"
          ],
          "font": {
           "color": "#2a3f5f"
          },
          "geo": {
           "bgcolor": "white",
           "lakecolor": "white",
           "landcolor": "#E5ECF6",
           "showlakes": true,
           "showland": true,
           "subunitcolor": "white"
          },
          "hoverlabel": {
           "align": "left"
          },
          "hovermode": "closest",
          "mapbox": {
           "style": "light"
          },
          "paper_bgcolor": "white",
          "plot_bgcolor": "#E5ECF6",
          "polar": {
           "angularaxis": {
            "gridcolor": "white",
            "linecolor": "white",
            "ticks": ""
           },
           "bgcolor": "#E5ECF6",
           "radialaxis": {
            "gridcolor": "white",
            "linecolor": "white",
            "ticks": ""
           }
          },
          "scene": {
           "xaxis": {
            "backgroundcolor": "#E5ECF6",
            "gridcolor": "white",
            "gridwidth": 2,
            "linecolor": "white",
            "showbackground": true,
            "ticks": "",
            "zerolinecolor": "white"
           },
           "yaxis": {
            "backgroundcolor": "#E5ECF6",
            "gridcolor": "white",
            "gridwidth": 2,
            "linecolor": "white",
            "showbackground": true,
            "ticks": "",
            "zerolinecolor": "white"
           },
           "zaxis": {
            "backgroundcolor": "#E5ECF6",
            "gridcolor": "white",
            "gridwidth": 2,
            "linecolor": "white",
            "showbackground": true,
            "ticks": "",
            "zerolinecolor": "white"
           }
          },
          "shapedefaults": {
           "line": {
            "color": "#2a3f5f"
           }
          },
          "ternary": {
           "aaxis": {
            "gridcolor": "white",
            "linecolor": "white",
            "ticks": ""
           },
           "baxis": {
            "gridcolor": "white",
            "linecolor": "white",
            "ticks": ""
           },
           "bgcolor": "#E5ECF6",
           "caxis": {
            "gridcolor": "white",
            "linecolor": "white",
            "ticks": ""
           }
          },
          "title": {
           "x": 0.05
          },
          "xaxis": {
           "automargin": true,
           "gridcolor": "white",
           "linecolor": "white",
           "ticks": "",
           "title": {
            "standoff": 15
           },
           "zerolinecolor": "white",
           "zerolinewidth": 2
          },
          "yaxis": {
           "automargin": true,
           "gridcolor": "white",
           "linecolor": "white",
           "ticks": "",
           "title": {
            "standoff": 15
           },
           "zerolinecolor": "white",
           "zerolinewidth": 2
          }
         }
        },
        "title": {
         "text": "Distribution of 52-Week High Prices"
        },
        "xaxis": {
         "anchor": "y",
         "domain": [
          0,
          1
         ],
         "title": {
          "text": "52_Week_High"
         }
        },
        "yaxis": {
         "anchor": "x",
         "domain": [
          0,
          1
         ],
         "title": {
          "text": "count"
         }
        }
       }
      }
     },
     "metadata": {},
     "output_type": "display_data"
    }
   ],
   "source": [
    "fig_low = px.histogram(\n",
    "    data,\n",
    "    x='52_Week_Low',\n",
    "    nbins=30,\n",
    "    title='Distribution of 52-Week Low Prices',\n",
    "    color_discrete_sequence=['blue']\n",
    ")\n",
    "fig_low.show()\n",
    "fig_high = px.histogram(\n",
    "    data,\n",
    "    x='52_Week_High',\n",
    "    nbins=30,\n",
    "    title='Distribution of 52-Week High Prices',\n",
    "    color_discrete_sequence=['green']\n",
    ")\n",
    "fig_high.show()"
   ]
  },
  {
   "cell_type": "code",
   "execution_count": 25,
   "id": "f3e21fd1-2769-484a-9368-164379c035df",
   "metadata": {},
   "outputs": [
    {
     "data": {
      "application/vnd.plotly.v1+json": {
       "config": {
        "plotlyServerURL": "https://plot.ly"
       },
       "data": [
        {
         "customdata": [
          [
           38332150
          ]
         ],
         "hovertemplate": "Company Name=SAUDI ARAMCO<br>Price=%{x}<br>Turnover=%{y}<br>Volume=%{customdata[0]}<extra></extra>",
         "legendgroup": "SAUDI ARAMCO",
         "marker": {
          "color": "#636efa",
          "size": [
           38332150
          ],
          "sizemode": "area",
          "sizeref": 560888.798125,
          "symbol": "circle"
         },
         "mode": "markers",
         "name": "SAUDI ARAMCO",
         "orientation": "v",
         "showlegend": true,
         "type": "scatter",
         "x": [
          28
         ],
         "xaxis": "x",
         "y": [
          1071073603
         ],
         "yaxis": "y"
        },
        {
         "customdata": [
          [
           210765
          ]
         ],
         "hovertemplate": "Company Name=ARABIAN DRILLING<br>Price=%{x}<br>Turnover=%{y}<br>Volume=%{customdata[0]}<extra></extra>",
         "legendgroup": "ARABIAN DRILLING",
         "marker": {
          "color": "#EF553B",
          "size": [
           210765
          ],
          "sizemode": "area",
          "sizeref": 560888.798125,
          "symbol": "circle"
         },
         "mode": "markers",
         "name": "ARABIAN DRILLING",
         "orientation": "v",
         "showlegend": true,
         "type": "scatter",
         "x": [
          110.2
         ],
         "xaxis": "x",
         "y": [
          23366519
         ],
         "yaxis": "y"
        },
        {
         "customdata": [
          [
           910419
          ]
         ],
         "hovertemplate": "Company Name=ADES<br>Price=%{x}<br>Turnover=%{y}<br>Volume=%{customdata[0]}<extra></extra>",
         "legendgroup": "ADES",
         "marker": {
          "color": "#00cc96",
          "size": [
           910419
          ],
          "sizemode": "area",
          "sizeref": 560888.798125,
          "symbol": "circle"
         },
         "mode": "markers",
         "name": "ADES",
         "orientation": "v",
         "showlegend": true,
         "type": "scatter",
         "x": [
          19.74
         ],
         "xaxis": "x",
         "y": [
          17988539
         ],
         "yaxis": "y"
        },
        {
         "customdata": [
          [
           1822497
          ]
         ],
         "hovertemplate": "Company Name=PETRO RABIGH<br>Price=%{x}<br>Turnover=%{y}<br>Volume=%{customdata[0]}<extra></extra>",
         "legendgroup": "PETRO RABIGH",
         "marker": {
          "color": "#ab63fa",
          "size": [
           1822497
          ],
          "sizemode": "area",
          "sizeref": 560888.798125,
          "symbol": "circle"
         },
         "mode": "markers",
         "name": "PETRO RABIGH",
         "orientation": "v",
         "showlegend": true,
         "type": "scatter",
         "x": [
          8.37
         ],
         "xaxis": "x",
         "y": [
          15386263
         ],
         "yaxis": "y"
        },
        {
         "customdata": [
          [
           166115
          ]
         ],
         "hovertemplate": "Company Name=BAHRI<br>Price=%{x}<br>Turnover=%{y}<br>Volume=%{customdata[0]}<extra></extra>",
         "legendgroup": "BAHRI",
         "marker": {
          "color": "#FFA15A",
          "size": [
           166115
          ],
          "sizemode": "area",
          "sizeref": 560888.798125,
          "symbol": "circle"
         },
         "mode": "markers",
         "name": "BAHRI",
         "orientation": "v",
         "showlegend": true,
         "type": "scatter",
         "x": [
          28.35
         ],
         "xaxis": "x",
         "y": [
          4709809
         ],
         "yaxis": "y"
        },
        {
         "customdata": [
          [
           234919
          ]
         ],
         "hovertemplate": "Company Name=ALDREES<br>Price=%{x}<br>Turnover=%{y}<br>Volume=%{customdata[0]}<extra></extra>",
         "legendgroup": "ALDREES",
         "marker": {
          "color": "#19d3f3",
          "size": [
           234919
          ],
          "sizemode": "area",
          "sizeref": 560888.798125,
          "symbol": "circle"
         },
         "mode": "markers",
         "name": "ALDREES",
         "orientation": "v",
         "showlegend": true,
         "type": "scatter",
         "x": [
          135.4
         ],
         "xaxis": "x",
         "y": [
          31570475
         ],
         "yaxis": "y"
        },
        {
         "customdata": [
          [
           50520
          ]
         ],
         "hovertemplate": "Company Name=SARCO<br>Price=%{x}<br>Turnover=%{y}<br>Volume=%{customdata[0]}<extra></extra>",
         "legendgroup": "SARCO",
         "marker": {
          "color": "#FF6692",
          "size": [
           50520
          ],
          "sizemode": "area",
          "sizeref": 560888.798125,
          "symbol": "circle"
         },
         "mode": "markers",
         "name": "SARCO",
         "orientation": "v",
         "showlegend": true,
         "type": "scatter",
         "x": [
          76.3
         ],
         "xaxis": "x",
         "y": [
          3863325
         ],
         "yaxis": "y"
        },
        {
         "customdata": [
          [
           329590
          ]
         ],
         "hovertemplate": "Company Name=MEPCO<br>Price=%{x}<br>Turnover=%{y}<br>Volume=%{customdata[0]}<extra></extra>",
         "legendgroup": "MEPCO",
         "marker": {
          "color": "#B6E880",
          "size": [
           329590
          ],
          "sizemode": "area",
          "sizeref": 560888.798125,
          "symbol": "circle"
         },
         "mode": "markers",
         "name": "MEPCO",
         "orientation": "v",
         "showlegend": true,
         "type": "scatter",
         "x": [
          38.9
         ],
         "xaxis": "x",
         "y": [
          12852479
         ],
         "yaxis": "y"
        },
        {
         "customdata": [
          [
           80199
          ]
         ],
         "hovertemplate": "Company Name=OASIS<br>Price=%{x}<br>Turnover=%{y}<br>Volume=%{customdata[0]}<extra></extra>",
         "legendgroup": "OASIS",
         "marker": {
          "color": "#FF97FF",
          "size": [
           80199
          ],
          "sizemode": "area",
          "sizeref": 560888.798125,
          "symbol": "circle"
         },
         "mode": "markers",
         "name": "OASIS",
         "orientation": "v",
         "showlegend": true,
         "type": "scatter",
         "x": [
          34.05
         ],
         "xaxis": "x",
         "y": [
          2732180
         ],
         "yaxis": "y"
        },
        {
         "customdata": [
          [
           273080
          ]
         ],
         "hovertemplate": "Company Name=TAKWEEN<br>Price=%{x}<br>Turnover=%{y}<br>Volume=%{customdata[0]}<extra></extra>",
         "legendgroup": "TAKWEEN",
         "marker": {
          "color": "#FECB52",
          "size": [
           273080
          ],
          "sizemode": "area",
          "sizeref": 560888.798125,
          "symbol": "circle"
         },
         "mode": "markers",
         "name": "TAKWEEN",
         "orientation": "v",
         "showlegend": true,
         "type": "scatter",
         "x": [
          11.4
         ],
         "xaxis": "x",
         "y": [
          3128807
         ],
         "yaxis": "y"
        },
        {
         "customdata": [
          [
           230557
          ]
         ],
         "hovertemplate": "Company Name=AMAK<br>Price=%{x}<br>Turnover=%{y}<br>Volume=%{customdata[0]}<extra></extra>",
         "legendgroup": "AMAK",
         "marker": {
          "color": "#636efa",
          "size": [
           230557
          ],
          "sizemode": "area",
          "sizeref": 560888.798125,
          "symbol": "circle"
         },
         "mode": "markers",
         "name": "AMAK",
         "orientation": "v",
         "showlegend": true,
         "type": "scatter",
         "x": [
          71.9
         ],
         "xaxis": "x",
         "y": [
          16681754
         ],
         "yaxis": "y"
        },
        {
         "customdata": [
          [
           1173113
          ]
         ],
         "hovertemplate": "Company Name=ALKATHIRI<br>Price=%{x}<br>Turnover=%{y}<br>Volume=%{customdata[0]}<extra></extra>",
         "legendgroup": "ALKATHIRI",
         "marker": {
          "color": "#EF553B",
          "size": [
           1173113
          ],
          "sizemode": "area",
          "sizeref": 560888.798125,
          "symbol": "circle"
         },
         "mode": "markers",
         "name": "ALKATHIRI",
         "orientation": "v",
         "showlegend": true,
         "type": "scatter",
         "x": [
          2.69
         ],
         "xaxis": "x",
         "y": [
          3174732
         ],
         "yaxis": "y"
        },
        {
         "customdata": [
          [
           263127
          ]
         ],
         "hovertemplate": "Company Name=CHEMANOL<br>Price=%{x}<br>Turnover=%{y}<br>Volume=%{customdata[0]}<extra></extra>",
         "legendgroup": "CHEMANOL",
         "marker": {
          "color": "#00cc96",
          "size": [
           263127
          ],
          "sizemode": "area",
          "sizeref": 560888.798125,
          "symbol": "circle"
         },
         "mode": "markers",
         "name": "CHEMANOL",
         "orientation": "v",
         "showlegend": true,
         "type": "scatter",
         "x": [
          17.98
         ],
         "xaxis": "x",
         "y": [
          4706793
         ],
         "yaxis": "y"
        },
        {
         "customdata": [
          [
           2017781
          ]
         ],
         "hovertemplate": "Company Name=SABIC<br>Price=%{x}<br>Turnover=%{y}<br>Volume=%{customdata[0]}<extra></extra>",
         "legendgroup": "SABIC",
         "marker": {
          "color": "#ab63fa",
          "size": [
           2017781
          ],
          "sizemode": "area",
          "sizeref": 560888.798125,
          "symbol": "circle"
         },
         "mode": "markers",
         "name": "SABIC",
         "orientation": "v",
         "showlegend": true,
         "type": "scatter",
         "x": [
          72.3
         ],
         "xaxis": "x",
         "y": [
          146457060
         ],
         "yaxis": "y"
        },
        {
         "customdata": [
          [
           366509
          ]
         ],
         "hovertemplate": "Company Name=SABIC AGRI-NUTRIENTS<br>Price=%{x}<br>Turnover=%{y}<br>Volume=%{customdata[0]}<extra></extra>",
         "legendgroup": "SABIC AGRI-NUTRIENTS",
         "marker": {
          "color": "#FFA15A",
          "size": [
           366509
          ],
          "sizemode": "area",
          "sizeref": 560888.798125,
          "symbol": "circle"
         },
         "mode": "markers",
         "name": "SABIC AGRI-NUTRIENTS",
         "orientation": "v",
         "showlegend": true,
         "type": "scatter",
         "x": [
          116.4
         ],
         "xaxis": "x",
         "y": [
          42708108
         ],
         "yaxis": "y"
        },
        {
         "customdata": [
          [
           2533828
          ]
         ],
         "hovertemplate": "Company Name=TASNEE<br>Price=%{x}<br>Turnover=%{y}<br>Volume=%{customdata[0]}<extra></extra>",
         "legendgroup": "TASNEE",
         "marker": {
          "color": "#19d3f3",
          "size": [
           2533828
          ],
          "sizemode": "area",
          "sizeref": 560888.798125,
          "symbol": "circle"
         },
         "mode": "markers",
         "name": "TASNEE",
         "orientation": "v",
         "showlegend": true,
         "type": "scatter",
         "x": [
          10.92
         ],
         "xaxis": "x",
         "y": [
          27737803
         ],
         "yaxis": "y"
        },
        {
         "customdata": [
          [
           98114
          ]
         ],
         "hovertemplate": "Company Name=ALUJAIN<br>Price=%{x}<br>Turnover=%{y}<br>Volume=%{customdata[0]}<extra></extra>",
         "legendgroup": "ALUJAIN",
         "marker": {
          "color": "#FF6692",
          "size": [
           98114
          ],
          "sizemode": "area",
          "sizeref": 560888.798125,
          "symbol": "circle"
         },
         "mode": "markers",
         "name": "ALUJAIN",
         "orientation": "v",
         "showlegend": true,
         "type": "scatter",
         "x": [
          39.9
         ],
         "xaxis": "x",
         "y": [
          3922301
         ],
         "yaxis": "y"
        },
        {
         "customdata": [
          [
           82185
          ]
         ],
         "hovertemplate": "Company Name=NAMA CHEMICALS<br>Price=%{x}<br>Turnover=%{y}<br>Volume=%{customdata[0]}<extra></extra>",
         "legendgroup": "NAMA CHEMICALS",
         "marker": {
          "color": "#B6E880",
          "size": [
           82185
          ],
          "sizemode": "area",
          "sizeref": 560888.798125,
          "symbol": "circle"
         },
         "mode": "markers",
         "name": "NAMA CHEMICALS",
         "orientation": "v",
         "showlegend": true,
         "type": "scatter",
         "x": [
          25.5
         ],
         "xaxis": "x",
         "y": [
          2085255
         ],
         "yaxis": "y"
        },
        {
         "customdata": [
          [
           842823
          ]
         ],
         "hovertemplate": "Company Name=SIIG<br>Price=%{x}<br>Turnover=%{y}<br>Volume=%{customdata[0]}<extra></extra>",
         "legendgroup": "SIIG",
         "marker": {
          "color": "#FF97FF",
          "size": [
           842823
          ],
          "sizemode": "area",
          "sizeref": 560888.798125,
          "symbol": "circle"
         },
         "mode": "markers",
         "name": "SIIG",
         "orientation": "v",
         "showlegend": true,
         "type": "scatter",
         "x": [
          17.98
         ],
         "xaxis": "x",
         "y": [
          15139900
         ],
         "yaxis": "y"
        },
        {
         "customdata": [
          [
           463151
          ]
         ],
         "hovertemplate": "Company Name=YANSAB<br>Price=%{x}<br>Turnover=%{y}<br>Volume=%{customdata[0]}<extra></extra>",
         "legendgroup": "YANSAB",
         "marker": {
          "color": "#FECB52",
          "size": [
           463151
          ],
          "sizemode": "area",
          "sizeref": 560888.798125,
          "symbol": "circle"
         },
         "mode": "markers",
         "name": "YANSAB",
         "orientation": "v",
         "showlegend": true,
         "type": "scatter",
         "x": [
          39.9
         ],
         "xaxis": "x",
         "y": [
          18474784
         ],
         "yaxis": "y"
        },
        {
         "customdata": [
          [
           772825
          ]
         ],
         "hovertemplate": "Company Name=SIPCHEM<br>Price=%{x}<br>Turnover=%{y}<br>Volume=%{customdata[0]}<extra></extra>",
         "legendgroup": "SIPCHEM",
         "marker": {
          "color": "#636efa",
          "size": [
           772825
          ],
          "sizemode": "area",
          "sizeref": 560888.798125,
          "symbol": "circle"
         },
         "mode": "markers",
         "name": "SIPCHEM",
         "orientation": "v",
         "showlegend": true,
         "type": "scatter",
         "x": [
          26.35
         ],
         "xaxis": "x",
         "y": [
          20444646
         ],
         "yaxis": "y"
        },
        {
         "customdata": [
          [
           291439
          ]
         ],
         "hovertemplate": "Company Name=ADVANCED<br>Price=%{x}<br>Turnover=%{y}<br>Volume=%{customdata[0]}<extra></extra>",
         "legendgroup": "ADVANCED",
         "marker": {
          "color": "#EF553B",
          "size": [
           291439
          ],
          "sizemode": "area",
          "sizeref": 560888.798125,
          "symbol": "circle"
         },
         "mode": "markers",
         "name": "ADVANCED",
         "orientation": "v",
         "showlegend": true,
         "type": "scatter",
         "x": [
          35.9
         ],
         "xaxis": "x",
         "y": [
          10501558
         ],
         "yaxis": "y"
        },
        {
         "customdata": [
          [
           3026675
          ]
         ],
         "hovertemplate": "Company Name=SAUDI KAYAN<br>Price=%{x}<br>Turnover=%{y}<br>Volume=%{customdata[0]}<extra></extra>",
         "legendgroup": "SAUDI KAYAN",
         "marker": {
          "color": "#00cc96",
          "size": [
           3026675
          ],
          "sizemode": "area",
          "sizeref": 560888.798125,
          "symbol": "circle"
         },
         "mode": "markers",
         "name": "SAUDI KAYAN",
         "orientation": "v",
         "showlegend": true,
         "type": "scatter",
         "x": [
          7.77
         ],
         "xaxis": "x",
         "y": [
          23587495
         ],
         "yaxis": "y"
        },
        {
         "customdata": [
          [
           244111
          ]
         ],
         "hovertemplate": "Company Name=LUBEREF<br>Price=%{x}<br>Turnover=%{y}<br>Volume=%{customdata[0]}<extra></extra>",
         "legendgroup": "LUBEREF",
         "marker": {
          "color": "#ab63fa",
          "size": [
           244111
          ],
          "sizemode": "area",
          "sizeref": 560888.798125,
          "symbol": "circle"
         },
         "mode": "markers",
         "name": "LUBEREF",
         "orientation": "v",
         "showlegend": true,
         "type": "scatter",
         "x": [
          116.4
         ],
         "xaxis": "x",
         "y": [
          28567443
         ],
         "yaxis": "y"
        },
        {
         "customdata": [
          [
           247251
          ]
         ],
         "hovertemplate": "Company Name=ASLAK<br>Price=%{x}<br>Turnover=%{y}<br>Volume=%{customdata[0]}<extra></extra>",
         "legendgroup": "ASLAK",
         "marker": {
          "color": "#FFA15A",
          "size": [
           247251
          ],
          "sizemode": "area",
          "sizeref": 560888.798125,
          "symbol": "circle"
         },
         "mode": "markers",
         "name": "ASLAK",
         "orientation": "v",
         "showlegend": true,
         "type": "scatter",
         "x": [
          31.7
         ],
         "xaxis": "x",
         "y": [
          7812997
         ],
         "yaxis": "y"
        },
        {
         "customdata": [
          [
           413531
          ]
         ],
         "hovertemplate": "Company Name=SSP<br>Price=%{x}<br>Turnover=%{y}<br>Volume=%{customdata[0]}<extra></extra>",
         "legendgroup": "SSP",
         "marker": {
          "color": "#19d3f3",
          "size": [
           413531
          ],
          "sizemode": "area",
          "sizeref": 560888.798125,
          "symbol": "circle"
         },
         "mode": "markers",
         "name": "SSP",
         "orientation": "v",
         "showlegend": true,
         "type": "scatter",
         "x": [
          70.2
         ],
         "xaxis": "x",
         "y": [
          29336951
         ],
         "yaxis": "y"
        },
        {
         "customdata": [
          [
           50217
          ]
         ],
         "hovertemplate": "Company Name=NGC<br>Price=%{x}<br>Turnover=%{y}<br>Volume=%{customdata[0]}<extra></extra>",
         "legendgroup": "NGC",
         "marker": {
          "color": "#FF6692",
          "size": [
           50217
          ],
          "sizemode": "area",
          "sizeref": 560888.798125,
          "symbol": "circle"
         },
         "mode": "markers",
         "name": "NGC",
         "orientation": "v",
         "showlegend": true,
         "type": "scatter",
         "x": [
          22.6
         ],
         "xaxis": "x",
         "y": [
          1137709
         ],
         "yaxis": "y"
        },
        {
         "customdata": [
          [
           129354
          ]
         ],
         "hovertemplate": "Company Name=APC<br>Price=%{x}<br>Turnover=%{y}<br>Volume=%{customdata[0]}<extra></extra>",
         "legendgroup": "APC",
         "marker": {
          "color": "#B6E880",
          "size": [
           129354
          ],
          "sizemode": "area",
          "sizeref": 560888.798125,
          "symbol": "circle"
         },
         "mode": "markers",
         "name": "APC",
         "orientation": "v",
         "showlegend": true,
         "type": "scatter",
         "x": [
          121.6
         ],
         "xaxis": "x",
         "y": [
          15748312
         ],
         "yaxis": "y"
        },
        {
         "customdata": [
          [
           1815122
          ]
         ],
         "hovertemplate": "Company Name=ZAMIL INDUST<br>Price=%{x}<br>Turnover=%{y}<br>Volume=%{customdata[0]}<extra></extra>",
         "legendgroup": "ZAMIL INDUST",
         "marker": {
          "color": "#FF97FF",
          "size": [
           1815122
          ],
          "sizemode": "area",
          "sizeref": 560888.798125,
          "symbol": "circle"
         },
         "mode": "markers",
         "name": "ZAMIL INDUST",
         "orientation": "v",
         "showlegend": true,
         "type": "scatter",
         "x": [
          28.4
         ],
         "xaxis": "x",
         "y": [
          53268334
         ],
         "yaxis": "y"
        },
        {
         "customdata": [
          [
           26084
          ]
         ],
         "hovertemplate": "Company Name=SVCP<br>Price=%{x}<br>Turnover=%{y}<br>Volume=%{customdata[0]}<extra></extra>",
         "legendgroup": "SVCP",
         "marker": {
          "color": "#FECB52",
          "size": [
           26084
          ],
          "sizemode": "area",
          "sizeref": 560888.798125,
          "symbol": "circle"
         },
         "mode": "markers",
         "name": "SVCP",
         "orientation": "v",
         "showlegend": true,
         "type": "scatter",
         "x": [
          40.35
         ],
         "xaxis": "x",
         "y": [
          1054478
         ],
         "yaxis": "y"
        },
        {
         "customdata": [
          [
           93959
          ]
         ],
         "hovertemplate": "Company Name=ALYAMAMAH STEEL<br>Price=%{x}<br>Turnover=%{y}<br>Volume=%{customdata[0]}<extra></extra>",
         "legendgroup": "ALYAMAMAH STEEL",
         "marker": {
          "color": "#636efa",
          "size": [
           93959
          ],
          "sizemode": "area",
          "sizeref": 560888.798125,
          "symbol": "circle"
         },
         "mode": "markers",
         "name": "ALYAMAMAH STEEL",
         "orientation": "v",
         "showlegend": true,
         "type": "scatter",
         "x": [
          33.15
         ],
         "xaxis": "x",
         "y": [
          3127297
         ],
         "yaxis": "y"
        },
        {
         "customdata": [
          [
           179695
          ]
         ],
         "hovertemplate": "Company Name=EAST PIPES<br>Price=%{x}<br>Turnover=%{y}<br>Volume=%{customdata[0]}<extra></extra>",
         "legendgroup": "EAST PIPES",
         "marker": {
          "color": "#EF553B",
          "size": [
           179695
          ],
          "sizemode": "area",
          "sizeref": 560888.798125,
          "symbol": "circle"
         },
         "mode": "markers",
         "name": "EAST PIPES",
         "orientation": "v",
         "showlegend": true,
         "type": "scatter",
         "x": [
          160
         ],
         "xaxis": "x",
         "y": [
          29091651
         ],
         "yaxis": "y"
        },
        {
         "customdata": [
          [
           197196
          ]
         ],
         "hovertemplate": "Company Name=BCI<br>Price=%{x}<br>Turnover=%{y}<br>Volume=%{customdata[0]}<extra></extra>",
         "legendgroup": "BCI",
         "marker": {
          "color": "#00cc96",
          "size": [
           197196
          ],
          "sizemode": "area",
          "sizeref": 560888.798125,
          "symbol": "circle"
         },
         "mode": "markers",
         "name": "BCI",
         "orientation": "v",
         "showlegend": true,
         "type": "scatter",
         "x": [
          30.65
         ],
         "xaxis": "x",
         "y": [
          6077401
         ],
         "yaxis": "y"
        },
        {
         "customdata": [
          [
           3997342
          ]
         ],
         "hovertemplate": "Company Name=MAADEN<br>Price=%{x}<br>Turnover=%{y}<br>Volume=%{customdata[0]}<extra></extra>",
         "legendgroup": "MAADEN",
         "marker": {
          "color": "#ab63fa",
          "size": [
           3997342
          ],
          "sizemode": "area",
          "sizeref": 560888.798125,
          "symbol": "circle"
         },
         "mode": "markers",
         "name": "MAADEN",
         "orientation": "v",
         "showlegend": true,
         "type": "scatter",
         "x": [
          53.9
         ],
         "xaxis": "x",
         "y": [
          219511643
         ],
         "yaxis": "y"
        },
        {
         "customdata": [
          [
           164735
          ]
         ],
         "hovertemplate": "Company Name=ZOUJAJ<br>Price=%{x}<br>Turnover=%{y}<br>Volume=%{customdata[0]}<extra></extra>",
         "legendgroup": "ZOUJAJ",
         "marker": {
          "color": "#FFA15A",
          "size": [
           164735
          ],
          "sizemode": "area",
          "sizeref": 560888.798125,
          "symbol": "circle"
         },
         "mode": "markers",
         "name": "ZOUJAJ",
         "orientation": "v",
         "showlegend": true,
         "type": "scatter",
         "x": [
          53.5
         ],
         "xaxis": "x",
         "y": [
          8881315
         ],
         "yaxis": "y"
        },
        {
         "customdata": [
          [
           61857
          ]
         ],
         "hovertemplate": "Company Name=FIPCO<br>Price=%{x}<br>Turnover=%{y}<br>Volume=%{customdata[0]}<extra></extra>",
         "legendgroup": "FIPCO",
         "marker": {
          "color": "#19d3f3",
          "size": [
           61857
          ],
          "sizemode": "area",
          "sizeref": 560888.798125,
          "symbol": "circle"
         },
         "mode": "markers",
         "name": "FIPCO",
         "orientation": "v",
         "showlegend": true,
         "type": "scatter",
         "x": [
          45.15
         ],
         "xaxis": "x",
         "y": [
          2784004
         ],
         "yaxis": "y"
        },
        {
         "customdata": [
          [
           153156
          ]
         ],
         "hovertemplate": "Company Name=MAADANIYAH<br>Price=%{x}<br>Turnover=%{y}<br>Volume=%{customdata[0]}<extra></extra>",
         "legendgroup": "MAADANIYAH",
         "marker": {
          "color": "#FF6692",
          "size": [
           153156
          ],
          "sizemode": "area",
          "sizeref": 560888.798125,
          "symbol": "circle"
         },
         "mode": "markers",
         "name": "MAADANIYAH",
         "orientation": "v",
         "showlegend": true,
         "type": "scatter",
         "x": [
          17.86
         ],
         "xaxis": "x",
         "y": [
          2736723
         ],
         "yaxis": "y"
        },
        {
         "customdata": [
          [
           45555
          ]
         ],
         "hovertemplate": "Company Name=SPM<br>Price=%{x}<br>Turnover=%{y}<br>Volume=%{customdata[0]}<extra></extra>",
         "legendgroup": "SPM",
         "marker": {
          "color": "#B6E880",
          "size": [
           45555
          ],
          "sizemode": "area",
          "sizeref": 560888.798125,
          "symbol": "circle"
         },
         "mode": "markers",
         "name": "SPM",
         "orientation": "v",
         "showlegend": true,
         "type": "scatter",
         "x": [
          67.7
         ],
         "xaxis": "x",
         "y": [
          3071149
         ],
         "yaxis": "y"
        },
        {
         "customdata": [
          [
           326904
          ]
         ],
         "hovertemplate": "Company Name=NAJRAN CEMENT<br>Price=%{x}<br>Turnover=%{y}<br>Volume=%{customdata[0]}<extra></extra>",
         "legendgroup": "NAJRAN CEMENT",
         "marker": {
          "color": "#FF97FF",
          "size": [
           326904
          ],
          "sizemode": "area",
          "sizeref": 560888.798125,
          "symbol": "circle"
         },
         "mode": "markers",
         "name": "NAJRAN CEMENT",
         "orientation": "v",
         "showlegend": true,
         "type": "scatter",
         "x": [
          9.18
         ],
         "xaxis": "x",
         "y": [
          3012260
         ],
         "yaxis": "y"
        },
        {
         "customdata": [
          [
           469986
          ]
         ],
         "hovertemplate": "Company Name=CITY CEMENT<br>Price=%{x}<br>Turnover=%{y}<br>Volume=%{customdata[0]}<extra></extra>",
         "legendgroup": "CITY CEMENT",
         "marker": {
          "color": "#FECB52",
          "size": [
           469986
          ],
          "sizemode": "area",
          "sizeref": 560888.798125,
          "symbol": "circle"
         },
         "mode": "markers",
         "name": "CITY CEMENT",
         "orientation": "v",
         "showlegend": true,
         "type": "scatter",
         "x": [
          17.8
         ],
         "xaxis": "x",
         "y": [
          8318692
         ],
         "yaxis": "y"
        },
        {
         "customdata": [
          [
           307444
          ]
         ],
         "hovertemplate": "Company Name=NORTHERN CEMENT<br>Price=%{x}<br>Turnover=%{y}<br>Volume=%{customdata[0]}<extra></extra>",
         "legendgroup": "NORTHERN CEMENT",
         "marker": {
          "color": "#636efa",
          "size": [
           307444
          ],
          "sizemode": "area",
          "sizeref": 560888.798125,
          "symbol": "circle"
         },
         "mode": "markers",
         "name": "NORTHERN CEMENT",
         "orientation": "v",
         "showlegend": true,
         "type": "scatter",
         "x": [
          9.03
         ],
         "xaxis": "x",
         "y": [
          2769427
         ],
         "yaxis": "y"
        },
        {
         "customdata": [
          [
           412434
          ]
         ],
         "hovertemplate": "Company Name=ACC<br>Price=%{x}<br>Turnover=%{y}<br>Volume=%{customdata[0]}<extra></extra>",
         "legendgroup": "ACC",
         "marker": {
          "color": "#EF553B",
          "size": [
           412434
          ],
          "sizemode": "area",
          "sizeref": 560888.798125,
          "symbol": "circle"
         },
         "mode": "markers",
         "name": "ACC",
         "orientation": "v",
         "showlegend": true,
         "type": "scatter",
         "x": [
          26.45
         ],
         "xaxis": "x",
         "y": [
          10792423
         ],
         "yaxis": "y"
        },
        {
         "customdata": [
          [
           190756
          ]
         ],
         "hovertemplate": "Company Name=YC<br>Price=%{x}<br>Turnover=%{y}<br>Volume=%{customdata[0]}<extra></extra>",
         "legendgroup": "YC",
         "marker": {
          "color": "#00cc96",
          "size": [
           190756
          ],
          "sizemode": "area",
          "sizeref": 560888.798125,
          "symbol": "circle"
         },
         "mode": "markers",
         "name": "YC",
         "orientation": "v",
         "showlegend": true,
         "type": "scatter",
         "x": [
          31.3
         ],
         "xaxis": "x",
         "y": [
          5914095
         ],
         "yaxis": "y"
        },
        {
         "customdata": [
          [
           354949
          ]
         ],
         "hovertemplate": "Company Name=SAUDI CEMENT<br>Price=%{x}<br>Turnover=%{y}<br>Volume=%{customdata[0]}<extra></extra>",
         "legendgroup": "SAUDI CEMENT",
         "marker": {
          "color": "#ab63fa",
          "size": [
           354949
          ],
          "sizemode": "area",
          "sizeref": 560888.798125,
          "symbol": "circle"
         },
         "mode": "markers",
         "name": "SAUDI CEMENT",
         "orientation": "v",
         "showlegend": true,
         "type": "scatter",
         "x": [
          40.9
         ],
         "xaxis": "x",
         "y": [
          14535223
         ],
         "yaxis": "y"
        },
        {
         "customdata": [
          [
           172402
          ]
         ],
         "hovertemplate": "Company Name=QACCO<br>Price=%{x}<br>Turnover=%{y}<br>Volume=%{customdata[0]}<extra></extra>",
         "legendgroup": "QACCO",
         "marker": {
          "color": "#FFA15A",
          "size": [
           172402
          ],
          "sizemode": "area",
          "sizeref": 560888.798125,
          "symbol": "circle"
         },
         "mode": "markers",
         "name": "QACCO",
         "orientation": "v",
         "showlegend": true,
         "type": "scatter",
         "x": [
          53.5
         ],
         "xaxis": "x",
         "y": [
          9219732
         ],
         "yaxis": "y"
        },
        {
         "customdata": [
          [
           234006
          ]
         ],
         "hovertemplate": "Company Name=SPCC<br>Price=%{x}<br>Turnover=%{y}<br>Volume=%{customdata[0]}<extra></extra>",
         "legendgroup": "SPCC",
         "marker": {
          "color": "#19d3f3",
          "size": [
           234006
          ],
          "sizemode": "area",
          "sizeref": 560888.798125,
          "symbol": "circle"
         },
         "mode": "markers",
         "name": "SPCC",
         "orientation": "v",
         "showlegend": true,
         "type": "scatter",
         "x": [
          33.65
         ],
         "xaxis": "x",
         "y": [
          7768586
         ],
         "yaxis": "y"
        },
        {
         "customdata": [
          [
           360717
          ]
         ],
         "hovertemplate": "Company Name=YCC<br>Price=%{x}<br>Turnover=%{y}<br>Volume=%{customdata[0]}<extra></extra>",
         "legendgroup": "YCC",
         "marker": {
          "color": "#FF6692",
          "size": [
           360717
          ],
          "sizemode": "area",
          "sizeref": 560888.798125,
          "symbol": "circle"
         },
         "mode": "markers",
         "name": "YCC",
         "orientation": "v",
         "showlegend": true,
         "type": "scatter",
         "x": [
          23.94
         ],
         "xaxis": "x",
         "y": [
          8545521
         ],
         "yaxis": "y"
        },
        {
         "customdata": [
          [
           194128
          ]
         ],
         "hovertemplate": "Company Name=EPCCO<br>Price=%{x}<br>Turnover=%{y}<br>Volume=%{customdata[0]}<extra></extra>",
         "legendgroup": "EPCCO",
         "marker": {
          "color": "#B6E880",
          "size": [
           194128
          ],
          "sizemode": "area",
          "sizeref": 560888.798125,
          "symbol": "circle"
         },
         "mode": "markers",
         "name": "EPCCO",
         "orientation": "v",
         "showlegend": true,
         "type": "scatter",
         "x": [
          32.75
         ],
         "xaxis": "x",
         "y": [
          6340139
         ],
         "yaxis": "y"
        },
        {
         "customdata": [
          [
           386991
          ]
         ],
         "hovertemplate": "Company Name=TCC<br>Price=%{x}<br>Turnover=%{y}<br>Volume=%{customdata[0]}<extra></extra>",
         "legendgroup": "TCC",
         "marker": {
          "color": "#FF97FF",
          "size": [
           386991
          ],
          "sizemode": "area",
          "sizeref": 560888.798125,
          "symbol": "circle"
         },
         "mode": "markers",
         "name": "TCC",
         "orientation": "v",
         "showlegend": true,
         "type": "scatter",
         "x": [
          12.92
         ],
         "xaxis": "x",
         "y": [
          4962183
         ],
         "yaxis": "y"
        },
        {
         "customdata": [
          [
           115924
          ]
         ],
         "hovertemplate": "Company Name=JOUF CEMENT<br>Price=%{x}<br>Turnover=%{y}<br>Volume=%{customdata[0]}<extra></extra>",
         "legendgroup": "JOUF CEMENT",
         "marker": {
          "color": "#FECB52",
          "size": [
           115924
          ],
          "sizemode": "area",
          "sizeref": 560888.798125,
          "symbol": "circle"
         },
         "mode": "markers",
         "name": "JOUF CEMENT",
         "orientation": "v",
         "showlegend": true,
         "type": "scatter",
         "x": [
          10.18
         ],
         "xaxis": "x",
         "y": [
          1183141
         ],
         "yaxis": "y"
        },
        {
         "customdata": [
          [
           168039
          ]
         ],
         "hovertemplate": "Company Name=UACC<br>Price=%{x}<br>Turnover=%{y}<br>Volume=%{customdata[0]}<extra></extra>",
         "legendgroup": "UACC",
         "marker": {
          "color": "#636efa",
          "size": [
           168039
          ],
          "sizemode": "area",
          "sizeref": 560888.798125,
          "symbol": "circle"
         },
         "mode": "markers",
         "name": "UACC",
         "orientation": "v",
         "showlegend": true,
         "type": "scatter",
         "x": [
          17.88
         ],
         "xaxis": "x",
         "y": [
          2999651
         ],
         "yaxis": "y"
        },
        {
         "customdata": [
          [
           1059140
          ]
         ],
         "hovertemplate": "Company Name=RIYADH CEMENT<br>Price=%{x}<br>Turnover=%{y}<br>Volume=%{customdata[0]}<extra></extra>",
         "legendgroup": "RIYADH CEMENT",
         "marker": {
          "color": "#EF553B",
          "size": [
           1059140
          ],
          "sizemode": "area",
          "sizeref": 560888.798125,
          "symbol": "circle"
         },
         "mode": "markers",
         "name": "RIYADH CEMENT",
         "orientation": "v",
         "showlegend": true,
         "type": "scatter",
         "x": [
          29.85
         ],
         "xaxis": "x",
         "y": [
          31333487
         ],
         "yaxis": "y"
        },
        {
         "customdata": [
          [
           293577
          ]
         ],
         "hovertemplate": "Company Name=RIYADH CABLES<br>Price=%{x}<br>Turnover=%{y}<br>Volume=%{customdata[0]}<extra></extra>",
         "legendgroup": "RIYADH CABLES",
         "marker": {
          "color": "#00cc96",
          "size": [
           293577
          ],
          "sizemode": "area",
          "sizeref": 560888.798125,
          "symbol": "circle"
         },
         "mode": "markers",
         "name": "RIYADH CABLES",
         "orientation": "v",
         "showlegend": true,
         "type": "scatter",
         "x": [
          117.4
         ],
         "xaxis": "x",
         "y": [
          34693616
         ],
         "yaxis": "y"
        },
        {
         "customdata": [
          [
           1906454
          ]
         ],
         "hovertemplate": "Company Name=AMIANTIT<br>Price=%{x}<br>Turnover=%{y}<br>Volume=%{customdata[0]}<extra></extra>",
         "legendgroup": "AMIANTIT",
         "marker": {
          "color": "#ab63fa",
          "size": [
           1906454
          ],
          "sizemode": "area",
          "sizeref": 560888.798125,
          "symbol": "circle"
         },
         "mode": "markers",
         "name": "AMIANTIT",
         "orientation": "v",
         "showlegend": true,
         "type": "scatter",
         "x": [
          33
         ],
         "xaxis": "x",
         "y": [
          63355032
         ],
         "yaxis": "y"
        },
        {
         "customdata": [
          [
           3104922
          ]
         ],
         "hovertemplate": "Company Name=SIECO<br>Price=%{x}<br>Turnover=%{y}<br>Volume=%{customdata[0]}<extra></extra>",
         "legendgroup": "SIECO",
         "marker": {
          "color": "#FFA15A",
          "size": [
           3104922
          ],
          "sizemode": "area",
          "sizeref": 560888.798125,
          "symbol": "circle"
         },
         "mode": "markers",
         "name": "SIECO",
         "orientation": "v",
         "showlegend": true,
         "type": "scatter",
         "x": [
          2.46
         ],
         "xaxis": "x",
         "y": [
          7713919
         ],
         "yaxis": "y"
        },
        {
         "customdata": [
          [
           155722
          ]
         ],
         "hovertemplate": "Company Name=ASTRA INDUSTRIAL<br>Price=%{x}<br>Turnover=%{y}<br>Volume=%{customdata[0]}<extra></extra>",
         "legendgroup": "ASTRA INDUSTRIAL",
         "marker": {
          "color": "#19d3f3",
          "size": [
           155722
          ],
          "sizemode": "area",
          "sizeref": 560888.798125,
          "symbol": "circle"
         },
         "mode": "markers",
         "name": "ASTRA INDUSTRIAL",
         "orientation": "v",
         "showlegend": true,
         "type": "scatter",
         "x": [
          171.6
         ],
         "xaxis": "x",
         "y": [
          26438576
         ],
         "yaxis": "y"
        },
        {
         "customdata": [
          [
           112684
          ]
         ],
         "hovertemplate": "Company Name=BAWAN<br>Price=%{x}<br>Turnover=%{y}<br>Volume=%{customdata[0]}<extra></extra>",
         "legendgroup": "BAWAN",
         "marker": {
          "color": "#FF6692",
          "size": [
           112684
          ],
          "sizemode": "area",
          "sizeref": 560888.798125,
          "symbol": "circle"
         },
         "mode": "markers",
         "name": "BAWAN",
         "orientation": "v",
         "showlegend": true,
         "type": "scatter",
         "x": [
          44.5
         ],
         "xaxis": "x",
         "y": [
          4997302
         ],
         "yaxis": "y"
        },
        {
         "customdata": [
          [
           173591
          ]
         ],
         "hovertemplate": "Company Name=MESC<br>Price=%{x}<br>Turnover=%{y}<br>Volume=%{customdata[0]}<extra></extra>",
         "legendgroup": "MESC",
         "marker": {
          "color": "#B6E880",
          "size": [
           173591
          ],
          "sizemode": "area",
          "sizeref": 560888.798125,
          "symbol": "circle"
         },
         "mode": "markers",
         "name": "MESC",
         "orientation": "v",
         "showlegend": true,
         "type": "scatter",
         "x": [
          39.2
         ],
         "xaxis": "x",
         "y": [
          6817584
         ],
         "yaxis": "y"
        },
        {
         "customdata": [
          [
           3391649
          ]
         ],
         "hovertemplate": "Company Name=EIC<br>Price=%{x}<br>Turnover=%{y}<br>Volume=%{customdata[0]}<extra></extra>",
         "legendgroup": "EIC",
         "marker": {
          "color": "#FF97FF",
          "size": [
           3391649
          ],
          "sizemode": "area",
          "sizeref": 560888.798125,
          "symbol": "circle"
         },
         "mode": "markers",
         "name": "EIC",
         "orientation": "v",
         "showlegend": true,
         "type": "scatter",
         "x": [
          8.59
         ],
         "xaxis": "x",
         "y": [
          29252970
         ],
         "yaxis": "y"
        },
        {
         "customdata": [
          [
           999092
          ]
         ],
         "hovertemplate": "Company Name=SHAKER<br>Price=%{x}<br>Turnover=%{y}<br>Volume=%{customdata[0]}<extra></extra>",
         "legendgroup": "SHAKER",
         "marker": {
          "color": "#FECB52",
          "size": [
           999092
          ],
          "sizemode": "area",
          "sizeref": 560888.798125,
          "symbol": "circle"
         },
         "mode": "markers",
         "name": "SHAKER",
         "orientation": "v",
         "showlegend": true,
         "type": "scatter",
         "x": [
          24.98
         ],
         "xaxis": "x",
         "y": [
          25062203
         ],
         "yaxis": "y"
        },
        {
         "customdata": [
          [
           395568
          ]
         ],
         "hovertemplate": "Company Name=ALBABTAIN<br>Price=%{x}<br>Turnover=%{y}<br>Volume=%{customdata[0]}<extra></extra>",
         "legendgroup": "ALBABTAIN",
         "marker": {
          "color": "#636efa",
          "size": [
           395568
          ],
          "sizemode": "area",
          "sizeref": 560888.798125,
          "symbol": "circle"
         },
         "mode": "markers",
         "name": "ALBABTAIN",
         "orientation": "v",
         "showlegend": true,
         "type": "scatter",
         "x": [
          43.1
         ],
         "xaxis": "x",
         "y": [
          17093018
         ],
         "yaxis": "y"
        },
        {
         "customdata": [
          [
           126464
          ]
         ],
         "hovertemplate": "Company Name=SAUDI CABLE<br>Price=%{x}<br>Turnover=%{y}<br>Volume=%{customdata[0]}<extra></extra>",
         "legendgroup": "SAUDI CABLE",
         "marker": {
          "color": "#EF553B",
          "size": [
           126464
          ],
          "sizemode": "area",
          "sizeref": 560888.798125,
          "symbol": "circle"
         },
         "mode": "markers",
         "name": "SAUDI CABLE",
         "orientation": "v",
         "showlegend": true,
         "type": "scatter",
         "x": [
          80.3
         ],
         "xaxis": "x",
         "y": [
          10252918
         ],
         "yaxis": "y"
        },
        {
         "customdata": [
          [
           825750
          ]
         ],
         "hovertemplate": "Company Name=SAUDI CERAMICS<br>Price=%{x}<br>Turnover=%{y}<br>Volume=%{customdata[0]}<extra></extra>",
         "legendgroup": "SAUDI CERAMICS",
         "marker": {
          "color": "#00cc96",
          "size": [
           825750
          ],
          "sizemode": "area",
          "sizeref": 560888.798125,
          "symbol": "circle"
         },
         "mode": "markers",
         "name": "SAUDI CERAMICS",
         "orientation": "v",
         "showlegend": true,
         "type": "scatter",
         "x": [
          34.2
         ],
         "xaxis": "x",
         "y": [
          28098296
         ],
         "yaxis": "y"
        },
        {
         "customdata": [
          [
           5840531
          ]
         ],
         "hovertemplate": "Company Name=BATIC<br>Price=%{x}<br>Turnover=%{y}<br>Volume=%{customdata[0]}<extra></extra>",
         "legendgroup": "BATIC",
         "marker": {
          "color": "#ab63fa",
          "size": [
           5840531
          ],
          "sizemode": "area",
          "sizeref": 560888.798125,
          "symbol": "circle"
         },
         "mode": "markers",
         "name": "BATIC",
         "orientation": "v",
         "showlegend": true,
         "type": "scatter",
         "x": [
          3.81
         ],
         "xaxis": "x",
         "y": [
          22314538
         ],
         "yaxis": "y"
        },
        {
         "customdata": [
          [
           126564
          ]
         ],
         "hovertemplate": "Company Name=ALOMRAN<br>Price=%{x}<br>Turnover=%{y}<br>Volume=%{customdata[0]}<extra></extra>",
         "legendgroup": "ALOMRAN",
         "marker": {
          "color": "#FFA15A",
          "size": [
           126564
          ],
          "sizemode": "area",
          "sizeref": 560888.798125,
          "symbol": "circle"
         },
         "mode": "markers",
         "name": "ALOMRAN",
         "orientation": "v",
         "showlegend": true,
         "type": "scatter",
         "x": [
          38.7
         ],
         "xaxis": "x",
         "y": [
          4927800
         ],
         "yaxis": "y"
        },
        {
         "customdata": [
          [
           1006860
          ]
         ],
         "hovertemplate": "Company Name=TALCO<br>Price=%{x}<br>Turnover=%{y}<br>Volume=%{customdata[0]}<extra></extra>",
         "legendgroup": "TALCO",
         "marker": {
          "color": "#19d3f3",
          "size": [
           1006860
          ],
          "sizemode": "area",
          "sizeref": 560888.798125,
          "symbol": "circle"
         },
         "mode": "markers",
         "name": "TALCO",
         "orientation": "v",
         "showlegend": true,
         "type": "scatter",
         "x": [
          58.4
         ],
         "xaxis": "x",
         "y": [
          59053052
         ],
         "yaxis": "y"
        },
        {
         "customdata": [
          [
           114665
          ]
         ],
         "hovertemplate": "Company Name=SPPC<br>Price=%{x}<br>Turnover=%{y}<br>Volume=%{customdata[0]}<extra></extra>",
         "legendgroup": "SPPC",
         "marker": {
          "color": "#FF6692",
          "size": [
           114665
          ],
          "sizemode": "area",
          "sizeref": 560888.798125,
          "symbol": "circle"
         },
         "mode": "markers",
         "name": "SPPC",
         "orientation": "v",
         "showlegend": true,
         "type": "scatter",
         "x": [
          13.7
         ],
         "xaxis": "x",
         "y": [
          1569338
         ],
         "yaxis": "y"
        },
        {
         "customdata": [
          [
           1199924
          ]
         ],
         "hovertemplate": "Company Name=MAHARAH<br>Price=%{x}<br>Turnover=%{y}<br>Volume=%{customdata[0]}<extra></extra>",
         "legendgroup": "MAHARAH",
         "marker": {
          "color": "#B6E880",
          "size": [
           1199924
          ],
          "sizemode": "area",
          "sizeref": 560888.798125,
          "symbol": "circle"
         },
         "mode": "markers",
         "name": "MAHARAH",
         "orientation": "v",
         "showlegend": true,
         "type": "scatter",
         "x": [
          7.37
         ],
         "xaxis": "x",
         "y": [
          8790998
         ],
         "yaxis": "y"
        },
        {
         "customdata": [
          [
           307639
          ]
         ],
         "hovertemplate": "Company Name=CATRION<br>Price=%{x}<br>Turnover=%{y}<br>Volume=%{customdata[0]}<extra></extra>",
         "legendgroup": "CATRION",
         "marker": {
          "color": "#FF97FF",
          "size": [
           307639
          ],
          "sizemode": "area",
          "sizeref": 560888.798125,
          "symbol": "circle"
         },
         "mode": "markers",
         "name": "CATRION",
         "orientation": "v",
         "showlegend": true,
         "type": "scatter",
         "x": [
          126.2
         ],
         "xaxis": "x",
         "y": [
          38808742
         ],
         "yaxis": "y"
        },
        {
         "customdata": [
          [
           30015
          ]
         ],
         "hovertemplate": "Company Name=ALMAWARID<br>Price=%{x}<br>Turnover=%{y}<br>Volume=%{customdata[0]}<extra></extra>",
         "legendgroup": "ALMAWARID",
         "marker": {
          "color": "#FECB52",
          "size": [
           30015
          ],
          "sizemode": "area",
          "sizeref": 560888.798125,
          "symbol": "circle"
         },
         "mode": "markers",
         "name": "ALMAWARID",
         "orientation": "v",
         "showlegend": true,
         "type": "scatter",
         "x": [
          111
         ],
         "xaxis": "x",
         "y": [
          3318895
         ],
         "yaxis": "y"
        },
        {
         "customdata": [
          [
           1415985
          ]
         ],
         "hovertemplate": "Company Name=SADR<br>Price=%{x}<br>Turnover=%{y}<br>Volume=%{customdata[0]}<extra></extra>",
         "legendgroup": "SADR",
         "marker": {
          "color": "#636efa",
          "size": [
           1415985
          ],
          "sizemode": "area",
          "sizeref": 560888.798125,
          "symbol": "circle"
         },
         "mode": "markers",
         "name": "SADR",
         "orientation": "v",
         "showlegend": true,
         "type": "scatter",
         "x": [
          3.45
         ],
         "xaxis": "x",
         "y": [
          4863172
         ],
         "yaxis": "y"
        },
        {
         "customdata": [
          [
           8968623
          ]
         ],
         "hovertemplate": "Company Name=SMASCO<br>Price=%{x}<br>Turnover=%{y}<br>Volume=%{customdata[0]}<extra></extra>",
         "legendgroup": "SMASCO",
         "marker": {
          "color": "#EF553B",
          "size": [
           8968623
          ],
          "sizemode": "area",
          "sizeref": 560888.798125,
          "symbol": "circle"
         },
         "mode": "markers",
         "name": "SMASCO",
         "orientation": "v",
         "showlegend": true,
         "type": "scatter",
         "x": [
          8.31
         ],
         "xaxis": "x",
         "y": [
          74464857
         ],
         "yaxis": "y"
        },
        {
         "customdata": [
          [
           776939
          ]
         ],
         "hovertemplate": "Company Name=SAPTCO<br>Price=%{x}<br>Turnover=%{y}<br>Volume=%{customdata[0]}<extra></extra>",
         "legendgroup": "SAPTCO",
         "marker": {
          "color": "#00cc96",
          "size": [
           776939
          ],
          "sizemode": "area",
          "sizeref": 560888.798125,
          "symbol": "circle"
         },
         "mode": "markers",
         "name": "SAPTCO",
         "orientation": "v",
         "showlegend": true,
         "type": "scatter",
         "x": [
          22.18
         ],
         "xaxis": "x",
         "y": [
          17245663
         ],
         "yaxis": "y"
        },
        {
         "customdata": [
          [
           411130
          ]
         ],
         "hovertemplate": "Company Name=BUDGET SAUDI<br>Price=%{x}<br>Turnover=%{y}<br>Volume=%{customdata[0]}<extra></extra>",
         "legendgroup": "BUDGET SAUDI",
         "marker": {
          "color": "#ab63fa",
          "size": [
           411130
          ],
          "sizemode": "area",
          "sizeref": 560888.798125,
          "symbol": "circle"
         },
         "mode": "markers",
         "name": "BUDGET SAUDI",
         "orientation": "v",
         "showlegend": true,
         "type": "scatter",
         "x": [
          82.7
         ],
         "xaxis": "x",
         "y": [
          34044517
         ],
         "yaxis": "y"
        },
        {
         "customdata": [
          [
           551812
          ]
         ],
         "hovertemplate": "Company Name=SGS<br>Price=%{x}<br>Turnover=%{y}<br>Volume=%{customdata[0]}<extra></extra>",
         "legendgroup": "SGS",
         "marker": {
          "color": "#FFA15A",
          "size": [
           551812
          ],
          "sizemode": "area",
          "sizeref": 560888.798125,
          "symbol": "circle"
         },
         "mode": "markers",
         "name": "SGS",
         "orientation": "v",
         "showlegend": true,
         "type": "scatter",
         "x": [
          51.2
         ],
         "xaxis": "x",
         "y": [
          28355229
         ],
         "yaxis": "y"
        },
        {
         "customdata": [
          [
           550257
          ]
         ],
         "hovertemplate": "Company Name=THEEB<br>Price=%{x}<br>Turnover=%{y}<br>Volume=%{customdata[0]}<extra></extra>",
         "legendgroup": "THEEB",
         "marker": {
          "color": "#19d3f3",
          "size": [
           550257
          ],
          "sizemode": "area",
          "sizeref": 560888.798125,
          "symbol": "circle"
         },
         "mode": "markers",
         "name": "THEEB",
         "orientation": "v",
         "showlegend": true,
         "type": "scatter",
         "x": [
          79.3
         ],
         "xaxis": "x",
         "y": [
          42838259
         ],
         "yaxis": "y"
        },
        {
         "customdata": [
          [
           123744
          ]
         ],
         "hovertemplate": "Company Name=LUMI<br>Price=%{x}<br>Turnover=%{y}<br>Volume=%{customdata[0]}<extra></extra>",
         "legendgroup": "LUMI",
         "marker": {
          "color": "#FF6692",
          "size": [
           123744
          ],
          "sizemode": "area",
          "sizeref": 560888.798125,
          "symbol": "circle"
         },
         "mode": "markers",
         "name": "LUMI",
         "orientation": "v",
         "showlegend": true,
         "type": "scatter",
         "x": [
          74.3
         ],
         "xaxis": "x",
         "y": [
          9181457
         ],
         "yaxis": "y"
        },
        {
         "customdata": [
          [
           173432
          ]
         ],
         "hovertemplate": "Company Name=SAL<br>Price=%{x}<br>Turnover=%{y}<br>Volume=%{customdata[0]}<extra></extra>",
         "legendgroup": "SAL",
         "marker": {
          "color": "#B6E880",
          "size": [
           173432
          ],
          "sizemode": "area",
          "sizeref": 560888.798125,
          "symbol": "circle"
         },
         "mode": "markers",
         "name": "SAL",
         "orientation": "v",
         "showlegend": true,
         "type": "scatter",
         "x": [
          277.4
         ],
         "xaxis": "x",
         "y": [
          48523734
         ],
         "yaxis": "y"
        },
        {
         "customdata": [
          [
           300660
          ]
         ],
         "hovertemplate": "Company Name=SISCO HOLDING<br>Price=%{x}<br>Turnover=%{y}<br>Volume=%{customdata[0]}<extra></extra>",
         "legendgroup": "SISCO HOLDING",
         "marker": {
          "color": "#FF97FF",
          "size": [
           300660
          ],
          "sizemode": "area",
          "sizeref": 560888.798125,
          "symbol": "circle"
         },
         "mode": "markers",
         "name": "SISCO HOLDING",
         "orientation": "v",
         "showlegend": true,
         "type": "scatter",
         "x": [
          29.8
         ],
         "xaxis": "x",
         "y": [
          9014733
         ],
         "yaxis": "y"
        },
        {
         "customdata": [
          [
           1505820
          ]
         ],
         "hovertemplate": "Company Name=FITAIHI GROUP<br>Price=%{x}<br>Turnover=%{y}<br>Volume=%{customdata[0]}<extra></extra>",
         "legendgroup": "FITAIHI GROUP",
         "marker": {
          "color": "#FECB52",
          "size": [
           1505820
          ],
          "sizemode": "area",
          "sizeref": 560888.798125,
          "symbol": "circle"
         },
         "mode": "markers",
         "name": "FITAIHI GROUP",
         "orientation": "v",
         "showlegend": true,
         "type": "scatter",
         "x": [
          4.04
         ],
         "xaxis": "x",
         "y": [
          6076977
         ],
         "yaxis": "y"
        },
        {
         "customdata": [
          [
           1158840
          ]
         ],
         "hovertemplate": "Company Name=ALASEEL<br>Price=%{x}<br>Turnover=%{y}<br>Volume=%{customdata[0]}<extra></extra>",
         "legendgroup": "ALASEEL",
         "marker": {
          "color": "#636efa",
          "size": [
           1158840
          ],
          "sizemode": "area",
          "sizeref": 560888.798125,
          "symbol": "circle"
         },
         "mode": "markers",
         "name": "ALASEEL",
         "orientation": "v",
         "showlegend": true,
         "type": "scatter",
         "x": [
          4.64
         ],
         "xaxis": "x",
         "y": [
          5401671
         ],
         "yaxis": "y"
        },
        {
         "customdata": [
          [
           120079
          ]
         ],
         "hovertemplate": "Company Name=LAZURDE<br>Price=%{x}<br>Turnover=%{y}<br>Volume=%{customdata[0]}<extra></extra>",
         "legendgroup": "LAZURDE",
         "marker": {
          "color": "#EF553B",
          "size": [
           120079
          ],
          "sizemode": "area",
          "sizeref": 560888.798125,
          "symbol": "circle"
         },
         "mode": "markers",
         "name": "LAZURDE",
         "orientation": "v",
         "showlegend": true,
         "type": "scatter",
         "x": [
          13.78
         ],
         "xaxis": "x",
         "y": [
          1648930
         ],
         "yaxis": "y"
        },
        {
         "customdata": [
          [
           157151
          ]
         ],
         "hovertemplate": "Company Name=SIDC<br>Price=%{x}<br>Turnover=%{y}<br>Volume=%{customdata[0]}<extra></extra>",
         "legendgroup": "SIDC",
         "marker": {
          "color": "#00cc96",
          "size": [
           157151
          ],
          "sizemode": "area",
          "sizeref": 560888.798125,
          "symbol": "circle"
         },
         "mode": "markers",
         "name": "SIDC",
         "orientation": "v",
         "showlegend": true,
         "type": "scatter",
         "x": [
          27.6
         ],
         "xaxis": "x",
         "y": [
          4352013
         ],
         "yaxis": "y"
        },
        {
         "customdata": [
          [
           433749
          ]
         ],
         "hovertemplate": "Company Name=NASEEJ<br>Price=%{x}<br>Turnover=%{y}<br>Volume=%{customdata[0]}<extra></extra>",
         "legendgroup": "NASEEJ",
         "marker": {
          "color": "#ab63fa",
          "size": [
           433749
          ],
          "sizemode": "area",
          "sizeref": 560888.798125,
          "symbol": "circle"
         },
         "mode": "markers",
         "name": "NASEEJ",
         "orientation": "v",
         "showlegend": true,
         "type": "scatter",
         "x": [
          80.1
         ],
         "xaxis": "x",
         "y": [
          34140446
         ],
         "yaxis": "y"
        },
        {
         "customdata": [
          [
           148337
          ]
         ],
         "hovertemplate": "Company Name=ARTEX<br>Price=%{x}<br>Turnover=%{y}<br>Volume=%{customdata[0]}<extra></extra>",
         "legendgroup": "ARTEX",
         "marker": {
          "color": "#FFA15A",
          "size": [
           148337
          ],
          "sizemode": "area",
          "sizeref": 560888.798125,
          "symbol": "circle"
         },
         "mode": "markers",
         "name": "ARTEX",
         "orientation": "v",
         "showlegend": true,
         "type": "scatter",
         "x": [
          16.04
         ],
         "xaxis": "x",
         "y": [
          2375821
         ],
         "yaxis": "y"
        },
        {
         "customdata": [
          [
           3338936
          ]
         ],
         "hovertemplate": "Company Name=SEERA<br>Price=%{x}<br>Turnover=%{y}<br>Volume=%{customdata[0]}<extra></extra>",
         "legendgroup": "SEERA",
         "marker": {
          "color": "#19d3f3",
          "size": [
           3338936
          ],
          "sizemode": "area",
          "sizeref": 560888.798125,
          "symbol": "circle"
         },
         "mode": "markers",
         "name": "SEERA",
         "orientation": "v",
         "showlegend": true,
         "type": "scatter",
         "x": [
          23.2
         ],
         "xaxis": "x",
         "y": [
          76770760
         ],
         "yaxis": "y"
        },
        {
         "customdata": [
          [
           44364343
          ]
         ],
         "hovertemplate": "Company Name=TECO<br>Price=%{x}<br>Turnover=%{y}<br>Volume=%{customdata[0]}<extra></extra>",
         "legendgroup": "TECO",
         "marker": {
          "color": "#FF6692",
          "size": [
           44364343
          ],
          "sizemode": "area",
          "sizeref": 560888.798125,
          "symbol": "circle"
         },
         "mode": "markers",
         "name": "TECO",
         "orientation": "v",
         "showlegend": true,
         "type": "scatter",
         "x": [
          1.01
         ],
         "xaxis": "x",
         "y": [
          44429492
         ],
         "yaxis": "y"
        },
        {
         "customdata": [
          [
           4839548
          ]
         ],
         "hovertemplate": "Company Name=ALHOKAIR GROUP<br>Price=%{x}<br>Turnover=%{y}<br>Volume=%{customdata[0]}<extra></extra>",
         "legendgroup": "ALHOKAIR GROUP",
         "marker": {
          "color": "#B6E880",
          "size": [
           4839548
          ],
          "sizemode": "area",
          "sizeref": 560888.798125,
          "symbol": "circle"
         },
         "mode": "markers",
         "name": "ALHOKAIR GROUP",
         "orientation": "v",
         "showlegend": true,
         "type": "scatter",
         "x": [
          2.74
         ],
         "xaxis": "x",
         "y": [
          13371701
         ],
         "yaxis": "y"
        },
        {
         "customdata": [
          [
           220936
          ]
         ],
         "hovertemplate": "Company Name=HERFY FOODS<br>Price=%{x}<br>Turnover=%{y}<br>Volume=%{customdata[0]}<extra></extra>",
         "legendgroup": "HERFY FOODS",
         "marker": {
          "color": "#FF97FF",
          "size": [
           220936
          ],
          "sizemode": "area",
          "sizeref": 560888.798125,
          "symbol": "circle"
         },
         "mode": "markers",
         "name": "HERFY FOODS",
         "orientation": "v",
         "showlegend": true,
         "type": "scatter",
         "x": [
          23.94
         ],
         "xaxis": "x",
         "y": [
          5281221
         ],
         "yaxis": "y"
        },
        {
         "customdata": [
          [
           1927944
          ]
         ],
         "hovertemplate": "Company Name=BURGERIZZR<br>Price=%{x}<br>Turnover=%{y}<br>Volume=%{customdata[0]}<extra></extra>",
         "legendgroup": "BURGERIZZR",
         "marker": {
          "color": "#FECB52",
          "size": [
           1927944
          ],
          "sizemode": "area",
          "sizeref": 560888.798125,
          "symbol": "circle"
         },
         "mode": "markers",
         "name": "BURGERIZZR",
         "orientation": "v",
         "showlegend": true,
         "type": "scatter",
         "x": [
          21.1
         ],
         "xaxis": "x",
         "y": [
          41046609
         ],
         "yaxis": "y"
        },
        {
         "customdata": [
          [
           81252
          ]
         ],
         "hovertemplate": "Company Name=DWF<br>Price=%{x}<br>Turnover=%{y}<br>Volume=%{customdata[0]}<extra></extra>",
         "legendgroup": "DWF",
         "marker": {
          "color": "#636efa",
          "size": [
           81252
          ],
          "sizemode": "area",
          "sizeref": 560888.798125,
          "symbol": "circle"
         },
         "mode": "markers",
         "name": "DWF",
         "orientation": "v",
         "showlegend": true,
         "type": "scatter",
         "x": [
          129.8
         ],
         "xaxis": "x",
         "y": [
          10577645
         ],
         "yaxis": "y"
        },
        {
         "customdata": [
          [
           27889203
          ]
         ],
         "hovertemplate": "Company Name=AMERICANA<br>Price=%{x}<br>Turnover=%{y}<br>Volume=%{customdata[0]}<extra></extra>",
         "legendgroup": "AMERICANA",
         "marker": {
          "color": "#EF553B",
          "size": [
           27889203
          ],
          "sizemode": "area",
          "sizeref": 560888.798125,
          "symbol": "circle"
         },
         "mode": "markers",
         "name": "AMERICANA",
         "orientation": "v",
         "showlegend": true,
         "type": "scatter",
         "x": [
          2.45
         ],
         "xaxis": "x",
         "y": [
          68333592
         ],
         "yaxis": "y"
        },
        {
         "customdata": [
          [
           141930
          ]
         ],
         "hovertemplate": "Company Name=Leejam Sports<br>Price=%{x}<br>Turnover=%{y}<br>Volume=%{customdata[0]}<extra></extra>",
         "legendgroup": "Leejam Sports",
         "marker": {
          "color": "#00cc96",
          "size": [
           141930
          ],
          "sizemode": "area",
          "sizeref": 560888.798125,
          "symbol": "circle"
         },
         "mode": "markers",
         "name": "Leejam Sports",
         "orientation": "v",
         "showlegend": true,
         "type": "scatter",
         "x": [
          186.6
         ],
         "xaxis": "x",
         "y": [
          26535590
         ],
         "yaxis": "y"
        },
        {
         "customdata": [
          [
           53924
          ]
         ],
         "hovertemplate": "Company Name=NCLE<br>Price=%{x}<br>Turnover=%{y}<br>Volume=%{customdata[0]}<extra></extra>",
         "legendgroup": "NCLE",
         "marker": {
          "color": "#ab63fa",
          "size": [
           53924
          ],
          "sizemode": "area",
          "sizeref": 560888.798125,
          "symbol": "circle"
         },
         "mode": "markers",
         "name": "NCLE",
         "orientation": "v",
         "showlegend": true,
         "type": "scatter",
         "x": [
          215.2
         ],
         "xaxis": "x",
         "y": [
          11629967
         ],
         "yaxis": "y"
        },
        {
         "customdata": [
          [
           21507
          ]
         ],
         "hovertemplate": "Company Name=ATAA<br>Price=%{x}<br>Turnover=%{y}<br>Volume=%{customdata[0]}<extra></extra>",
         "legendgroup": "ATAA",
         "marker": {
          "color": "#FFA15A",
          "size": [
           21507
          ],
          "sizemode": "area",
          "sizeref": 560888.798125,
          "symbol": "circle"
         },
         "mode": "markers",
         "name": "ATAA",
         "orientation": "v",
         "showlegend": true,
         "type": "scatter",
         "x": [
          74.4
         ],
         "xaxis": "x",
         "y": [
          1612441
         ],
         "yaxis": "y"
        },
        {
         "customdata": [
          [
           339420
          ]
         ],
         "hovertemplate": "Company Name=RAYDAN<br>Price=%{x}<br>Turnover=%{y}<br>Volume=%{customdata[0]}<extra></extra>",
         "legendgroup": "RAYDAN",
         "marker": {
          "color": "#19d3f3",
          "size": [
           339420
          ],
          "sizemode": "area",
          "sizeref": 560888.798125,
          "symbol": "circle"
         },
         "mode": "markers",
         "name": "RAYDAN",
         "orientation": "v",
         "showlegend": true,
         "type": "scatter",
         "x": [
          24.82
         ],
         "xaxis": "x",
         "y": [
          8354035
         ],
         "yaxis": "y"
        },
        {
         "customdata": [
          [
           190988
          ]
         ],
         "hovertemplate": "Company Name=ALAMAR<br>Price=%{x}<br>Turnover=%{y}<br>Volume=%{customdata[0]}<extra></extra>",
         "legendgroup": "ALAMAR",
         "marker": {
          "color": "#FF6692",
          "size": [
           190988
          ],
          "sizemode": "area",
          "sizeref": 560888.798125,
          "symbol": "circle"
         },
         "mode": "markers",
         "name": "ALAMAR",
         "orientation": "v",
         "showlegend": true,
         "type": "scatter",
         "x": [
          80.8
         ],
         "xaxis": "x",
         "y": [
          15401056
         ],
         "yaxis": "y"
        },
        {
         "customdata": [
          [
           579402
          ]
         ],
         "hovertemplate": "Company Name=ALKHALEEJ TRNG<br>Price=%{x}<br>Turnover=%{y}<br>Volume=%{customdata[0]}<extra></extra>",
         "legendgroup": "ALKHALEEJ TRNG",
         "marker": {
          "color": "#B6E880",
          "size": [
           579402
          ],
          "sizemode": "area",
          "sizeref": 560888.798125,
          "symbol": "circle"
         },
         "mode": "markers",
         "name": "ALKHALEEJ TRNG",
         "orientation": "v",
         "showlegend": true,
         "type": "scatter",
         "x": [
          29.05
         ],
         "xaxis": "x",
         "y": [
          17136928
         ],
         "yaxis": "y"
        },
        {
         "customdata": [
          [
           300622
          ]
         ],
         "hovertemplate": "Company Name=TAPRCO<br>Price=%{x}<br>Turnover=%{y}<br>Volume=%{customdata[0]}<extra></extra>",
         "legendgroup": "TAPRCO",
         "marker": {
          "color": "#FF97FF",
          "size": [
           300622
          ],
          "sizemode": "area",
          "sizeref": 560888.798125,
          "symbol": "circle"
         },
         "mode": "markers",
         "name": "TAPRCO",
         "orientation": "v",
         "showlegend": true,
         "type": "scatter",
         "x": [
          15.34
         ],
         "xaxis": "x",
         "y": [
          4574652
         ],
         "yaxis": "y"
        },
        {
         "customdata": [
          [
           37197
          ]
         ],
         "hovertemplate": "Company Name=SRMG<br>Price=%{x}<br>Turnover=%{y}<br>Volume=%{customdata[0]}<extra></extra>",
         "legendgroup": "SRMG",
         "marker": {
          "color": "#FECB52",
          "size": [
           37197
          ],
          "sizemode": "area",
          "sizeref": 560888.798125,
          "symbol": "circle"
         },
         "mode": "markers",
         "name": "SRMG",
         "orientation": "v",
         "showlegend": true,
         "type": "scatter",
         "x": [
          268.4
         ],
         "xaxis": "x",
         "y": [
          9871963
         ],
         "yaxis": "y"
        },
        {
         "customdata": [
          [
           121433
          ]
         ],
         "hovertemplate": "Company Name=ALARABIA<br>Price=%{x}<br>Turnover=%{y}<br>Volume=%{customdata[0]}<extra></extra>",
         "legendgroup": "ALARABIA",
         "marker": {
          "color": "#636efa",
          "size": [
           121433
          ],
          "sizemode": "area",
          "sizeref": 560888.798125,
          "symbol": "circle"
         },
         "mode": "markers",
         "name": "ALARABIA",
         "orientation": "v",
         "showlegend": true,
         "type": "scatter",
         "x": [
          169.6
         ],
         "xaxis": "x",
         "y": [
          20685840
         ],
         "yaxis": "y"
        },
        {
         "customdata": [
          [
           280830
          ]
         ],
         "hovertemplate": "Company Name=MBC GROUP<br>Price=%{x}<br>Turnover=%{y}<br>Volume=%{customdata[0]}<extra></extra>",
         "legendgroup": "MBC GROUP",
         "marker": {
          "color": "#EF553B",
          "size": [
           280830
          ],
          "sizemode": "area",
          "sizeref": 560888.798125,
          "symbol": "circle"
         },
         "mode": "markers",
         "name": "MBC GROUP",
         "orientation": "v",
         "showlegend": true,
         "type": "scatter",
         "x": [
          46.65
         ],
         "xaxis": "x",
         "y": [
          13089873
         ],
         "yaxis": "y"
        },
        {
         "customdata": [
          [
           1168315
          ]
         ],
         "hovertemplate": "Company Name=CENOMI RETAIL<br>Price=%{x}<br>Turnover=%{y}<br>Volume=%{customdata[0]}<extra></extra>",
         "legendgroup": "CENOMI RETAIL",
         "marker": {
          "color": "#00cc96",
          "size": [
           1168315
          ],
          "sizemode": "area",
          "sizeref": 560888.798125,
          "symbol": "circle"
         },
         "mode": "markers",
         "name": "CENOMI RETAIL",
         "orientation": "v",
         "showlegend": true,
         "type": "scatter",
         "x": [
          12.8
         ],
         "xaxis": "x",
         "y": [
          15038403
         ],
         "yaxis": "y"
        },
        {
         "customdata": [
          [
           2053293
          ]
         ],
         "hovertemplate": "Company Name=JARIR<br>Price=%{x}<br>Turnover=%{y}<br>Volume=%{customdata[0]}<extra></extra>",
         "legendgroup": "JARIR",
         "marker": {
          "color": "#ab63fa",
          "size": [
           2053293
          ],
          "sizemode": "area",
          "sizeref": 560888.798125,
          "symbol": "circle"
         },
         "mode": "markers",
         "name": "JARIR",
         "orientation": "v",
         "showlegend": true,
         "type": "scatter",
         "x": [
          13.32
         ],
         "xaxis": "x",
         "y": [
          27391976
         ],
         "yaxis": "y"
        },
        {
         "customdata": [
          [
           743517
          ]
         ],
         "hovertemplate": "Company Name=EXTRA<br>Price=%{x}<br>Turnover=%{y}<br>Volume=%{customdata[0]}<extra></extra>",
         "legendgroup": "EXTRA",
         "marker": {
          "color": "#FFA15A",
          "size": [
           743517
          ],
          "sizemode": "area",
          "sizeref": 560888.798125,
          "symbol": "circle"
         },
         "mode": "markers",
         "name": "EXTRA",
         "orientation": "v",
         "showlegend": true,
         "type": "scatter",
         "x": [
          102
         ],
         "xaxis": "x",
         "y": [
          75702661
         ],
         "yaxis": "y"
        },
        {
         "customdata": [
          [
           103221
          ]
         ],
         "hovertemplate": "Company Name=SASCO<br>Price=%{x}<br>Turnover=%{y}<br>Volume=%{customdata[0]}<extra></extra>",
         "legendgroup": "SASCO",
         "marker": {
          "color": "#19d3f3",
          "size": [
           103221
          ],
          "sizemode": "area",
          "sizeref": 560888.798125,
          "symbol": "circle"
         },
         "mode": "markers",
         "name": "SASCO",
         "orientation": "v",
         "showlegend": true,
         "type": "scatter",
         "x": [
          78.6
         ],
         "xaxis": "x",
         "y": [
          8139196
         ],
         "yaxis": "y"
        },
        {
         "customdata": [
          [
           479028
          ]
         ],
         "hovertemplate": "Company Name=ALSAIF GALLERY<br>Price=%{x}<br>Turnover=%{y}<br>Volume=%{customdata[0]}<extra></extra>",
         "legendgroup": "ALSAIF GALLERY",
         "marker": {
          "color": "#FF6692",
          "size": [
           479028
          ],
          "sizemode": "area",
          "sizeref": 560888.798125,
          "symbol": "circle"
         },
         "mode": "markers",
         "name": "ALSAIF GALLERY",
         "orientation": "v",
         "showlegend": true,
         "type": "scatter",
         "x": [
          7.93
         ],
         "xaxis": "x",
         "y": [
          3809520
         ],
         "yaxis": "y"
        },
        {
         "customdata": [
          [
           516322
          ]
         ],
         "hovertemplate": "Company Name=BAAZEEM<br>Price=%{x}<br>Turnover=%{y}<br>Volume=%{customdata[0]}<extra></extra>",
         "legendgroup": "BAAZEEM",
         "marker": {
          "color": "#B6E880",
          "size": [
           516322
          ],
          "sizemode": "area",
          "sizeref": 560888.798125,
          "symbol": "circle"
         },
         "mode": "markers",
         "name": "BAAZEEM",
         "orientation": "v",
         "showlegend": true,
         "type": "scatter",
         "x": [
          6.33
         ],
         "xaxis": "x",
         "y": [
          3294979
         ],
         "yaxis": "y"
        },
        {
         "customdata": [
          [
           261344
          ]
         ],
         "hovertemplate": "Company Name=ABO MOATI<br>Price=%{x}<br>Turnover=%{y}<br>Volume=%{customdata[0]}<extra></extra>",
         "legendgroup": "ABO MOATI",
         "marker": {
          "color": "#FF97FF",
          "size": [
           261344
          ],
          "sizemode": "area",
          "sizeref": 560888.798125,
          "symbol": "circle"
         },
         "mode": "markers",
         "name": "ABO MOATI",
         "orientation": "v",
         "showlegend": true,
         "type": "scatter",
         "x": [
          29.5
         ],
         "xaxis": "x",
         "y": [
          7620276
         ],
         "yaxis": "y"
        },
        {
         "customdata": [
          [
           292083
          ]
         ],
         "hovertemplate": "Company Name=SACO<br>Price=%{x}<br>Turnover=%{y}<br>Volume=%{customdata[0]}<extra></extra>",
         "legendgroup": "SACO",
         "marker": {
          "color": "#FECB52",
          "size": [
           292083
          ],
          "sizemode": "area",
          "sizeref": 560888.798125,
          "symbol": "circle"
         },
         "mode": "markers",
         "name": "SACO",
         "orientation": "v",
         "showlegend": true,
         "type": "scatter",
         "x": [
          32.2
         ],
         "xaxis": "x",
         "y": [
          9395482
         ],
         "yaxis": "y"
        },
        {
         "customdata": [
          [
           1212374
          ]
         ],
         "hovertemplate": "Company Name=A.OTHAIM MARKET<br>Price=%{x}<br>Turnover=%{y}<br>Volume=%{customdata[0]}<extra></extra>",
         "legendgroup": "A.OTHAIM MARKET",
         "marker": {
          "color": "#636efa",
          "size": [
           1212374
          ],
          "sizemode": "area",
          "sizeref": 560888.798125,
          "symbol": "circle"
         },
         "mode": "markers",
         "name": "A.OTHAIM MARKET",
         "orientation": "v",
         "showlegend": true,
         "type": "scatter",
         "x": [
          11.24
         ],
         "xaxis": "x",
         "y": [
          13713511
         ],
         "yaxis": "y"
        },
        {
         "customdata": [
          [
           1371384
          ]
         ],
         "hovertemplate": "Company Name=BINDAWOOD<br>Price=%{x}<br>Turnover=%{y}<br>Volume=%{customdata[0]}<extra></extra>",
         "legendgroup": "BINDAWOOD",
         "marker": {
          "color": "#EF553B",
          "size": [
           1371384
          ],
          "sizemode": "area",
          "sizeref": 560888.798125,
          "symbol": "circle"
         },
         "mode": "markers",
         "name": "BINDAWOOD",
         "orientation": "v",
         "showlegend": true,
         "type": "scatter",
         "x": [
          7.01
         ],
         "xaxis": "x",
         "y": [
          9624304
         ],
         "yaxis": "y"
        },
        {
         "customdata": [
          [
           255347
          ]
         ],
         "hovertemplate": "Company Name=ALMUNAJEM<br>Price=%{x}<br>Turnover=%{y}<br>Volume=%{customdata[0]}<extra></extra>",
         "legendgroup": "ALMUNAJEM",
         "marker": {
          "color": "#00cc96",
          "size": [
           255347
          ],
          "sizemode": "area",
          "sizeref": 560888.798125,
          "symbol": "circle"
         },
         "mode": "markers",
         "name": "ALMUNAJEM",
         "orientation": "v",
         "showlegend": true,
         "type": "scatter",
         "x": [
          103.8
         ],
         "xaxis": "x",
         "y": [
          26713831
         ],
         "yaxis": "y"
        },
        {
         "customdata": [
          [
           140872
          ]
         ],
         "hovertemplate": "Company Name=NAHDI<br>Price=%{x}<br>Turnover=%{y}<br>Volume=%{customdata[0]}<extra></extra>",
         "legendgroup": "NAHDI",
         "marker": {
          "color": "#ab63fa",
          "size": [
           140872
          ],
          "sizemode": "area",
          "sizeref": 560888.798125,
          "symbol": "circle"
         },
         "mode": "markers",
         "name": "NAHDI",
         "orientation": "v",
         "showlegend": true,
         "type": "scatter",
         "x": [
          124.2
         ],
         "xaxis": "x",
         "y": [
          17478580
         ],
         "yaxis": "y"
        },
        {
         "customdata": [
          [
           31058
          ]
         ],
         "hovertemplate": "Company Name=ALDAWAA<br>Price=%{x}<br>Turnover=%{y}<br>Volume=%{customdata[0]}<extra></extra>",
         "legendgroup": "ALDAWAA",
         "marker": {
          "color": "#FFA15A",
          "size": [
           31058
          ],
          "sizemode": "area",
          "sizeref": 560888.798125,
          "symbol": "circle"
         },
         "mode": "markers",
         "name": "ALDAWAA",
         "orientation": "v",
         "showlegend": true,
         "type": "scatter",
         "x": [
          88.3
         ],
         "xaxis": "x",
         "y": [
          2737296
         ],
         "yaxis": "y"
        },
        {
         "customdata": [
          [
           174879
          ]
         ],
         "hovertemplate": "Company Name=THIMAR<br>Price=%{x}<br>Turnover=%{y}<br>Volume=%{customdata[0]}<extra></extra>",
         "legendgroup": "THIMAR",
         "marker": {
          "color": "#19d3f3",
          "size": [
           174879
          ],
          "sizemode": "area",
          "sizeref": 560888.798125,
          "symbol": "circle"
         },
         "mode": "markers",
         "name": "THIMAR",
         "orientation": "v",
         "showlegend": true,
         "type": "scatter",
         "x": [
          40.6
         ],
         "xaxis": "x",
         "y": [
          7191096
         ],
         "yaxis": "y"
        },
        {
         "customdata": [
          [
           442700
          ]
         ],
         "hovertemplate": "Company Name=FARM SUPERSTORES<br>Price=%{x}<br>Turnover=%{y}<br>Volume=%{customdata[0]}<extra></extra>",
         "legendgroup": "FARM SUPERSTORES",
         "marker": {
          "color": "#FF6692",
          "size": [
           442700
          ],
          "sizemode": "area",
          "sizeref": 560888.798125,
          "symbol": "circle"
         },
         "mode": "markers",
         "name": "FARM SUPERSTORES",
         "orientation": "v",
         "showlegend": true,
         "type": "scatter",
         "x": [
          22.72
         ],
         "xaxis": "x",
         "y": [
          10111073
         ],
         "yaxis": "y"
        },
        {
         "customdata": [
          [
           34336527
          ]
         ],
         "hovertemplate": "Company Name=ANAAM HOLDING<br>Price=%{x}<br>Turnover=%{y}<br>Volume=%{customdata[0]}<extra></extra>",
         "legendgroup": "ANAAM HOLDING",
         "marker": {
          "color": "#B6E880",
          "size": [
           34336527
          ],
          "sizemode": "area",
          "sizeref": 560888.798125,
          "symbol": "circle"
         },
         "mode": "markers",
         "name": "ANAAM HOLDING",
         "orientation": "v",
         "showlegend": true,
         "type": "scatter",
         "x": [
          1.29
         ],
         "xaxis": "x",
         "y": [
          45026458
         ],
         "yaxis": "y"
        },
        {
         "customdata": [
          [
           73318
          ]
         ],
         "hovertemplate": "Company Name=HB<br>Price=%{x}<br>Turnover=%{y}<br>Volume=%{customdata[0]}<extra></extra>",
         "legendgroup": "HB",
         "marker": {
          "color": "#FF97FF",
          "size": [
           73318
          ],
          "sizemode": "area",
          "sizeref": 560888.798125,
          "symbol": "circle"
         },
         "mode": "markers",
         "name": "HB",
         "orientation": "v",
         "showlegend": true,
         "type": "scatter",
         "x": [
          59
         ],
         "xaxis": "x",
         "y": [
          4340536
         ],
         "yaxis": "y"
        },
        {
         "customdata": [
          [
           20553
          ]
         ],
         "hovertemplate": "Company Name=NAQI<br>Price=%{x}<br>Turnover=%{y}<br>Volume=%{customdata[0]}<extra></extra>",
         "legendgroup": "NAQI",
         "marker": {
          "color": "#FECB52",
          "size": [
           20553
          ],
          "sizemode": "area",
          "sizeref": 560888.798125,
          "symbol": "circle"
         },
         "mode": "markers",
         "name": "NAQI",
         "orientation": "v",
         "showlegend": true,
         "type": "scatter",
         "x": [
          62
         ],
         "xaxis": "x",
         "y": [
          1272592
         ],
         "yaxis": "y"
        },
        {
         "customdata": [
          [
           101604
          ]
         ],
         "hovertemplate": "Company Name=FIRST MILLS<br>Price=%{x}<br>Turnover=%{y}<br>Volume=%{customdata[0]}<extra></extra>",
         "legendgroup": "FIRST MILLS",
         "marker": {
          "color": "#636efa",
          "size": [
           101604
          ],
          "sizemode": "area",
          "sizeref": 560888.798125,
          "symbol": "circle"
         },
         "mode": "markers",
         "name": "FIRST MILLS",
         "orientation": "v",
         "showlegend": true,
         "type": "scatter",
         "x": [
          63.4
         ],
         "xaxis": "x",
         "y": [
          6474469
         ],
         "yaxis": "y"
        },
        {
         "customdata": [
          [
           73957
          ]
         ],
         "hovertemplate": "Company Name=MODERN MILLS<br>Price=%{x}<br>Turnover=%{y}<br>Volume=%{customdata[0]}<extra></extra>",
         "legendgroup": "MODERN MILLS",
         "marker": {
          "color": "#EF553B",
          "size": [
           73957
          ],
          "sizemode": "area",
          "sizeref": 560888.798125,
          "symbol": "circle"
         },
         "mode": "markers",
         "name": "MODERN MILLS",
         "orientation": "v",
         "showlegend": true,
         "type": "scatter",
         "x": [
          42.95
         ],
         "xaxis": "x",
         "y": [
          3177112
         ],
         "yaxis": "y"
        },
        {
         "customdata": [
          [
           561937
          ]
         ],
         "hovertemplate": "Company Name=ARABIAN MILLS<br>Price=%{x}<br>Turnover=%{y}<br>Volume=%{customdata[0]}<extra></extra>",
         "legendgroup": "ARABIAN MILLS",
         "marker": {
          "color": "#00cc96",
          "size": [
           561937
          ],
          "sizemode": "area",
          "sizeref": 560888.798125,
          "symbol": "circle"
         },
         "mode": "markers",
         "name": "ARABIAN MILLS",
         "orientation": "v",
         "showlegend": true,
         "type": "scatter",
         "x": [
          53.8
         ],
         "xaxis": "x",
         "y": [
          30412792
         ],
         "yaxis": "y"
        },
        {
         "customdata": [
          [
           6430456
          ]
         ],
         "hovertemplate": "Company Name=FOURTH MILLING<br>Price=%{x}<br>Turnover=%{y}<br>Volume=%{customdata[0]}<extra></extra>",
         "legendgroup": "FOURTH MILLING",
         "marker": {
          "color": "#ab63fa",
          "size": [
           6430456
          ],
          "sizemode": "area",
          "sizeref": 560888.798125,
          "symbol": "circle"
         },
         "mode": "markers",
         "name": "FOURTH MILLING",
         "orientation": "v",
         "showlegend": true,
         "type": "scatter",
         "x": [
          4.86
         ],
         "xaxis": "x",
         "y": [
          31215442
         ],
         "yaxis": "y"
        },
        {
         "customdata": [
          [
           823339
          ]
         ],
         "hovertemplate": "Company Name=NADEC<br>Price=%{x}<br>Turnover=%{y}<br>Volume=%{customdata[0]}<extra></extra>",
         "legendgroup": "NADEC",
         "marker": {
          "color": "#FFA15A",
          "size": [
           823339
          ],
          "sizemode": "area",
          "sizeref": 560888.798125,
          "symbol": "circle"
         },
         "mode": "markers",
         "name": "NADEC",
         "orientation": "v",
         "showlegend": true,
         "type": "scatter",
         "x": [
          26.1
         ],
         "xaxis": "x",
         "y": [
          21338550
         ],
         "yaxis": "y"
        },
        {
         "customdata": [
          [
           99499
          ]
         ],
         "hovertemplate": "Company Name=GACO<br>Price=%{x}<br>Turnover=%{y}<br>Volume=%{customdata[0]}<extra></extra>",
         "legendgroup": "GACO",
         "marker": {
          "color": "#19d3f3",
          "size": [
           99499
          ],
          "sizemode": "area",
          "sizeref": 560888.798125,
          "symbol": "circle"
         },
         "mode": "markers",
         "name": "GACO",
         "orientation": "v",
         "showlegend": true,
         "type": "scatter",
         "x": [
          18.12
         ],
         "xaxis": "x",
         "y": [
          1806312
         ],
         "yaxis": "y"
        },
        {
         "customdata": [
          [
           115512
          ]
         ],
         "hovertemplate": "Company Name=TADCO<br>Price=%{x}<br>Turnover=%{y}<br>Volume=%{customdata[0]}<extra></extra>",
         "legendgroup": "TADCO",
         "marker": {
          "color": "#FF6692",
          "size": [
           115512
          ],
          "sizemode": "area",
          "sizeref": 560888.798125,
          "symbol": "circle"
         },
         "mode": "markers",
         "name": "TADCO",
         "orientation": "v",
         "showlegend": true,
         "type": "scatter",
         "x": [
          16.28
         ],
         "xaxis": "x",
         "y": [
          1880744
         ],
         "yaxis": "y"
        },
        {
         "customdata": [
          [
           667154
          ]
         ],
         "hovertemplate": "Company Name=SFICO<br>Price=%{x}<br>Turnover=%{y}<br>Volume=%{customdata[0]}<extra></extra>",
         "legendgroup": "SFICO",
         "marker": {
          "color": "#B6E880",
          "size": [
           667154
          ],
          "sizemode": "area",
          "sizeref": 560888.798125,
          "symbol": "circle"
         },
         "mode": "markers",
         "name": "SFICO",
         "orientation": "v",
         "showlegend": true,
         "type": "scatter",
         "x": [
          23.5
         ],
         "xaxis": "x",
         "y": [
          15690540
         ],
         "yaxis": "y"
        },
        {
         "customdata": [
          [
           760758
          ]
         ],
         "hovertemplate": "Company Name=SHARQIYAH DEV<br>Price=%{x}<br>Turnover=%{y}<br>Volume=%{customdata[0]}<extra></extra>",
         "legendgroup": "SHARQIYAH DEV",
         "marker": {
          "color": "#FF97FF",
          "size": [
           760758
          ],
          "sizemode": "area",
          "sizeref": 560888.798125,
          "symbol": "circle"
         },
         "mode": "markers",
         "name": "SHARQIYAH DEV",
         "orientation": "v",
         "showlegend": true,
         "type": "scatter",
         "x": [
          20.7
         ],
         "xaxis": "x",
         "y": [
          15800411
         ],
         "yaxis": "y"
        },
        {
         "customdata": [
          [
           193429
          ]
         ],
         "hovertemplate": "Company Name=ALJOUF<br>Price=%{x}<br>Turnover=%{y}<br>Volume=%{customdata[0]}<extra></extra>",
         "legendgroup": "ALJOUF",
         "marker": {
          "color": "#FECB52",
          "size": [
           193429
          ],
          "sizemode": "area",
          "sizeref": 560888.798125,
          "symbol": "circle"
         },
         "mode": "markers",
         "name": "ALJOUF",
         "orientation": "v",
         "showlegend": true,
         "type": "scatter",
         "x": [
          67.8
         ],
         "xaxis": "x",
         "y": [
          13159093
         ],
         "yaxis": "y"
        },
        {
         "customdata": [
          [
           58629
          ]
         ],
         "hovertemplate": "Company Name=JAZADCO<br>Price=%{x}<br>Turnover=%{y}<br>Volume=%{customdata[0]}<extra></extra>",
         "legendgroup": "JAZADCO",
         "marker": {
          "color": "#636efa",
          "size": [
           58629
          ],
          "sizemode": "area",
          "sizeref": 560888.798125,
          "symbol": "circle"
         },
         "mode": "markers",
         "name": "JAZADCO",
         "orientation": "v",
         "showlegend": true,
         "type": "scatter",
         "x": [
          13.6
         ],
         "xaxis": "x",
         "y": [
          796212
         ],
         "yaxis": "y"
        },
        {
         "customdata": [
          [
           78133
          ]
         ],
         "hovertemplate": "Company Name=TANMIAH<br>Price=%{x}<br>Turnover=%{y}<br>Volume=%{customdata[0]}<extra></extra>",
         "legendgroup": "TANMIAH",
         "marker": {
          "color": "#EF553B",
          "size": [
           78133
          ],
          "sizemode": "area",
          "sizeref": 560888.798125,
          "symbol": "circle"
         },
         "mode": "markers",
         "name": "TANMIAH",
         "orientation": "v",
         "showlegend": true,
         "type": "scatter",
         "x": [
          137.6
         ],
         "xaxis": "x",
         "y": [
          10831629
         ],
         "yaxis": "y"
        },
        {
         "customdata": [
          [
           1654445
          ]
         ],
         "hovertemplate": "Company Name=SAVOLA GROUP<br>Price=%{x}<br>Turnover=%{y}<br>Volume=%{customdata[0]}<extra></extra>",
         "legendgroup": "SAVOLA GROUP",
         "marker": {
          "color": "#00cc96",
          "size": [
           1654445
          ],
          "sizemode": "area",
          "sizeref": 560888.798125,
          "symbol": "circle"
         },
         "mode": "markers",
         "name": "SAVOLA GROUP",
         "orientation": "v",
         "showlegend": true,
         "type": "scatter",
         "x": [
          25.75
         ],
         "xaxis": "x",
         "y": [
          42985249
         ],
         "yaxis": "y"
        },
        {
         "customdata": [
          [
           379440
          ]
         ],
         "hovertemplate": "Company Name=WAFRAH<br>Price=%{x}<br>Turnover=%{y}<br>Volume=%{customdata[0]}<extra></extra>",
         "legendgroup": "WAFRAH",
         "marker": {
          "color": "#ab63fa",
          "size": [
           379440
          ],
          "sizemode": "area",
          "sizeref": 560888.798125,
          "symbol": "circle"
         },
         "mode": "markers",
         "name": "WAFRAH",
         "orientation": "v",
         "showlegend": true,
         "type": "scatter",
         "x": [
          40.5
         ],
         "xaxis": "x",
         "y": [
          15498155
         ],
         "yaxis": "y"
        },
        {
         "customdata": [
          [
           43356
          ]
         ],
         "hovertemplate": "Company Name=SADAFCO<br>Price=%{x}<br>Turnover=%{y}<br>Volume=%{customdata[0]}<extra></extra>",
         "legendgroup": "SADAFCO",
         "marker": {
          "color": "#FFA15A",
          "size": [
           43356
          ],
          "sizemode": "area",
          "sizeref": 560888.798125,
          "symbol": "circle"
         },
         "mode": "markers",
         "name": "SADAFCO",
         "orientation": "v",
         "showlegend": true,
         "type": "scatter",
         "x": [
          352
         ],
         "xaxis": "x",
         "y": [
          15254174
         ],
         "yaxis": "y"
        },
        {
         "customdata": [
          [
           600850
          ]
         ],
         "hovertemplate": "Company Name=ALMARAI<br>Price=%{x}<br>Turnover=%{y}<br>Volume=%{customdata[0]}<extra></extra>",
         "legendgroup": "ALMARAI",
         "marker": {
          "color": "#19d3f3",
          "size": [
           600850
          ],
          "sizemode": "area",
          "sizeref": 560888.798125,
          "symbol": "circle"
         },
         "mode": "markers",
         "name": "ALMARAI",
         "orientation": "v",
         "showlegend": true,
         "type": "scatter",
         "x": [
          56.1
         ],
         "xaxis": "x",
         "y": [
          33616582
         ],
         "yaxis": "y"
        },
        {
         "customdata": [
          [
           248073
          ]
         ],
         "hovertemplate": "Company Name=SINAD HOLDING<br>Price=%{x}<br>Turnover=%{y}<br>Volume=%{customdata[0]}<extra></extra>",
         "legendgroup": "SINAD HOLDING",
         "marker": {
          "color": "#FF6692",
          "size": [
           248073
          ],
          "sizemode": "area",
          "sizeref": 560888.798125,
          "symbol": "circle"
         },
         "mode": "markers",
         "name": "SINAD HOLDING",
         "orientation": "v",
         "showlegend": true,
         "type": "scatter",
         "x": [
          14.18
         ],
         "xaxis": "x",
         "y": [
          3555032
         ],
         "yaxis": "y"
        },
        {
         "customdata": [
          [
           114265
          ]
         ],
         "hovertemplate": "Company Name=EQUIPMENT HOUSE<br>Price=%{x}<br>Turnover=%{y}<br>Volume=%{customdata[0]}<extra></extra>",
         "legendgroup": "EQUIPMENT HOUSE",
         "marker": {
          "color": "#B6E880",
          "size": [
           114265
          ],
          "sizemode": "area",
          "sizeref": 560888.798125,
          "symbol": "circle"
         },
         "mode": "markers",
         "name": "EQUIPMENT HOUSE",
         "orientation": "v",
         "showlegend": true,
         "type": "scatter",
         "x": [
          54.9
         ],
         "xaxis": "x",
         "y": [
          6286395
         ],
         "yaxis": "y"
        },
        {
         "customdata": [
          [
           1031663
          ]
         ],
         "hovertemplate": "Company Name=FAKEEH CARE<br>Price=%{x}<br>Turnover=%{y}<br>Volume=%{customdata[0]}<extra></extra>",
         "legendgroup": "FAKEEH CARE",
         "marker": {
          "color": "#FF97FF",
          "size": [
           1031663
          ],
          "sizemode": "area",
          "sizeref": 560888.798125,
          "symbol": "circle"
         },
         "mode": "markers",
         "name": "FAKEEH CARE",
         "orientation": "v",
         "showlegend": true,
         "type": "scatter",
         "x": [
          58.1
         ],
         "xaxis": "x",
         "y": [
          60130809
         ],
         "yaxis": "y"
        },
        {
         "customdata": [
          [
           712565
          ]
         ],
         "hovertemplate": "Company Name=AYYAN<br>Price=%{x}<br>Turnover=%{y}<br>Volume=%{customdata[0]}<extra></extra>",
         "legendgroup": "AYYAN",
         "marker": {
          "color": "#FECB52",
          "size": [
           712565
          ],
          "sizemode": "area",
          "sizeref": 560888.798125,
          "symbol": "circle"
         },
         "mode": "markers",
         "name": "AYYAN",
         "orientation": "v",
         "showlegend": true,
         "type": "scatter",
         "x": [
          14
         ],
         "xaxis": "x",
         "y": [
          9886048
         ],
         "yaxis": "y"
        },
        {
         "customdata": [
          [
           177715
          ]
         ],
         "hovertemplate": "Company Name=SULAIMAN ALHABIB<br>Price=%{x}<br>Turnover=%{y}<br>Volume=%{customdata[0]}<extra></extra>",
         "legendgroup": "SULAIMAN ALHABIB",
         "marker": {
          "color": "#636efa",
          "size": [
           177715
          ],
          "sizemode": "area",
          "sizeref": 560888.798125,
          "symbol": "circle"
         },
         "mode": "markers",
         "name": "SULAIMAN ALHABIB",
         "orientation": "v",
         "showlegend": true,
         "type": "scatter",
         "x": [
          283.4
         ],
         "xaxis": "x",
         "y": [
          50385832
         ],
         "yaxis": "y"
        },
        {
         "customdata": [
          [
           62345
          ]
         ],
         "hovertemplate": "Company Name=CARE<br>Price=%{x}<br>Turnover=%{y}<br>Volume=%{customdata[0]}<extra></extra>",
         "legendgroup": "CARE",
         "marker": {
          "color": "#EF553B",
          "size": [
           62345
          ],
          "sizemode": "area",
          "sizeref": 560888.798125,
          "symbol": "circle"
         },
         "mode": "markers",
         "name": "CARE",
         "orientation": "v",
         "showlegend": true,
         "type": "scatter",
         "x": [
          184.6
         ],
         "xaxis": "x",
         "y": [
          11475275
         ],
         "yaxis": "y"
        },
        {
         "customdata": [
          [
           232153
          ]
         ],
         "hovertemplate": "Company Name=MOUWASAT<br>Price=%{x}<br>Turnover=%{y}<br>Volume=%{customdata[0]}<extra></extra>",
         "legendgroup": "MOUWASAT",
         "marker": {
          "color": "#00cc96",
          "size": [
           232153
          ],
          "sizemode": "area",
          "sizeref": 560888.798125,
          "symbol": "circle"
         },
         "mode": "markers",
         "name": "MOUWASAT",
         "orientation": "v",
         "showlegend": true,
         "type": "scatter",
         "x": [
          93.8
         ],
         "xaxis": "x",
         "y": [
          21903414
         ],
         "yaxis": "y"
        },
        {
         "customdata": [
          [
           53476
          ]
         ],
         "hovertemplate": "Company Name=DALLAH HEALTH<br>Price=%{x}<br>Turnover=%{y}<br>Volume=%{customdata[0]}<extra></extra>",
         "legendgroup": "DALLAH HEALTH",
         "marker": {
          "color": "#ab63fa",
          "size": [
           53476
          ],
          "sizemode": "area",
          "sizeref": 560888.798125,
          "symbol": "circle"
         },
         "mode": "markers",
         "name": "DALLAH HEALTH",
         "orientation": "v",
         "showlegend": true,
         "type": "scatter",
         "x": [
          155.4
         ],
         "xaxis": "x",
         "y": [
          8282590
         ],
         "yaxis": "y"
        },
        {
         "customdata": [
          [
           725520
          ]
         ],
         "hovertemplate": "Company Name=ALHAMMADI<br>Price=%{x}<br>Turnover=%{y}<br>Volume=%{customdata[0]}<extra></extra>",
         "legendgroup": "ALHAMMADI",
         "marker": {
          "color": "#FFA15A",
          "size": [
           725520
          ],
          "sizemode": "area",
          "sizeref": 560888.798125,
          "symbol": "circle"
         },
         "mode": "markers",
         "name": "ALHAMMADI",
         "orientation": "v",
         "showlegend": true,
         "type": "scatter",
         "x": [
          40.4
         ],
         "xaxis": "x",
         "y": [
          29323854
         ],
         "yaxis": "y"
        },
        {
         "customdata": [
          [
           137245
          ]
         ],
         "hovertemplate": "Company Name=SAUDI GERMAN HEALTH<br>Price=%{x}<br>Turnover=%{y}<br>Volume=%{customdata[0]}<extra></extra>",
         "legendgroup": "SAUDI GERMAN HEALTH",
         "marker": {
          "color": "#19d3f3",
          "size": [
           137245
          ],
          "sizemode": "area",
          "sizeref": 560888.798125,
          "symbol": "circle"
         },
         "mode": "markers",
         "name": "SAUDI GERMAN HEALTH",
         "orientation": "v",
         "showlegend": true,
         "type": "scatter",
         "x": [
          72
         ],
         "xaxis": "x",
         "y": [
          9899345
         ],
         "yaxis": "y"
        },
        {
         "customdata": [
          [
           1986769
          ]
         ],
         "hovertemplate": "Company Name=CHEMICAL<br>Price=%{x}<br>Turnover=%{y}<br>Volume=%{customdata[0]}<extra></extra>",
         "legendgroup": "CHEMICAL",
         "marker": {
          "color": "#FF6692",
          "size": [
           1986769
          ],
          "sizemode": "area",
          "sizeref": 560888.798125,
          "symbol": "circle"
         },
         "mode": "markers",
         "name": "CHEMICAL",
         "orientation": "v",
         "showlegend": true,
         "type": "scatter",
         "x": [
          11
         ],
         "xaxis": "x",
         "y": [
          22057334
         ],
         "yaxis": "y"
        },
        {
         "customdata": [
          [
           353269
          ]
         ],
         "hovertemplate": "Company Name=SPIMACO<br>Price=%{x}<br>Turnover=%{y}<br>Volume=%{customdata[0]}<extra></extra>",
         "legendgroup": "SPIMACO",
         "marker": {
          "color": "#B6E880",
          "size": [
           353269
          ],
          "sizemode": "area",
          "sizeref": 560888.798125,
          "symbol": "circle"
         },
         "mode": "markers",
         "name": "SPIMACO",
         "orientation": "v",
         "showlegend": true,
         "type": "scatter",
         "x": [
          33
         ],
         "xaxis": "x",
         "y": [
          11631992
         ],
         "yaxis": "y"
        },
        {
         "customdata": [
          [
           59310
          ]
         ],
         "hovertemplate": "Company Name=JAMJOOM PHARMA<br>Price=%{x}<br>Turnover=%{y}<br>Volume=%{customdata[0]}<extra></extra>",
         "legendgroup": "JAMJOOM PHARMA",
         "marker": {
          "color": "#FF97FF",
          "size": [
           59310
          ],
          "sizemode": "area",
          "sizeref": 560888.798125,
          "symbol": "circle"
         },
         "mode": "markers",
         "name": "JAMJOOM PHARMA",
         "orientation": "v",
         "showlegend": true,
         "type": "scatter",
         "x": [
          164.4
         ],
         "xaxis": "x",
         "y": [
          9650560
         ],
         "yaxis": "y"
        },
        {
         "customdata": [
          [
           49989
          ]
         ],
         "hovertemplate": "Company Name=AVALON PHARMA<br>Price=%{x}<br>Turnover=%{y}<br>Volume=%{customdata[0]}<extra></extra>",
         "legendgroup": "AVALON PHARMA",
         "marker": {
          "color": "#FECB52",
          "size": [
           49989
          ],
          "sizemode": "area",
          "sizeref": 560888.798125,
          "symbol": "circle"
         },
         "mode": "markers",
         "name": "AVALON PHARMA",
         "orientation": "v",
         "showlegend": true,
         "type": "scatter",
         "x": [
          130.6
         ],
         "xaxis": "x",
         "y": [
          6550893
         ],
         "yaxis": "y"
        },
        {
         "customdata": [
          [
           3788691
          ]
         ],
         "hovertemplate": "Company Name=RIBL<br>Price=%{x}<br>Turnover=%{y}<br>Volume=%{customdata[0]}<extra></extra>",
         "legendgroup": "RIBL",
         "marker": {
          "color": "#636efa",
          "size": [
           3788691
          ],
          "sizemode": "area",
          "sizeref": 560888.798125,
          "symbol": "circle"
         },
         "mode": "markers",
         "name": "RIBL",
         "orientation": "v",
         "showlegend": true,
         "type": "scatter",
         "x": [
          26.3
         ],
         "xaxis": "x",
         "y": [
          99141636
         ],
         "yaxis": "y"
        },
        {
         "customdata": [
          [
           2472981
          ]
         ],
         "hovertemplate": "Company Name=BJAZ<br>Price=%{x}<br>Turnover=%{y}<br>Volume=%{customdata[0]}<extra></extra>",
         "legendgroup": "BJAZ",
         "marker": {
          "color": "#EF553B",
          "size": [
           2472981
          ],
          "sizemode": "area",
          "sizeref": 560888.798125,
          "symbol": "circle"
         },
         "mode": "markers",
         "name": "BJAZ",
         "orientation": "v",
         "showlegend": true,
         "type": "scatter",
         "x": [
          16.86
         ],
         "xaxis": "x",
         "y": [
          41579113
         ],
         "yaxis": "y"
        },
        {
         "customdata": [
          [
           985154
          ]
         ],
         "hovertemplate": "Company Name=SAIB<br>Price=%{x}<br>Turnover=%{y}<br>Volume=%{customdata[0]}<extra></extra>",
         "legendgroup": "SAIB",
         "marker": {
          "color": "#00cc96",
          "size": [
           985154
          ],
          "sizemode": "area",
          "sizeref": 560888.798125,
          "symbol": "circle"
         },
         "mode": "markers",
         "name": "SAIB",
         "orientation": "v",
         "showlegend": true,
         "type": "scatter",
         "x": [
          13.3
         ],
         "xaxis": "x",
         "y": [
          13089525
         ],
         "yaxis": "y"
        },
        {
         "customdata": [
          [
           680473
          ]
         ],
         "hovertemplate": "Company Name=BSF<br>Price=%{x}<br>Turnover=%{y}<br>Volume=%{customdata[0]}<extra></extra>",
         "legendgroup": "BSF",
         "marker": {
          "color": "#ab63fa",
          "size": [
           680473
          ],
          "sizemode": "area",
          "sizeref": 560888.798125,
          "symbol": "circle"
         },
         "mode": "markers",
         "name": "BSF",
         "orientation": "v",
         "showlegend": true,
         "type": "scatter",
         "x": [
          31.9
         ],
         "xaxis": "x",
         "y": [
          21737779
         ],
         "yaxis": "y"
        },
        {
         "customdata": [
          [
           1736231
          ]
         ],
         "hovertemplate": "Company Name=SAB<br>Price=%{x}<br>Turnover=%{y}<br>Volume=%{customdata[0]}<extra></extra>",
         "legendgroup": "SAB",
         "marker": {
          "color": "#FFA15A",
          "size": [
           1736231
          ],
          "sizemode": "area",
          "sizeref": 560888.798125,
          "symbol": "circle"
         },
         "mode": "markers",
         "name": "SAB",
         "orientation": "v",
         "showlegend": true,
         "type": "scatter",
         "x": [
          34.45
         ],
         "xaxis": "x",
         "y": [
          59217093
         ],
         "yaxis": "y"
        },
        {
         "customdata": [
          [
           1908203
          ]
         ],
         "hovertemplate": "Company Name=ANB<br>Price=%{x}<br>Turnover=%{y}<br>Volume=%{customdata[0]}<extra></extra>",
         "legendgroup": "ANB",
         "marker": {
          "color": "#19d3f3",
          "size": [
           1908203
          ],
          "sizemode": "area",
          "sizeref": 560888.798125,
          "symbol": "circle"
         },
         "mode": "markers",
         "name": "ANB",
         "orientation": "v",
         "showlegend": true,
         "type": "scatter",
         "x": [
          19.6
         ],
         "xaxis": "x",
         "y": [
          37164227
         ],
         "yaxis": "y"
        },
        {
         "customdata": [
          [
           7713363
          ]
         ],
         "hovertemplate": "Company Name=ALRAJHI<br>Price=%{x}<br>Turnover=%{y}<br>Volume=%{customdata[0]}<extra></extra>",
         "legendgroup": "ALRAJHI",
         "marker": {
          "color": "#FF6692",
          "size": [
           7713363
          ],
          "sizemode": "area",
          "sizeref": 560888.798125,
          "symbol": "circle"
         },
         "mode": "markers",
         "name": "ALRAJHI",
         "orientation": "v",
         "showlegend": true,
         "type": "scatter",
         "x": [
          92.7
         ],
         "xaxis": "x",
         "y": [
          713078290
         ],
         "yaxis": "y"
        },
        {
         "customdata": [
          [
           1842980
          ]
         ],
         "hovertemplate": "Company Name=ALBILAD<br>Price=%{x}<br>Turnover=%{y}<br>Volume=%{customdata[0]}<extra></extra>",
         "legendgroup": "ALBILAD",
         "marker": {
          "color": "#B6E880",
          "size": [
           1842980
          ],
          "sizemode": "area",
          "sizeref": 560888.798125,
          "symbol": "circle"
         },
         "mode": "markers",
         "name": "ALBILAD",
         "orientation": "v",
         "showlegend": true,
         "type": "scatter",
         "x": [
          37.5
         ],
         "xaxis": "x",
         "y": [
          68854569
         ],
         "yaxis": "y"
        },
        {
         "customdata": [
          [
           10317816
          ]
         ],
         "hovertemplate": "Company Name=ALINMA<br>Price=%{x}<br>Turnover=%{y}<br>Volume=%{customdata[0]}<extra></extra>",
         "legendgroup": "ALINMA",
         "marker": {
          "color": "#FF97FF",
          "size": [
           10317816
          ],
          "sizemode": "area",
          "sizeref": 560888.798125,
          "symbol": "circle"
         },
         "mode": "markers",
         "name": "ALINMA",
         "orientation": "v",
         "showlegend": true,
         "type": "scatter",
         "x": [
          28.4
         ],
         "xaxis": "x",
         "y": [
          292974889
         ],
         "yaxis": "y"
        },
        {
         "customdata": [
          [
           15119377
          ]
         ],
         "hovertemplate": "Company Name=SNB<br>Price=%{x}<br>Turnover=%{y}<br>Volume=%{customdata[0]}<extra></extra>",
         "legendgroup": "SNB",
         "marker": {
          "color": "#FECB52",
          "size": [
           15119377
          ],
          "sizemode": "area",
          "sizeref": 560888.798125,
          "symbol": "circle"
         },
         "mode": "markers",
         "name": "SNB",
         "orientation": "v",
         "showlegend": true,
         "type": "scatter",
         "x": [
          32.65
         ],
         "xaxis": "x",
         "y": [
          494103789
         ],
         "yaxis": "y"
        },
        {
         "customdata": [
          [
           183514
          ]
         ],
         "hovertemplate": "Company Name=SHL<br>Price=%{x}<br>Turnover=%{y}<br>Volume=%{customdata[0]}<extra></extra>",
         "legendgroup": "SHL",
         "marker": {
          "color": "#636efa",
          "size": [
           183514
          ],
          "sizemode": "area",
          "sizeref": 560888.798125,
          "symbol": "circle"
         },
         "mode": "markers",
         "name": "SHL",
         "orientation": "v",
         "showlegend": true,
         "type": "scatter",
         "x": [
          17.28
         ],
         "xaxis": "x",
         "y": [
          3168556
         ],
         "yaxis": "y"
        },
        {
         "customdata": [
          [
           238056
          ]
         ],
         "hovertemplate": "Company Name=AMLAK<br>Price=%{x}<br>Turnover=%{y}<br>Volume=%{customdata[0]}<extra></extra>",
         "legendgroup": "AMLAK",
         "marker": {
          "color": "#EF553B",
          "size": [
           238056
          ],
          "sizemode": "area",
          "sizeref": 560888.798125,
          "symbol": "circle"
         },
         "mode": "markers",
         "name": "AMLAK",
         "orientation": "v",
         "showlegend": true,
         "type": "scatter",
         "x": [
          13.18
         ],
         "xaxis": "x",
         "y": [
          3156428
         ],
         "yaxis": "y"
        },
        {
         "customdata": [
          [
           510128
          ]
         ],
         "hovertemplate": "Company Name=NAYIFAT<br>Price=%{x}<br>Turnover=%{y}<br>Volume=%{customdata[0]}<extra></extra>",
         "legendgroup": "NAYIFAT",
         "marker": {
          "color": "#00cc96",
          "size": [
           510128
          ],
          "sizemode": "area",
          "sizeref": 560888.798125,
          "symbol": "circle"
         },
         "mode": "markers",
         "name": "NAYIFAT",
         "orientation": "v",
         "showlegend": true,
         "type": "scatter",
         "x": [
          14.92
         ],
         "xaxis": "x",
         "y": [
          7649128
         ],
         "yaxis": "y"
        },
        {
         "customdata": [
          [
           89487
          ]
         ],
         "hovertemplate": "Company Name=TADAWUL GROUP<br>Price=%{x}<br>Turnover=%{y}<br>Volume=%{customdata[0]}<extra></extra>",
         "legendgroup": "TADAWUL GROUP",
         "marker": {
          "color": "#ab63fa",
          "size": [
           89487
          ],
          "sizemode": "area",
          "sizeref": 560888.798125,
          "symbol": "circle"
         },
         "mode": "markers",
         "name": "TADAWUL GROUP",
         "orientation": "v",
         "showlegend": true,
         "type": "scatter",
         "x": [
          245
         ],
         "xaxis": "x",
         "y": [
          21925250
         ],
         "yaxis": "y"
        },
        {
         "customdata": [
          [
           123424
          ]
         ],
         "hovertemplate": "Company Name=MRNA<br>Price=%{x}<br>Turnover=%{y}<br>Volume=%{customdata[0]}<extra></extra>",
         "legendgroup": "MRNA",
         "marker": {
          "color": "#FFA15A",
          "size": [
           123424
          ],
          "sizemode": "area",
          "sizeref": 560888.798125,
          "symbol": "circle"
         },
         "mode": "markers",
         "name": "MRNA",
         "orientation": "v",
         "showlegend": true,
         "type": "scatter",
         "x": [
          11.54
         ],
         "xaxis": "x",
         "y": [
          1429206
         ],
         "yaxis": "y"
        },
        {
         "customdata": [
          [
           897422077
          ]
         ],
         "hovertemplate": "Company Name=ALBAHA<br>Price=%{x}<br>Turnover=%{y}<br>Volume=%{customdata[0]}<extra></extra>",
         "legendgroup": "ALBAHA",
         "marker": {
          "color": "#19d3f3",
          "size": [
           897422077
          ],
          "sizemode": "area",
          "sizeref": 560888.798125,
          "symbol": "circle"
         },
         "mode": "markers",
         "name": "ALBAHA",
         "orientation": "v",
         "showlegend": true,
         "type": "scatter",
         "x": [
          0.33
         ],
         "xaxis": "x",
         "y": [
          301206844
         ],
         "yaxis": "y"
        },
        {
         "customdata": [
          [
           1657949
          ]
         ],
         "hovertemplate": "Company Name=SAIC<br>Price=%{x}<br>Turnover=%{y}<br>Volume=%{customdata[0]}<extra></extra>",
         "legendgroup": "SAIC",
         "marker": {
          "color": "#FF6692",
          "size": [
           1657949
          ],
          "sizemode": "area",
          "sizeref": 560888.798125,
          "symbol": "circle"
         },
         "mode": "markers",
         "name": "SAIC",
         "orientation": "v",
         "showlegend": true,
         "type": "scatter",
         "x": [
          37.2
         ],
         "xaxis": "x",
         "y": [
          62022275
         ],
         "yaxis": "y"
        },
        {
         "customdata": [
          [
           233921
          ]
         ],
         "hovertemplate": "Company Name=KINGDOM<br>Price=%{x}<br>Turnover=%{y}<br>Volume=%{customdata[0]}<extra></extra>",
         "legendgroup": "KINGDOM",
         "marker": {
          "color": "#B6E880",
          "size": [
           233921
          ],
          "sizemode": "area",
          "sizeref": 560888.798125,
          "symbol": "circle"
         },
         "mode": "markers",
         "name": "KINGDOM",
         "orientation": "v",
         "showlegend": true,
         "type": "scatter",
         "x": [
          10.36
         ],
         "xaxis": "x",
         "y": [
          2443359
         ],
         "yaxis": "y"
        },
        {
         "customdata": [
          [
           1267263
          ]
         ],
         "hovertemplate": "Company Name=RASAN<br>Price=%{x}<br>Turnover=%{y}<br>Volume=%{customdata[0]}<extra></extra>",
         "legendgroup": "RASAN",
         "marker": {
          "color": "#FF97FF",
          "size": [
           1267263
          ],
          "sizemode": "area",
          "sizeref": 560888.798125,
          "symbol": "circle"
         },
         "mode": "markers",
         "name": "RASAN",
         "orientation": "v",
         "showlegend": true,
         "type": "scatter",
         "x": [
          78.1
         ],
         "xaxis": "x",
         "y": [
          96298980
         ],
         "yaxis": "y"
        },
        {
         "customdata": [
          [
           443050
          ]
         ],
         "hovertemplate": "Company Name=TAWUNIYA<br>Price=%{x}<br>Turnover=%{y}<br>Volume=%{customdata[0]}<extra></extra>",
         "legendgroup": "TAWUNIYA",
         "marker": {
          "color": "#FECB52",
          "size": [
           443050
          ],
          "sizemode": "area",
          "sizeref": 560888.798125,
          "symbol": "circle"
         },
         "mode": "markers",
         "name": "TAWUNIYA",
         "orientation": "v",
         "showlegend": true,
         "type": "scatter",
         "x": [
          134.6
         ],
         "xaxis": "x",
         "y": [
          59014550
         ],
         "yaxis": "y"
        },
        {
         "customdata": [
          [
           194286
          ]
         ],
         "hovertemplate": "Company Name=MALATH INSURANCE<br>Price=%{x}<br>Turnover=%{y}<br>Volume=%{customdata[0]}<extra></extra>",
         "legendgroup": "MALATH INSURANCE",
         "marker": {
          "color": "#636efa",
          "size": [
           194286
          ],
          "sizemode": "area",
          "sizeref": 560888.798125,
          "symbol": "circle"
         },
         "mode": "markers",
         "name": "MALATH INSURANCE",
         "orientation": "v",
         "showlegend": true,
         "type": "scatter",
         "x": [
          15.1
         ],
         "xaxis": "x",
         "y": [
          2931385
         ],
         "yaxis": "y"
        },
        {
         "customdata": [
          [
           815839
          ]
         ],
         "hovertemplate": "Company Name=MEDGULF<br>Price=%{x}<br>Turnover=%{y}<br>Volume=%{customdata[0]}<extra></extra>",
         "legendgroup": "MEDGULF",
         "marker": {
          "color": "#EF553B",
          "size": [
           815839
          ],
          "sizemode": "area",
          "sizeref": 560888.798125,
          "symbol": "circle"
         },
         "mode": "markers",
         "name": "MEDGULF",
         "orientation": "v",
         "showlegend": true,
         "type": "scatter",
         "x": [
          20.56
         ],
         "xaxis": "x",
         "y": [
          16791032
         ],
         "yaxis": "y"
        },
        {
         "customdata": [
          [
           114052
          ]
         ],
         "hovertemplate": "Company Name=WALAA<br>Price=%{x}<br>Turnover=%{y}<br>Volume=%{customdata[0]}<extra></extra>",
         "legendgroup": "WALAA",
         "marker": {
          "color": "#00cc96",
          "size": [
           114052
          ],
          "sizemode": "area",
          "sizeref": 560888.798125,
          "symbol": "circle"
         },
         "mode": "markers",
         "name": "WALAA",
         "orientation": "v",
         "showlegend": true,
         "type": "scatter",
         "x": [
          21.66
         ],
         "xaxis": "x",
         "y": [
          2445339
         ],
         "yaxis": "y"
        },
        {
         "customdata": [
          [
           100773
          ]
         ],
         "hovertemplate": "Company Name=ALLIANZ SF<br>Price=%{x}<br>Turnover=%{y}<br>Volume=%{customdata[0]}<extra></extra>",
         "legendgroup": "ALLIANZ SF",
         "marker": {
          "color": "#ab63fa",
          "size": [
           100773
          ],
          "sizemode": "area",
          "sizeref": 560888.798125,
          "symbol": "circle"
         },
         "mode": "markers",
         "name": "ALLIANZ SF",
         "orientation": "v",
         "showlegend": true,
         "type": "scatter",
         "x": [
          14.8
         ],
         "xaxis": "x",
         "y": [
          1478912
         ],
         "yaxis": "y"
        },
        {
         "customdata": [
          [
           321000
          ]
         ],
         "hovertemplate": "Company Name=ARABIAN SHIELD<br>Price=%{x}<br>Turnover=%{y}<br>Volume=%{customdata[0]}<extra></extra>",
         "legendgroup": "ARABIAN SHIELD",
         "marker": {
          "color": "#FFA15A",
          "size": [
           321000
          ],
          "sizemode": "area",
          "sizeref": 560888.798125,
          "symbol": "circle"
         },
         "mode": "markers",
         "name": "ARABIAN SHIELD",
         "orientation": "v",
         "showlegend": true,
         "type": "scatter",
         "x": [
          18.94
         ],
         "xaxis": "x",
         "y": [
          6095220
         ],
         "yaxis": "y"
        },
        {
         "customdata": [
          [
           106412
          ]
         ],
         "hovertemplate": "Company Name=SALAMA<br>Price=%{x}<br>Turnover=%{y}<br>Volume=%{customdata[0]}<extra></extra>",
         "legendgroup": "SALAMA",
         "marker": {
          "color": "#19d3f3",
          "size": [
           106412
          ],
          "sizemode": "area",
          "sizeref": 560888.798125,
          "symbol": "circle"
         },
         "mode": "markers",
         "name": "SALAMA",
         "orientation": "v",
         "showlegend": true,
         "type": "scatter",
         "x": [
          23.24
         ],
         "xaxis": "x",
         "y": [
          2462712
         ],
         "yaxis": "y"
        },
        {
         "customdata": [
          [
           191960
          ]
         ],
         "hovertemplate": "Company Name=SAICO<br>Price=%{x}<br>Turnover=%{y}<br>Volume=%{customdata[0]}<extra></extra>",
         "legendgroup": "SAICO",
         "marker": {
          "color": "#FF6692",
          "size": [
           191960
          ],
          "sizemode": "area",
          "sizeref": 560888.798125,
          "symbol": "circle"
         },
         "mode": "markers",
         "name": "SAICO",
         "orientation": "v",
         "showlegend": true,
         "type": "scatter",
         "x": [
          14.8
         ],
         "xaxis": "x",
         "y": [
          2836266
         ],
         "yaxis": "y"
        },
        {
         "customdata": [
          [
           153740
          ]
         ],
         "hovertemplate": "Company Name=JAZIRA TAKAFUL<br>Price=%{x}<br>Turnover=%{y}<br>Volume=%{customdata[0]}<extra></extra>",
         "legendgroup": "JAZIRA TAKAFUL",
         "marker": {
          "color": "#B6E880",
          "size": [
           153740
          ],
          "sizemode": "area",
          "sizeref": 560888.798125,
          "symbol": "circle"
         },
         "mode": "markers",
         "name": "JAZIRA TAKAFUL",
         "orientation": "v",
         "showlegend": true,
         "type": "scatter",
         "x": [
          16.5
         ],
         "xaxis": "x",
         "y": [
          2529062
         ],
         "yaxis": "y"
        },
        {
         "customdata": [
          [
           220286
          ]
         ],
         "hovertemplate": "Company Name=GULF UNION ALAHLIA<br>Price=%{x}<br>Turnover=%{y}<br>Volume=%{customdata[0]}<extra></extra>",
         "legendgroup": "GULF UNION ALAHLIA",
         "marker": {
          "color": "#FF97FF",
          "size": [
           220286
          ],
          "sizemode": "area",
          "sizeref": 560888.798125,
          "symbol": "circle"
         },
         "mode": "markers",
         "name": "GULF UNION ALAHLIA",
         "orientation": "v",
         "showlegend": true,
         "type": "scatter",
         "x": [
          15.44
         ],
         "xaxis": "x",
         "y": [
          3385332
         ],
         "yaxis": "y"
        },
        {
         "customdata": [
          [
           191247
          ]
         ],
         "hovertemplate": "Company Name=ACIG<br>Price=%{x}<br>Turnover=%{y}<br>Volume=%{customdata[0]}<extra></extra>",
         "legendgroup": "ACIG",
         "marker": {
          "color": "#FECB52",
          "size": [
           191247
          ],
          "sizemode": "area",
          "sizeref": 560888.798125,
          "symbol": "circle"
         },
         "mode": "markers",
         "name": "ACIG",
         "orientation": "v",
         "showlegend": true,
         "type": "scatter",
         "x": [
          13.7
         ],
         "xaxis": "x",
         "y": [
          2598857
         ],
         "yaxis": "y"
        },
        {
         "customdata": [
          [
           155968
          ]
         ],
         "hovertemplate": "Company Name=AICC<br>Price=%{x}<br>Turnover=%{y}<br>Volume=%{customdata[0]}<extra></extra>",
         "legendgroup": "AICC",
         "marker": {
          "color": "#636efa",
          "size": [
           155968
          ],
          "sizemode": "area",
          "sizeref": 560888.798125,
          "symbol": "circle"
         },
         "mode": "markers",
         "name": "AICC",
         "orientation": "v",
         "showlegend": true,
         "type": "scatter",
         "x": [
          12.8
         ],
         "xaxis": "x",
         "y": [
          1978297
         ],
         "yaxis": "y"
        },
        {
         "customdata": [
          [
           315698
          ]
         ],
         "hovertemplate": "Company Name=ALETIHAD<br>Price=%{x}<br>Turnover=%{y}<br>Volume=%{customdata[0]}<extra></extra>",
         "legendgroup": "ALETIHAD",
         "marker": {
          "color": "#EF553B",
          "size": [
           315698
          ],
          "sizemode": "area",
          "sizeref": 560888.798125,
          "symbol": "circle"
         },
         "mode": "markers",
         "name": "ALETIHAD",
         "orientation": "v",
         "showlegend": true,
         "type": "scatter",
         "x": [
          18.66
         ],
         "xaxis": "x",
         "y": [
          5902419
         ],
         "yaxis": "y"
        },
        {
         "customdata": [
          [
           180186
          ]
         ],
         "hovertemplate": "Company Name=ALSAGR INSURANCE<br>Price=%{x}<br>Turnover=%{y}<br>Volume=%{customdata[0]}<extra></extra>",
         "legendgroup": "ALSAGR INSURANCE",
         "marker": {
          "color": "#00cc96",
          "size": [
           180186
          ],
          "sizemode": "area",
          "sizeref": 560888.798125,
          "symbol": "circle"
         },
         "mode": "markers",
         "name": "ALSAGR INSURANCE",
         "orientation": "v",
         "showlegend": true,
         "type": "scatter",
         "x": [
          17.36
         ],
         "xaxis": "x",
         "y": [
          3118831
         ],
         "yaxis": "y"
        },
        {
         "customdata": [
          [
           217828
          ]
         ],
         "hovertemplate": "Company Name=UCA<br>Price=%{x}<br>Turnover=%{y}<br>Volume=%{customdata[0]}<extra></extra>",
         "legendgroup": "UCA",
         "marker": {
          "color": "#ab63fa",
          "size": [
           217828
          ],
          "sizemode": "area",
          "sizeref": 560888.798125,
          "symbol": "circle"
         },
         "mode": "markers",
         "name": "UCA",
         "orientation": "v",
         "showlegend": true,
         "type": "scatter",
         "x": [
          9.75
         ],
         "xaxis": "x",
         "y": [
          2114689
         ],
         "yaxis": "y"
        },
        {
         "customdata": [
          [
           415262
          ]
         ],
         "hovertemplate": "Company Name=SAUDI RE<br>Price=%{x}<br>Turnover=%{y}<br>Volume=%{customdata[0]}<extra></extra>",
         "legendgroup": "SAUDI RE",
         "marker": {
          "color": "#FFA15A",
          "size": [
           415262
          ],
          "sizemode": "area",
          "sizeref": 560888.798125,
          "symbol": "circle"
         },
         "mode": "markers",
         "name": "SAUDI RE",
         "orientation": "v",
         "showlegend": true,
         "type": "scatter",
         "x": [
          36.05
         ],
         "xaxis": "x",
         "y": [
          14971819
         ],
         "yaxis": "y"
        },
        {
         "customdata": [
          [
           295408
          ]
         ],
         "hovertemplate": "Company Name=BUPA ARABIA<br>Price=%{x}<br>Turnover=%{y}<br>Volume=%{customdata[0]}<extra></extra>",
         "legendgroup": "BUPA ARABIA",
         "marker": {
          "color": "#19d3f3",
          "size": [
           295408
          ],
          "sizemode": "area",
          "sizeref": 560888.798125,
          "symbol": "circle"
         },
         "mode": "markers",
         "name": "BUPA ARABIA",
         "orientation": "v",
         "showlegend": true,
         "type": "scatter",
         "x": [
          189.6
         ],
         "xaxis": "x",
         "y": [
          55868155
         ],
         "yaxis": "y"
        },
        {
         "customdata": [
          [
           84040
          ]
         ],
         "hovertemplate": "Company Name=ALRAJHI TAKAFUL<br>Price=%{x}<br>Turnover=%{y}<br>Volume=%{customdata[0]}<extra></extra>",
         "legendgroup": "ALRAJHI TAKAFUL",
         "marker": {
          "color": "#FF6692",
          "size": [
           84040
          ],
          "sizemode": "area",
          "sizeref": 560888.798125,
          "symbol": "circle"
         },
         "mode": "markers",
         "name": "ALRAJHI TAKAFUL",
         "orientation": "v",
         "showlegend": true,
         "type": "scatter",
         "x": [
          170
         ],
         "xaxis": "x",
         "y": [
          14292491
         ],
         "yaxis": "y"
        },
        {
         "customdata": [
          [
           262232
          ]
         ],
         "hovertemplate": "Company Name=CHUBB<br>Price=%{x}<br>Turnover=%{y}<br>Volume=%{customdata[0]}<extra></extra>",
         "legendgroup": "CHUBB",
         "marker": {
          "color": "#B6E880",
          "size": [
           262232
          ],
          "sizemode": "area",
          "sizeref": 560888.798125,
          "symbol": "circle"
         },
         "mode": "markers",
         "name": "CHUBB",
         "orientation": "v",
         "showlegend": true,
         "type": "scatter",
         "x": [
          49.6
         ],
         "xaxis": "x",
         "y": [
          13011224
         ],
         "yaxis": "y"
        },
        {
         "customdata": [
          [
           82020
          ]
         ],
         "hovertemplate": "Company Name=GIG<br>Price=%{x}<br>Turnover=%{y}<br>Volume=%{customdata[0]}<extra></extra>",
         "legendgroup": "GIG",
         "marker": {
          "color": "#FF97FF",
          "size": [
           82020
          ],
          "sizemode": "area",
          "sizeref": 560888.798125,
          "symbol": "circle"
         },
         "mode": "markers",
         "name": "GIG",
         "orientation": "v",
         "showlegend": true,
         "type": "scatter",
         "x": [
          29.45
         ],
         "xaxis": "x",
         "y": [
          2431741
         ],
         "yaxis": "y"
        },
        {
         "customdata": [
          [
           167754
          ]
         ],
         "hovertemplate": "Company Name=GULF GENERAL<br>Price=%{x}<br>Turnover=%{y}<br>Volume=%{customdata[0]}<extra></extra>",
         "legendgroup": "GULF GENERAL",
         "marker": {
          "color": "#FECB52",
          "size": [
           167754
          ],
          "sizemode": "area",
          "sizeref": 560888.798125,
          "symbol": "circle"
         },
         "mode": "markers",
         "name": "GULF GENERAL",
         "orientation": "v",
         "showlegend": true,
         "type": "scatter",
         "x": [
          10.66
         ],
         "xaxis": "x",
         "y": [
          1784117
         ],
         "yaxis": "y"
        },
        {
         "customdata": [
          [
           26853
          ]
         ],
         "hovertemplate": "Company Name=BURUJ<br>Price=%{x}<br>Turnover=%{y}<br>Volume=%{customdata[0]}<extra></extra>",
         "legendgroup": "BURUJ",
         "marker": {
          "color": "#636efa",
          "size": [
           26853
          ],
          "sizemode": "area",
          "sizeref": 560888.798125,
          "symbol": "circle"
         },
         "mode": "markers",
         "name": "BURUJ",
         "orientation": "v",
         "showlegend": true,
         "type": "scatter",
         "x": [
          18.66
         ],
         "xaxis": "x",
         "y": [
          498564
         ],
         "yaxis": "y"
        },
        {
         "customdata": [
          [
           109192
          ]
         ],
         "hovertemplate": "Company Name=LIVA<br>Price=%{x}<br>Turnover=%{y}<br>Volume=%{customdata[0]}<extra></extra>",
         "legendgroup": "LIVA",
         "marker": {
          "color": "#EF553B",
          "size": [
           109192
          ],
          "sizemode": "area",
          "sizeref": 560888.798125,
          "symbol": "circle"
         },
         "mode": "markers",
         "name": "LIVA",
         "orientation": "v",
         "showlegend": true,
         "type": "scatter",
         "x": [
          17.4
         ],
         "xaxis": "x",
         "y": [
          1884233
         ],
         "yaxis": "y"
        },
        {
         "customdata": [
          [
           1026255
          ]
         ],
         "hovertemplate": "Company Name=WATANIYA<br>Price=%{x}<br>Turnover=%{y}<br>Volume=%{customdata[0]}<extra></extra>",
         "legendgroup": "WATANIYA",
         "marker": {
          "color": "#00cc96",
          "size": [
           1026255
          ],
          "sizemode": "area",
          "sizeref": 560888.798125,
          "symbol": "circle"
         },
         "mode": "markers",
         "name": "WATANIYA",
         "orientation": "v",
         "showlegend": true,
         "type": "scatter",
         "x": [
          23.7
         ],
         "xaxis": "x",
         "y": [
          24032161
         ],
         "yaxis": "y"
        },
        {
         "customdata": [
          [
           252442
          ]
         ],
         "hovertemplate": "Company Name=AMANA INSURANCE<br>Price=%{x}<br>Turnover=%{y}<br>Volume=%{customdata[0]}<extra></extra>",
         "legendgroup": "AMANA INSURANCE",
         "marker": {
          "color": "#ab63fa",
          "size": [
           252442
          ],
          "sizemode": "area",
          "sizeref": 560888.798125,
          "symbol": "circle"
         },
         "mode": "markers",
         "name": "AMANA INSURANCE",
         "orientation": "v",
         "showlegend": true,
         "type": "scatter",
         "x": [
          10.72
         ],
         "xaxis": "x",
         "y": [
          2703095
         ],
         "yaxis": "y"
        },
        {
         "customdata": [
          [
           366577
          ]
         ],
         "hovertemplate": "Company Name=ENAYA<br>Price=%{x}<br>Turnover=%{y}<br>Volume=%{customdata[0]}<extra></extra>",
         "legendgroup": "ENAYA",
         "marker": {
          "color": "#FFA15A",
          "size": [
           366577
          ],
          "sizemode": "area",
          "sizeref": 560888.798125,
          "symbol": "circle"
         },
         "mode": "markers",
         "name": "ENAYA",
         "orientation": "v",
         "showlegend": true,
         "type": "scatter",
         "x": [
          14.2
         ],
         "xaxis": "x",
         "y": [
          5162217
         ],
         "yaxis": "y"
        },
        {
         "customdata": [
          [
           2890855
          ]
         ],
         "hovertemplate": "Company Name=STC<br>Price=%{x}<br>Turnover=%{y}<br>Volume=%{customdata[0]}<extra></extra>",
         "legendgroup": "STC",
         "marker": {
          "color": "#19d3f3",
          "size": [
           2890855
          ],
          "sizemode": "area",
          "sizeref": 560888.798125,
          "symbol": "circle"
         },
         "mode": "markers",
         "name": "STC",
         "orientation": "v",
         "showlegend": true,
         "type": "scatter",
         "x": [
          42.15
         ],
         "xaxis": "x",
         "y": [
          121820146
         ],
         "yaxis": "y"
        },
        {
         "customdata": [
          [
           549092
          ]
         ],
         "hovertemplate": "Company Name=ETIHAD ETISALAT<br>Price=%{x}<br>Turnover=%{y}<br>Volume=%{customdata[0]}<extra></extra>",
         "legendgroup": "ETIHAD ETISALAT",
         "marker": {
          "color": "#FF6692",
          "size": [
           549092
          ],
          "sizemode": "area",
          "sizeref": 560888.798125,
          "symbol": "circle"
         },
         "mode": "markers",
         "name": "ETIHAD ETISALAT",
         "orientation": "v",
         "showlegend": true,
         "type": "scatter",
         "x": [
          52.1
         ],
         "xaxis": "x",
         "y": [
          28550378
         ],
         "yaxis": "y"
        },
        {
         "customdata": [
          [
           2334137
          ]
         ],
         "hovertemplate": "Company Name=ZAIN KSA<br>Price=%{x}<br>Turnover=%{y}<br>Volume=%{customdata[0]}<extra></extra>",
         "legendgroup": "ZAIN KSA",
         "marker": {
          "color": "#B6E880",
          "size": [
           2334137
          ],
          "sizemode": "area",
          "sizeref": 560888.798125,
          "symbol": "circle"
         },
         "mode": "markers",
         "name": "ZAIN KSA",
         "orientation": "v",
         "showlegend": true,
         "type": "scatter",
         "x": [
          10.58
         ],
         "xaxis": "x",
         "y": [
          24601798
         ],
         "yaxis": "y"
        },
        {
         "customdata": [
          [
           560569
          ]
         ],
         "hovertemplate": "Company Name=ATHEEB TELECOM<br>Price=%{x}<br>Turnover=%{y}<br>Volume=%{customdata[0]}<extra></extra>",
         "legendgroup": "ATHEEB TELECOM",
         "marker": {
          "color": "#FF97FF",
          "size": [
           560569
          ],
          "sizemode": "area",
          "sizeref": 560888.798125,
          "symbol": "circle"
         },
         "mode": "markers",
         "name": "ATHEEB TELECOM",
         "orientation": "v",
         "showlegend": true,
         "type": "scatter",
         "x": [
          115
         ],
         "xaxis": "x",
         "y": [
          64820308
         ],
         "yaxis": "y"
        },
        {
         "customdata": [
          [
           114480
          ]
         ],
         "hovertemplate": "Company Name=GASCO<br>Price=%{x}<br>Turnover=%{y}<br>Volume=%{customdata[0]}<extra></extra>",
         "legendgroup": "GASCO",
         "marker": {
          "color": "#FECB52",
          "size": [
           114480
          ],
          "sizemode": "area",
          "sizeref": 560888.798125,
          "symbol": "circle"
         },
         "mode": "markers",
         "name": "GASCO",
         "orientation": "v",
         "showlegend": true,
         "type": "scatter",
         "x": [
          105.8
         ],
         "xaxis": "x",
         "y": [
          12153881
         ],
         "yaxis": "y"
        },
        {
         "customdata": [
          [
           2130239
          ]
         ],
         "hovertemplate": "Company Name=SAUDI ELECTRICITY<br>Price=%{x}<br>Turnover=%{y}<br>Volume=%{customdata[0]}<extra></extra>",
         "legendgroup": "SAUDI ELECTRICITY",
         "marker": {
          "color": "#636efa",
          "size": [
           2130239
          ],
          "sizemode": "area",
          "sizeref": 560888.798125,
          "symbol": "circle"
         },
         "mode": "markers",
         "name": "SAUDI ELECTRICITY",
         "orientation": "v",
         "showlegend": true,
         "type": "scatter",
         "x": [
          17.04
         ],
         "xaxis": "x",
         "y": [
          36498115
         ],
         "yaxis": "y"
        },
        {
         "customdata": [
          [
           7896659
          ]
         ],
         "hovertemplate": "Company Name=MIAHONA<br>Price=%{x}<br>Turnover=%{y}<br>Volume=%{customdata[0]}<extra></extra>",
         "legendgroup": "MIAHONA",
         "marker": {
          "color": "#EF553B",
          "size": [
           7896659
          ],
          "sizemode": "area",
          "sizeref": 560888.798125,
          "symbol": "circle"
         },
         "mode": "markers",
         "name": "MIAHONA",
         "orientation": "v",
         "showlegend": true,
         "type": "scatter",
         "x": [
          29.25
         ],
         "xaxis": "x",
         "y": [
          227742076
         ],
         "yaxis": "y"
        },
        {
         "customdata": [
          [
           148621
          ]
         ],
         "hovertemplate": "Company Name=AWPT<br>Price=%{x}<br>Turnover=%{y}<br>Volume=%{customdata[0]}<extra></extra>",
         "legendgroup": "AWPT",
         "marker": {
          "color": "#00cc96",
          "size": [
           148621
          ],
          "sizemode": "area",
          "sizeref": 560888.798125,
          "symbol": "circle"
         },
         "mode": "markers",
         "name": "AWPT",
         "orientation": "v",
         "showlegend": true,
         "type": "scatter",
         "x": [
          164.6
         ],
         "xaxis": "x",
         "y": [
          24377861
         ],
         "yaxis": "y"
        },
        {
         "customdata": [
          [
           140397
          ]
         ],
         "hovertemplate": "Company Name=ACWA POWER<br>Price=%{x}<br>Turnover=%{y}<br>Volume=%{customdata[0]}<extra></extra>",
         "legendgroup": "ACWA POWER",
         "marker": {
          "color": "#ab63fa",
          "size": [
           140397
          ],
          "sizemode": "area",
          "sizeref": 560888.798125,
          "symbol": "circle"
         },
         "mode": "markers",
         "name": "ACWA POWER",
         "orientation": "v",
         "showlegend": true,
         "type": "scatter",
         "x": [
          441.2
         ],
         "xaxis": "x",
         "y": [
          62737049
         ],
         "yaxis": "y"
        },
        {
         "customdata": [
          [
           254275
          ]
         ],
         "hovertemplate": "Company Name=MARAFIQ<br>Price=%{x}<br>Turnover=%{y}<br>Volume=%{customdata[0]}<extra></extra>",
         "legendgroup": "MARAFIQ",
         "marker": {
          "color": "#FFA15A",
          "size": [
           254275
          ],
          "sizemode": "area",
          "sizeref": 560888.798125,
          "symbol": "circle"
         },
         "mode": "markers",
         "name": "MARAFIQ",
         "orientation": "v",
         "showlegend": true,
         "type": "scatter",
         "x": [
          57.5
         ],
         "xaxis": "x",
         "y": [
          14737505
         ],
         "yaxis": "y"
        },
        {
         "customdata": [
          [
           107642
          ]
         ],
         "hovertemplate": "Company Name=RIYAD REIT<br>Price=%{x}<br>Turnover=%{y}<br>Volume=%{customdata[0]}<extra></extra>",
         "legendgroup": "RIYAD REIT",
         "marker": {
          "color": "#19d3f3",
          "size": [
           107642
          ],
          "sizemode": "area",
          "sizeref": 560888.798125,
          "symbol": "circle"
         },
         "mode": "markers",
         "name": "RIYAD REIT",
         "orientation": "v",
         "showlegend": true,
         "type": "scatter",
         "x": [
          6.58
         ],
         "xaxis": "x",
         "y": [
          709094
         ],
         "yaxis": "y"
        },
        {
         "customdata": [
          [
           28788
          ]
         ],
         "hovertemplate": "Company Name=ALJAZIRA REIT<br>Price=%{x}<br>Turnover=%{y}<br>Volume=%{customdata[0]}<extra></extra>",
         "legendgroup": "ALJAZIRA REIT",
         "marker": {
          "color": "#FF6692",
          "size": [
           28788
          ],
          "sizemode": "area",
          "sizeref": 560888.798125,
          "symbol": "circle"
         },
         "mode": "markers",
         "name": "ALJAZIRA REIT",
         "orientation": "v",
         "showlegend": true,
         "type": "scatter",
         "x": [
          15.98
         ],
         "xaxis": "x",
         "y": [
          458536
         ],
         "yaxis": "y"
        },
        {
         "customdata": [
          [
           23289
          ]
         ],
         "hovertemplate": "Company Name=JADWA REIT ALHARAMAIN<br>Price=%{x}<br>Turnover=%{y}<br>Volume=%{customdata[0]}<extra></extra>",
         "legendgroup": "JADWA REIT ALHARAMAIN",
         "marker": {
          "color": "#B6E880",
          "size": [
           23289
          ],
          "sizemode": "area",
          "sizeref": 560888.798125,
          "symbol": "circle"
         },
         "mode": "markers",
         "name": "JADWA REIT ALHARAMAIN",
         "orientation": "v",
         "showlegend": true,
         "type": "scatter",
         "x": [
          5.97
         ],
         "xaxis": "x",
         "y": [
          138950
         ],
         "yaxis": "y"
        },
        {
         "customdata": [
          [
           17461
          ]
         ],
         "hovertemplate": "Company Name=TALEEM REIT<br>Price=%{x}<br>Turnover=%{y}<br>Volume=%{customdata[0]}<extra></extra>",
         "legendgroup": "TALEEM REIT",
         "marker": {
          "color": "#FF97FF",
          "size": [
           17461
          ],
          "sizemode": "area",
          "sizeref": 560888.798125,
          "symbol": "circle"
         },
         "mode": "markers",
         "name": "TALEEM REIT",
         "orientation": "v",
         "showlegend": true,
         "type": "scatter",
         "x": [
          10.94
         ],
         "xaxis": "x",
         "y": [
          190393
         ],
         "yaxis": "y"
        },
        {
         "customdata": [
          [
           27701
          ]
         ],
         "hovertemplate": "Company Name=AL MAATHER REIT<br>Price=%{x}<br>Turnover=%{y}<br>Volume=%{customdata[0]}<extra></extra>",
         "legendgroup": "AL MAATHER REIT",
         "marker": {
          "color": "#FECB52",
          "size": [
           27701
          ],
          "sizemode": "area",
          "sizeref": 560888.798125,
          "symbol": "circle"
         },
         "mode": "markers",
         "name": "AL MAATHER REIT",
         "orientation": "v",
         "showlegend": true,
         "type": "scatter",
         "x": [
          9.39
         ],
         "xaxis": "x",
         "y": [
          259247
         ],
         "yaxis": "y"
        },
        {
         "customdata": [
          [
           30190
          ]
         ],
         "hovertemplate": "Company Name=MUSHARAKA REIT<br>Price=%{x}<br>Turnover=%{y}<br>Volume=%{customdata[0]}<extra></extra>",
         "legendgroup": "MUSHARAKA REIT",
         "marker": {
          "color": "#636efa",
          "size": [
           30190
          ],
          "sizemode": "area",
          "sizeref": 560888.798125,
          "symbol": "circle"
         },
         "mode": "markers",
         "name": "MUSHARAKA REIT",
         "orientation": "v",
         "showlegend": true,
         "type": "scatter",
         "x": [
          4.97
         ],
         "xaxis": "x",
         "y": [
          150412
         ],
         "yaxis": "y"
        },
        {
         "customdata": [
          [
           54862
          ]
         ],
         "hovertemplate": "Company Name=MULKIA REIT<br>Price=%{x}<br>Turnover=%{y}<br>Volume=%{customdata[0]}<extra></extra>",
         "legendgroup": "MULKIA REIT",
         "marker": {
          "color": "#EF553B",
          "size": [
           54862
          ],
          "sizemode": "area",
          "sizeref": 560888.798125,
          "symbol": "circle"
         },
         "mode": "markers",
         "name": "MULKIA REIT",
         "orientation": "v",
         "showlegend": true,
         "type": "scatter",
         "x": [
          5.53
         ],
         "xaxis": "x",
         "y": [
          302460
         ],
         "yaxis": "y"
        },
        {
         "customdata": [
          [
           110878
          ]
         ],
         "hovertemplate": "Company Name=SICO SAUDI REIT<br>Price=%{x}<br>Turnover=%{y}<br>Volume=%{customdata[0]}<extra></extra>",
         "legendgroup": "SICO SAUDI REIT",
         "marker": {
          "color": "#00cc96",
          "size": [
           110878
          ],
          "sizemode": "area",
          "sizeref": 560888.798125,
          "symbol": "circle"
         },
         "mode": "markers",
         "name": "SICO SAUDI REIT",
         "orientation": "v",
         "showlegend": true,
         "type": "scatter",
         "x": [
          4.12
         ],
         "xaxis": "x",
         "y": [
          456112
         ],
         "yaxis": "y"
        },
        {
         "customdata": [
          [
           31486
          ]
         ],
         "hovertemplate": "Company Name=ALAHLI REIT 1<br>Price=%{x}<br>Turnover=%{y}<br>Volume=%{customdata[0]}<extra></extra>",
         "legendgroup": "ALAHLI REIT 1",
         "marker": {
          "color": "#ab63fa",
          "size": [
           31486
          ],
          "sizemode": "area",
          "sizeref": 560888.798125,
          "symbol": "circle"
         },
         "mode": "markers",
         "name": "ALAHLI REIT 1",
         "orientation": "v",
         "showlegend": true,
         "type": "scatter",
         "x": [
          7.24
         ],
         "xaxis": "x",
         "y": [
          227973
         ],
         "yaxis": "y"
        },
        {
         "customdata": [
          [
           101966
          ]
         ],
         "hovertemplate": "Company Name=SEDCO CAPITAL REIT<br>Price=%{x}<br>Turnover=%{y}<br>Volume=%{customdata[0]}<extra></extra>",
         "legendgroup": "SEDCO CAPITAL REIT",
         "marker": {
          "color": "#FFA15A",
          "size": [
           101966
          ],
          "sizemode": "area",
          "sizeref": 560888.798125,
          "symbol": "circle"
         },
         "mode": "markers",
         "name": "SEDCO CAPITAL REIT",
         "orientation": "v",
         "showlegend": true,
         "type": "scatter",
         "x": [
          8.3
         ],
         "xaxis": "x",
         "y": [
          840927
         ],
         "yaxis": "y"
        },
        {
         "customdata": [
          [
           96256
          ]
         ],
         "hovertemplate": "Company Name=DERAYAH REIT<br>Price=%{x}<br>Turnover=%{y}<br>Volume=%{customdata[0]}<extra></extra>",
         "legendgroup": "DERAYAH REIT",
         "marker": {
          "color": "#19d3f3",
          "size": [
           96256
          ],
          "sizemode": "area",
          "sizeref": 560888.798125,
          "symbol": "circle"
         },
         "mode": "markers",
         "name": "DERAYAH REIT",
         "orientation": "v",
         "showlegend": true,
         "type": "scatter",
         "x": [
          6.2
         ],
         "xaxis": "x",
         "y": [
          595387
         ],
         "yaxis": "y"
        },
        {
         "customdata": [
          [
           308404
          ]
         ],
         "hovertemplate": "Company Name=Al RAJHI REIT<br>Price=%{x}<br>Turnover=%{y}<br>Volume=%{customdata[0]}<extra></extra>",
         "legendgroup": "Al RAJHI REIT",
         "marker": {
          "color": "#FF6692",
          "size": [
           308404
          ],
          "sizemode": "area",
          "sizeref": 560888.798125,
          "symbol": "circle"
         },
         "mode": "markers",
         "name": "Al RAJHI REIT",
         "orientation": "v",
         "showlegend": true,
         "type": "scatter",
         "x": [
          8.54
         ],
         "xaxis": "x",
         "y": [
          2621907
         ],
         "yaxis": "y"
        },
        {
         "customdata": [
          [
           214262
          ]
         ],
         "hovertemplate": "Company Name=ALINMA RETAIL REIT<br>Price=%{x}<br>Turnover=%{y}<br>Volume=%{customdata[0]}<extra></extra>",
         "legendgroup": "ALINMA RETAIL REIT",
         "marker": {
          "color": "#B6E880",
          "size": [
           214262
          ],
          "sizemode": "area",
          "sizeref": 560888.798125,
          "symbol": "circle"
         },
         "mode": "markers",
         "name": "ALINMA RETAIL REIT",
         "orientation": "v",
         "showlegend": true,
         "type": "scatter",
         "x": [
          4.88
         ],
         "xaxis": "x",
         "y": [
          1043422
         ],
         "yaxis": "y"
        },
        {
         "customdata": [
          [
           268737
          ]
         ],
         "hovertemplate": "Company Name=JADWA REIT SAUDI<br>Price=%{x}<br>Turnover=%{y}<br>Volume=%{customdata[0]}<extra></extra>",
         "legendgroup": "JADWA REIT SAUDI",
         "marker": {
          "color": "#FF97FF",
          "size": [
           268737
          ],
          "sizemode": "area",
          "sizeref": 560888.798125,
          "symbol": "circle"
         },
         "mode": "markers",
         "name": "JADWA REIT SAUDI",
         "orientation": "v",
         "showlegend": true,
         "type": "scatter",
         "x": [
          11.24
         ],
         "xaxis": "x",
         "y": [
          3001069
         ],
         "yaxis": "y"
        },
        {
         "customdata": [
          [
           72256
          ]
         ],
         "hovertemplate": "Company Name=MEFIC REIT<br>Price=%{x}<br>Turnover=%{y}<br>Volume=%{customdata[0]}<extra></extra>",
         "legendgroup": "MEFIC REIT",
         "marker": {
          "color": "#FECB52",
          "size": [
           72256
          ],
          "sizemode": "area",
          "sizeref": 560888.798125,
          "symbol": "circle"
         },
         "mode": "markers",
         "name": "MEFIC REIT",
         "orientation": "v",
         "showlegend": true,
         "type": "scatter",
         "x": [
          4.23
         ],
         "xaxis": "x",
         "y": [
          304348
         ],
         "yaxis": "y"
        },
        {
         "customdata": [
          [
           73656
          ]
         ],
         "hovertemplate": "Company Name=BONYAN REIT<br>Price=%{x}<br>Turnover=%{y}<br>Volume=%{customdata[0]}<extra></extra>",
         "legendgroup": "BONYAN REIT",
         "marker": {
          "color": "#636efa",
          "size": [
           73656
          ],
          "sizemode": "area",
          "sizeref": 560888.798125,
          "symbol": "circle"
         },
         "mode": "markers",
         "name": "BONYAN REIT",
         "orientation": "v",
         "showlegend": true,
         "type": "scatter",
         "x": [
          9.36
         ],
         "xaxis": "x",
         "y": [
          685387
         ],
         "yaxis": "y"
        },
        {
         "customdata": [
          [
           724144
          ]
         ],
         "hovertemplate": "Company Name=ALKHABEER REIT<br>Price=%{x}<br>Turnover=%{y}<br>Volume=%{customdata[0]}<extra></extra>",
         "legendgroup": "ALKHABEER REIT",
         "marker": {
          "color": "#EF553B",
          "size": [
           724144
          ],
          "sizemode": "area",
          "sizeref": 560888.798125,
          "symbol": "circle"
         },
         "mode": "markers",
         "name": "ALKHABEER REIT",
         "orientation": "v",
         "showlegend": true,
         "type": "scatter",
         "x": [
          5.97
         ],
         "xaxis": "x",
         "y": [
          4322603
         ],
         "yaxis": "y"
        },
        {
         "customdata": [
          [
           46037
          ]
         ],
         "hovertemplate": "Company Name=ALINMA HOSPITALITY REIT<br>Price=%{x}<br>Turnover=%{y}<br>Volume=%{customdata[0]}<extra></extra>",
         "legendgroup": "ALINMA HOSPITALITY REIT",
         "marker": {
          "color": "#00cc96",
          "size": [
           46037
          ],
          "sizemode": "area",
          "sizeref": 560888.798125,
          "symbol": "circle"
         },
         "mode": "markers",
         "name": "ALINMA HOSPITALITY REIT",
         "orientation": "v",
         "showlegend": true,
         "type": "scatter",
         "x": [
          8.53
         ],
         "xaxis": "x",
         "y": [
          391085
         ],
         "yaxis": "y"
        },
        {
         "customdata": [
          [
           54136
          ]
         ],
         "hovertemplate": "Company Name=ALISTITHMAR REIT<br>Price=%{x}<br>Turnover=%{y}<br>Volume=%{customdata[0]}<extra></extra>",
         "legendgroup": "ALISTITHMAR REIT",
         "marker": {
          "color": "#ab63fa",
          "size": [
           54136
          ],
          "sizemode": "area",
          "sizeref": 560888.798125,
          "symbol": "circle"
         },
         "mode": "markers",
         "name": "ALISTITHMAR REIT",
         "orientation": "v",
         "showlegend": true,
         "type": "scatter",
         "x": [
          10.04
         ],
         "xaxis": "x",
         "y": [
          537942
         ],
         "yaxis": "y"
        },
        {
         "customdata": [
          [
           441357
          ]
         ],
         "hovertemplate": "Company Name=ALAKARIA<br>Price=%{x}<br>Turnover=%{y}<br>Volume=%{customdata[0]}<extra></extra>",
         "legendgroup": "ALAKARIA",
         "marker": {
          "color": "#FFA15A",
          "size": [
           441357
          ],
          "sizemode": "area",
          "sizeref": 560888.798125,
          "symbol": "circle"
         },
         "mode": "markers",
         "name": "ALAKARIA",
         "orientation": "v",
         "showlegend": true,
         "type": "scatter",
         "x": [
          24.84
         ],
         "xaxis": "x",
         "y": [
          11063714
         ],
         "yaxis": "y"
        },
        {
         "customdata": [
          [
           114838
          ]
         ],
         "hovertemplate": "Company Name=TAIBA<br>Price=%{x}<br>Turnover=%{y}<br>Volume=%{customdata[0]}<extra></extra>",
         "legendgroup": "TAIBA",
         "marker": {
          "color": "#19d3f3",
          "size": [
           114838
          ],
          "sizemode": "area",
          "sizeref": 560888.798125,
          "symbol": "circle"
         },
         "mode": "markers",
         "name": "TAIBA",
         "orientation": "v",
         "showlegend": true,
         "type": "scatter",
         "x": [
          43
         ],
         "xaxis": "x",
         "y": [
          4938962
         ],
         "yaxis": "y"
        },
        {
         "customdata": [
          [
           90522
          ]
         ],
         "hovertemplate": "Company Name=MCDC<br>Price=%{x}<br>Turnover=%{y}<br>Volume=%{customdata[0]}<extra></extra>",
         "legendgroup": "MCDC",
         "marker": {
          "color": "#FF6692",
          "size": [
           90522
          ],
          "sizemode": "area",
          "sizeref": 560888.798125,
          "symbol": "circle"
         },
         "mode": "markers",
         "name": "MCDC",
         "orientation": "v",
         "showlegend": true,
         "type": "scatter",
         "x": [
          115.2
         ],
         "xaxis": "x",
         "y": [
          10353544
         ],
         "yaxis": "y"
        },
        {
         "customdata": [
          [
           488733
          ]
         ],
         "hovertemplate": "Company Name=ARDCO<br>Price=%{x}<br>Turnover=%{y}<br>Volume=%{customdata[0]}<extra></extra>",
         "legendgroup": "ARDCO",
         "marker": {
          "color": "#B6E880",
          "size": [
           488733
          ],
          "sizemode": "area",
          "sizeref": 560888.798125,
          "symbol": "circle"
         },
         "mode": "markers",
         "name": "ARDCO",
         "orientation": "v",
         "showlegend": true,
         "type": "scatter",
         "x": [
          27.95
         ],
         "xaxis": "x",
         "y": [
          13735911
         ],
         "yaxis": "y"
        },
        {
         "customdata": [
          [
           573576
          ]
         ],
         "hovertemplate": "Company Name=EMAAR EC<br>Price=%{x}<br>Turnover=%{y}<br>Volume=%{customdata[0]}<extra></extra>",
         "legendgroup": "EMAAR EC",
         "marker": {
          "color": "#FF97FF",
          "size": [
           573576
          ],
          "sizemode": "area",
          "sizeref": 560888.798125,
          "symbol": "circle"
         },
         "mode": "markers",
         "name": "EMAAR EC",
         "orientation": "v",
         "showlegend": true,
         "type": "scatter",
         "x": [
          8.41
         ],
         "xaxis": "x",
         "y": [
          4850482
         ],
         "yaxis": "y"
        },
        {
         "customdata": [
          [
           987542
          ]
         ],
         "hovertemplate": "Company Name=JABAL OMAR<br>Price=%{x}<br>Turnover=%{y}<br>Volume=%{customdata[0]}<extra></extra>",
         "legendgroup": "JABAL OMAR",
         "marker": {
          "color": "#FECB52",
          "size": [
           987542
          ],
          "sizemode": "area",
          "sizeref": 560888.798125,
          "symbol": "circle"
         },
         "mode": "markers",
         "name": "JABAL OMAR",
         "orientation": "v",
         "showlegend": true,
         "type": "scatter",
         "x": [
          21.5
         ],
         "xaxis": "x",
         "y": [
          21299457
         ],
         "yaxis": "y"
        },
        {
         "customdata": [
          [
           1723966
          ]
         ],
         "hovertemplate": "Company Name=DAR ALARKAN<br>Price=%{x}<br>Turnover=%{y}<br>Volume=%{customdata[0]}<extra></extra>",
         "legendgroup": "DAR ALARKAN",
         "marker": {
          "color": "#636efa",
          "size": [
           1723966
          ],
          "sizemode": "area",
          "sizeref": 560888.798125,
          "symbol": "circle"
         },
         "mode": "markers",
         "name": "DAR ALARKAN",
         "orientation": "v",
         "showlegend": true,
         "type": "scatter",
         "x": [
          16.9
         ],
         "xaxis": "x",
         "y": [
          29216033
         ],
         "yaxis": "y"
        },
        {
         "customdata": [
          [
           145054
          ]
         ],
         "hovertemplate": "Company Name=KEC<br>Price=%{x}<br>Turnover=%{y}<br>Volume=%{customdata[0]}<extra></extra>",
         "legendgroup": "KEC",
         "marker": {
          "color": "#EF553B",
          "size": [
           145054
          ],
          "sizemode": "area",
          "sizeref": 560888.798125,
          "symbol": "circle"
         },
         "mode": "markers",
         "name": "KEC",
         "orientation": "v",
         "showlegend": true,
         "type": "scatter",
         "x": [
          14.12
         ],
         "xaxis": "x",
         "y": [
          2040250
         ],
         "yaxis": "y"
        },
        {
         "customdata": [
          [
           49386
          ]
         ],
         "hovertemplate": "Company Name=ALANDALUS<br>Price=%{x}<br>Turnover=%{y}<br>Volume=%{customdata[0]}<extra></extra>",
         "legendgroup": "ALANDALUS",
         "marker": {
          "color": "#00cc96",
          "size": [
           49386
          ],
          "sizemode": "area",
          "sizeref": 560888.798125,
          "symbol": "circle"
         },
         "mode": "markers",
         "name": "ALANDALUS",
         "orientation": "v",
         "showlegend": true,
         "type": "scatter",
         "x": [
          23.7
         ],
         "xaxis": "x",
         "y": [
          1174583
         ],
         "yaxis": "y"
        },
        {
         "customdata": [
          [
           894334
          ]
         ],
         "hovertemplate": "Company Name=CENOMI CENTERS<br>Price=%{x}<br>Turnover=%{y}<br>Volume=%{customdata[0]}<extra></extra>",
         "legendgroup": "CENOMI CENTERS",
         "marker": {
          "color": "#ab63fa",
          "size": [
           894334
          ],
          "sizemode": "area",
          "sizeref": 560888.798125,
          "symbol": "circle"
         },
         "mode": "markers",
         "name": "CENOMI CENTERS",
         "orientation": "v",
         "showlegend": true,
         "type": "scatter",
         "x": [
          21.24
         ],
         "xaxis": "x",
         "y": [
          18858379
         ],
         "yaxis": "y"
        },
        {
         "customdata": [
          [
           701653
          ]
         ],
         "hovertemplate": "Company Name=RETAL<br>Price=%{x}<br>Turnover=%{y}<br>Volume=%{customdata[0]}<extra></extra>",
         "legendgroup": "RETAL",
         "marker": {
          "color": "#FFA15A",
          "size": [
           701653
          ],
          "sizemode": "area",
          "sizeref": 560888.798125,
          "symbol": "circle"
         },
         "mode": "markers",
         "name": "RETAL",
         "orientation": "v",
         "showlegend": true,
         "type": "scatter",
         "x": [
          15.52
         ],
         "xaxis": "x",
         "y": [
          10868813
         ],
         "yaxis": "y"
        },
        {
         "customdata": [
          [
           180199
          ]
         ],
         "hovertemplate": "Company Name=SUMOU<br>Price=%{x}<br>Turnover=%{y}<br>Volume=%{customdata[0]}<extra></extra>",
         "legendgroup": "SUMOU",
         "marker": {
          "color": "#19d3f3",
          "size": [
           180199
          ],
          "sizemode": "area",
          "sizeref": 560888.798125,
          "symbol": "circle"
         },
         "mode": "markers",
         "name": "SUMOU",
         "orientation": "v",
         "showlegend": true,
         "type": "scatter",
         "x": [
          39.65
         ],
         "xaxis": "x",
         "y": [
          7170626
         ],
         "yaxis": "y"
        },
        {
         "customdata": [
          [
           932429
          ]
         ],
         "hovertemplate": "Company Name=RED SEA<br>Price=%{x}<br>Turnover=%{y}<br>Volume=%{customdata[0]}<extra></extra>",
         "legendgroup": "RED SEA",
         "marker": {
          "color": "#FF6692",
          "size": [
           932429
          ],
          "sizemode": "area",
          "sizeref": 560888.798125,
          "symbol": "circle"
         },
         "mode": "markers",
         "name": "RED SEA",
         "orientation": "v",
         "showlegend": true,
         "type": "scatter",
         "x": [
          77
         ],
         "xaxis": "x",
         "y": [
          72231135
         ],
         "yaxis": "y"
        },
        {
         "customdata": [
          [
           118339
          ]
         ],
         "hovertemplate": "Company Name=MIS<br>Price=%{x}<br>Turnover=%{y}<br>Volume=%{customdata[0]}<extra></extra>",
         "legendgroup": "MIS",
         "marker": {
          "color": "#B6E880",
          "size": [
           118339
          ],
          "sizemode": "area",
          "sizeref": 560888.798125,
          "symbol": "circle"
         },
         "mode": "markers",
         "name": "MIS",
         "orientation": "v",
         "showlegend": true,
         "type": "scatter",
         "x": [
          194.4
         ],
         "xaxis": "x",
         "y": [
          22723918
         ],
         "yaxis": "y"
        },
        {
         "customdata": [
          [
           1079970
          ]
         ],
         "hovertemplate": "Company Name=ARAB SEA<br>Price=%{x}<br>Turnover=%{y}<br>Volume=%{customdata[0]}<extra></extra>",
         "legendgroup": "ARAB SEA",
         "marker": {
          "color": "#FF97FF",
          "size": [
           1079970
          ],
          "sizemode": "area",
          "sizeref": 560888.798125,
          "symbol": "circle"
         },
         "mode": "markers",
         "name": "ARAB SEA",
         "orientation": "v",
         "showlegend": true,
         "type": "scatter",
         "x": [
          7.27
         ],
         "xaxis": "x",
         "y": [
          7827048
         ],
         "yaxis": "y"
        },
        {
         "customdata": [
          [
           108276
          ]
         ],
         "hovertemplate": "Company Name=SOLUTIONS<br>Price=%{x}<br>Turnover=%{y}<br>Volume=%{customdata[0]}<extra></extra>",
         "legendgroup": "SOLUTIONS",
         "marker": {
          "color": "#FECB52",
          "size": [
           108276
          ],
          "sizemode": "area",
          "sizeref": 560888.798125,
          "symbol": "circle"
         },
         "mode": "markers",
         "name": "SOLUTIONS",
         "orientation": "v",
         "showlegend": true,
         "type": "scatter",
         "x": [
          262.6
         ],
         "xaxis": "x",
         "y": [
          28398448
         ],
         "yaxis": "y"
        },
        {
         "customdata": [
          [
           32811
          ]
         ],
         "hovertemplate": "Company Name=ELM<br>Price=%{x}<br>Turnover=%{y}<br>Volume=%{customdata[0]}<extra></extra>",
         "legendgroup": "ELM",
         "marker": {
          "color": "#636efa",
          "size": [
           32811
          ],
          "sizemode": "area",
          "sizeref": 560888.798125,
          "symbol": "circle"
         },
         "mode": "markers",
         "name": "ELM",
         "orientation": "v",
         "showlegend": true,
         "type": "scatter",
         "x": [
          1081.6
         ],
         "xaxis": "x",
         "y": [
          35554932
         ],
         "yaxis": "y"
        },
        {
         "customdata": [
          [
           681338
          ]
         ],
         "hovertemplate": "Company Name=2P<br>Price=%{x}<br>Turnover=%{y}<br>Volume=%{customdata[0]}<extra></extra>",
         "legendgroup": "2P",
         "marker": {
          "color": "#EF553B",
          "size": [
           681338
          ],
          "sizemode": "area",
          "sizeref": 560888.798125,
          "symbol": "circle"
         },
         "mode": "markers",
         "name": "2P",
         "orientation": "v",
         "showlegend": true,
         "type": "scatter",
         "x": [
          14.64
         ],
         "xaxis": "x",
         "y": [
          10036058
         ],
         "yaxis": "y"
        },
        {
         "customdata": [
          [
           226216
          ]
         ],
         "hovertemplate": "Company Name=ALMAJED OUD<br>Price=%{x}<br>Turnover=%{y}<br>Volume=%{customdata[0]}<extra></extra>",
         "legendgroup": "ALMAJED OUD",
         "marker": {
          "color": "#00cc96",
          "size": [
           226216
          ],
          "sizemode": "area",
          "sizeref": 560888.798125,
          "symbol": "circle"
         },
         "mode": "markers",
         "name": "ALMAJED OUD",
         "orientation": "v",
         "showlegend": true,
         "type": "scatter",
         "x": [
          152.6
         ],
         "xaxis": "x",
         "y": [
          34575085
         ],
         "yaxis": "y"
        },
        {
         "customdata": [
          [
           44898
          ]
         ],
         "hovertemplate": "Company Name=ALBILAD MSCI<br>Price=%{x}<br>Turnover=%{y}<br>Volume=%{customdata[0]}<extra></extra>",
         "legendgroup": "ALBILAD MSCI",
         "marker": {
          "color": "#ab63fa",
          "size": [
           44898
          ],
          "sizemode": "area",
          "sizeref": 560888.798125,
          "symbol": "circle"
         },
         "mode": "markers",
         "name": "ALBILAD MSCI",
         "orientation": "v",
         "showlegend": true,
         "type": "scatter",
         "x": [
          12.01
         ],
         "xaxis": "x",
         "y": [
          539794
         ],
         "yaxis": "y"
        },
        {
         "customdata": [
          [
           345
          ]
         ],
         "hovertemplate": "Company Name=ALAWWAL MT30<br>Price=%{x}<br>Turnover=%{y}<br>Volume=%{customdata[0]}<extra></extra>",
         "legendgroup": "ALAWWAL MT30",
         "marker": {
          "color": "#FFA15A",
          "size": [
           345
          ],
          "sizemode": "area",
          "sizeref": 560888.798125,
          "symbol": "circle"
         },
         "mode": "markers",
         "name": "ALAWWAL MT30",
         "orientation": "v",
         "showlegend": true,
         "type": "scatter",
         "x": [
          46.73
         ],
         "xaxis": "x",
         "y": [
          16173
         ],
         "yaxis": "y"
        },
        {
         "customdata": [
          [
           1269
          ]
         ],
         "hovertemplate": "Company Name=ALBILAD SUKUK<br>Price=%{x}<br>Turnover=%{y}<br>Volume=%{customdata[0]}<extra></extra>",
         "legendgroup": "ALBILAD SUKUK",
         "marker": {
          "color": "#19d3f3",
          "size": [
           1269
          ],
          "sizemode": "area",
          "sizeref": 560888.798125,
          "symbol": "circle"
         },
         "mode": "markers",
         "name": "ALBILAD SUKUK",
         "orientation": "v",
         "showlegend": true,
         "type": "scatter",
         "x": [
          8.13
         ],
         "xaxis": "x",
         "y": [
          10319
         ],
         "yaxis": "y"
        },
        {
         "customdata": [
          [
           57597
          ]
         ],
         "hovertemplate": "Company Name=ADITF<br>Price=%{x}<br>Turnover=%{y}<br>Volume=%{customdata[0]}<extra></extra>",
         "legendgroup": "ADITF",
         "marker": {
          "color": "#FF6692",
          "size": [
           57597
          ],
          "sizemode": "area",
          "sizeref": 560888.798125,
          "symbol": "circle"
         },
         "mode": "markers",
         "name": "ADITF",
         "orientation": "v",
         "showlegend": true,
         "type": "scatter",
         "x": [
          8.66
         ],
         "xaxis": "x",
         "y": [
          499017
         ],
         "yaxis": "y"
        },
        {
         "customdata": [
          [
           1205
          ]
         ],
         "hovertemplate": "Company Name=YAQEEN 30<br>Price=%{x}<br>Turnover=%{y}<br>Volume=%{customdata[0]}<extra></extra>",
         "legendgroup": "YAQEEN 30",
         "marker": {
          "color": "#B6E880",
          "size": [
           1205
          ],
          "sizemode": "area",
          "sizeref": 560888.798125,
          "symbol": "circle"
         },
         "mode": "markers",
         "name": "YAQEEN 30",
         "orientation": "v",
         "showlegend": true,
         "type": "scatter",
         "x": [
          51.15
         ],
         "xaxis": "x",
         "y": [
          61827
         ],
         "yaxis": "y"
        },
        {
         "customdata": [
          [
           2064
          ]
         ],
         "hovertemplate": "Company Name=YAQEEN PETROCHEMICAL<br>Price=%{x}<br>Turnover=%{y}<br>Volume=%{customdata[0]}<extra></extra>",
         "legendgroup": "YAQEEN PETROCHEMICAL",
         "marker": {
          "color": "#FF97FF",
          "size": [
           2064
          ],
          "sizemode": "area",
          "sizeref": 560888.798125,
          "symbol": "circle"
         },
         "mode": "markers",
         "name": "YAQEEN PETROCHEMICAL",
         "orientation": "v",
         "showlegend": true,
         "type": "scatter",
         "x": [
          29.03
         ],
         "xaxis": "x",
         "y": [
          59470
         ],
         "yaxis": "y"
        },
        {
         "customdata": [
          [
           1398
          ]
         ],
         "hovertemplate": "Company Name=ALINMA SUKUK<br>Price=%{x}<br>Turnover=%{y}<br>Volume=%{customdata[0]}<extra></extra>",
         "legendgroup": "ALINMA SUKUK",
         "marker": {
          "color": "#FECB52",
          "size": [
           1398
          ],
          "sizemode": "area",
          "sizeref": 560888.798125,
          "symbol": "circle"
         },
         "mode": "markers",
         "name": "ALINMA SUKUK",
         "orientation": "v",
         "showlegend": true,
         "type": "scatter",
         "x": [
          10.64
         ],
         "xaxis": "x",
         "y": [
          14849
         ],
         "yaxis": "y"
        },
        {
         "customdata": [
          [
           74836
          ]
         ],
         "hovertemplate": "Company Name=ALBILAD GOLD<br>Price=%{x}<br>Turnover=%{y}<br>Volume=%{customdata[0]}<extra></extra>",
         "legendgroup": "ALBILAD GOLD",
         "marker": {
          "color": "#636efa",
          "size": [
           74836
          ],
          "sizemode": "area",
          "sizeref": 560888.798125,
          "symbol": "circle"
         },
         "mode": "markers",
         "name": "ALBILAD GOLD",
         "orientation": "v",
         "showlegend": true,
         "type": "scatter",
         "x": [
          14.18
         ],
         "xaxis": "x",
         "y": [
          1055365
         ],
         "yaxis": "y"
        },
        {
         "customdata": [
          [
           24282
          ]
         ],
         "hovertemplate": "Company Name=Alkhabeer Income<br>Price=%{x}<br>Turnover=%{y}<br>Volume=%{customdata[0]}<extra></extra>",
         "legendgroup": "Alkhabeer Income",
         "marker": {
          "color": "#EF553B",
          "size": [
           24282
          ],
          "sizemode": "area",
          "sizeref": 560888.798125,
          "symbol": "circle"
         },
         "mode": "markers",
         "name": "Alkhabeer Income",
         "orientation": "v",
         "showlegend": true,
         "type": "scatter",
         "x": [
          6.25
         ],
         "xaxis": "x",
         "y": [
          151945
         ],
         "yaxis": "y"
        },
        {
         "customdata": [
          [
           142019
          ]
         ],
         "hovertemplate": "Company Name=ALBILAD US TECH<br>Price=%{x}<br>Turnover=%{y}<br>Volume=%{customdata[0]}<extra></extra>",
         "legendgroup": "ALBILAD US TECH",
         "marker": {
          "color": "#00cc96",
          "size": [
           142019
          ],
          "sizemode": "area",
          "sizeref": 560888.798125,
          "symbol": "circle"
         },
         "mode": "markers",
         "name": "ALBILAD US TECH",
         "orientation": "v",
         "showlegend": true,
         "type": "scatter",
         "x": [
          18.24
         ],
         "xaxis": "x",
         "y": [
          2598271
         ],
         "yaxis": "y"
        },
        {
         "customdata": [
          [
           17327
          ]
         ],
         "hovertemplate": "Company Name=ALBILAD SAUDI GROWTH<br>Price=%{x}<br>Turnover=%{y}<br>Volume=%{customdata[0]}<extra></extra>",
         "legendgroup": "ALBILAD SAUDI GROWTH",
         "marker": {
          "color": "#ab63fa",
          "size": [
           17327
          ],
          "sizemode": "area",
          "sizeref": 560888.798125,
          "symbol": "circle"
         },
         "mode": "markers",
         "name": "ALBILAD SAUDI GROWTH",
         "orientation": "v",
         "showlegend": true,
         "type": "scatter",
         "x": [
          10.65
         ],
         "xaxis": "x",
         "y": [
          185273
         ],
         "yaxis": "y"
        },
        {
         "customdata": [
          [
           51975
          ]
         ],
         "hovertemplate": "Company Name=ALKHABEER INCOME 2030<br>Price=%{x}<br>Turnover=%{y}<br>Volume=%{customdata[0]}<extra></extra>",
         "legendgroup": "ALKHABEER INCOME 2030",
         "marker": {
          "color": "#FFA15A",
          "size": [
           51975
          ],
          "sizemode": "area",
          "sizeref": 560888.798125,
          "symbol": "circle"
         },
         "mode": "markers",
         "name": "ALKHABEER INCOME 2030",
         "orientation": "v",
         "showlegend": true,
         "type": "scatter",
         "x": [
          7.3
         ],
         "xaxis": "x",
         "y": [
          378935
         ],
         "yaxis": "y"
        },
        {
         "customdata": [
          [
           69798
          ]
         ],
         "hovertemplate": "Company Name=SEDCO MULTI ASSET<br>Price=%{x}<br>Turnover=%{y}<br>Volume=%{customdata[0]}<extra></extra>",
         "legendgroup": "SEDCO MULTI ASSET",
         "marker": {
          "color": "#19d3f3",
          "size": [
           69798
          ],
          "sizemode": "area",
          "sizeref": 560888.798125,
          "symbol": "circle"
         },
         "mode": "markers",
         "name": "SEDCO MULTI ASSET",
         "orientation": "v",
         "showlegend": true,
         "type": "scatter",
         "x": [
          6.76
         ],
         "xaxis": "x",
         "y": [
          470917
         ],
         "yaxis": "y"
        },
        {
         "customdata": [
          [
           389235
          ]
         ],
         "hovertemplate": "Company Name=ALBILAD HONG KONG CHINA<br>Price=%{x}<br>Turnover=%{y}<br>Volume=%{customdata[0]}<extra></extra>",
         "legendgroup": "ALBILAD HONG KONG CHINA",
         "marker": {
          "color": "#FF6692",
          "size": [
           389235
          ],
          "sizemode": "area",
          "sizeref": 560888.798125,
          "symbol": "circle"
         },
         "mode": "markers",
         "name": "ALBILAD HONG KONG CHINA",
         "orientation": "v",
         "showlegend": true,
         "type": "scatter",
         "x": [
          9.93
         ],
         "xaxis": "x",
         "y": [
          3874838
         ],
         "yaxis": "y"
        },
        {
         "customdata": [
          [
           3280287
          ]
         ],
         "hovertemplate": "Company Name=SAB HK<br>Price=%{x}<br>Turnover=%{y}<br>Volume=%{customdata[0]}<extra></extra>",
         "legendgroup": "SAB HK",
         "marker": {
          "color": "#B6E880",
          "size": [
           3280287
          ],
          "sizemode": "area",
          "sizeref": 560888.798125,
          "symbol": "circle"
         },
         "mode": "markers",
         "name": "SAB HK",
         "orientation": "v",
         "showlegend": true,
         "type": "scatter",
         "x": [
          10.62
         ],
         "xaxis": "x",
         "y": [
          35209761
         ],
         "yaxis": "y"
        }
       ],
       "layout": {
        "legend": {
         "itemsizing": "constant",
         "title": {
          "text": "Company Name"
         },
         "tracegroupgap": 0
        },
        "template": {
         "data": {
          "bar": [
           {
            "error_x": {
             "color": "#2a3f5f"
            },
            "error_y": {
             "color": "#2a3f5f"
            },
            "marker": {
             "line": {
              "color": "#E5ECF6",
              "width": 0.5
             },
             "pattern": {
              "fillmode": "overlay",
              "size": 10,
              "solidity": 0.2
             }
            },
            "type": "bar"
           }
          ],
          "barpolar": [
           {
            "marker": {
             "line": {
              "color": "#E5ECF6",
              "width": 0.5
             },
             "pattern": {
              "fillmode": "overlay",
              "size": 10,
              "solidity": 0.2
             }
            },
            "type": "barpolar"
           }
          ],
          "carpet": [
           {
            "aaxis": {
             "endlinecolor": "#2a3f5f",
             "gridcolor": "white",
             "linecolor": "white",
             "minorgridcolor": "white",
             "startlinecolor": "#2a3f5f"
            },
            "baxis": {
             "endlinecolor": "#2a3f5f",
             "gridcolor": "white",
             "linecolor": "white",
             "minorgridcolor": "white",
             "startlinecolor": "#2a3f5f"
            },
            "type": "carpet"
           }
          ],
          "choropleth": [
           {
            "colorbar": {
             "outlinewidth": 0,
             "ticks": ""
            },
            "type": "choropleth"
           }
          ],
          "contour": [
           {
            "colorbar": {
             "outlinewidth": 0,
             "ticks": ""
            },
            "colorscale": [
             [
              0,
              "#0d0887"
             ],
             [
              0.1111111111111111,
              "#46039f"
             ],
             [
              0.2222222222222222,
              "#7201a8"
             ],
             [
              0.3333333333333333,
              "#9c179e"
             ],
             [
              0.4444444444444444,
              "#bd3786"
             ],
             [
              0.5555555555555556,
              "#d8576b"
             ],
             [
              0.6666666666666666,
              "#ed7953"
             ],
             [
              0.7777777777777778,
              "#fb9f3a"
             ],
             [
              0.8888888888888888,
              "#fdca26"
             ],
             [
              1,
              "#f0f921"
             ]
            ],
            "type": "contour"
           }
          ],
          "contourcarpet": [
           {
            "colorbar": {
             "outlinewidth": 0,
             "ticks": ""
            },
            "type": "contourcarpet"
           }
          ],
          "heatmap": [
           {
            "colorbar": {
             "outlinewidth": 0,
             "ticks": ""
            },
            "colorscale": [
             [
              0,
              "#0d0887"
             ],
             [
              0.1111111111111111,
              "#46039f"
             ],
             [
              0.2222222222222222,
              "#7201a8"
             ],
             [
              0.3333333333333333,
              "#9c179e"
             ],
             [
              0.4444444444444444,
              "#bd3786"
             ],
             [
              0.5555555555555556,
              "#d8576b"
             ],
             [
              0.6666666666666666,
              "#ed7953"
             ],
             [
              0.7777777777777778,
              "#fb9f3a"
             ],
             [
              0.8888888888888888,
              "#fdca26"
             ],
             [
              1,
              "#f0f921"
             ]
            ],
            "type": "heatmap"
           }
          ],
          "heatmapgl": [
           {
            "colorbar": {
             "outlinewidth": 0,
             "ticks": ""
            },
            "colorscale": [
             [
              0,
              "#0d0887"
             ],
             [
              0.1111111111111111,
              "#46039f"
             ],
             [
              0.2222222222222222,
              "#7201a8"
             ],
             [
              0.3333333333333333,
              "#9c179e"
             ],
             [
              0.4444444444444444,
              "#bd3786"
             ],
             [
              0.5555555555555556,
              "#d8576b"
             ],
             [
              0.6666666666666666,
              "#ed7953"
             ],
             [
              0.7777777777777778,
              "#fb9f3a"
             ],
             [
              0.8888888888888888,
              "#fdca26"
             ],
             [
              1,
              "#f0f921"
             ]
            ],
            "type": "heatmapgl"
           }
          ],
          "histogram": [
           {
            "marker": {
             "pattern": {
              "fillmode": "overlay",
              "size": 10,
              "solidity": 0.2
             }
            },
            "type": "histogram"
           }
          ],
          "histogram2d": [
           {
            "colorbar": {
             "outlinewidth": 0,
             "ticks": ""
            },
            "colorscale": [
             [
              0,
              "#0d0887"
             ],
             [
              0.1111111111111111,
              "#46039f"
             ],
             [
              0.2222222222222222,
              "#7201a8"
             ],
             [
              0.3333333333333333,
              "#9c179e"
             ],
             [
              0.4444444444444444,
              "#bd3786"
             ],
             [
              0.5555555555555556,
              "#d8576b"
             ],
             [
              0.6666666666666666,
              "#ed7953"
             ],
             [
              0.7777777777777778,
              "#fb9f3a"
             ],
             [
              0.8888888888888888,
              "#fdca26"
             ],
             [
              1,
              "#f0f921"
             ]
            ],
            "type": "histogram2d"
           }
          ],
          "histogram2dcontour": [
           {
            "colorbar": {
             "outlinewidth": 0,
             "ticks": ""
            },
            "colorscale": [
             [
              0,
              "#0d0887"
             ],
             [
              0.1111111111111111,
              "#46039f"
             ],
             [
              0.2222222222222222,
              "#7201a8"
             ],
             [
              0.3333333333333333,
              "#9c179e"
             ],
             [
              0.4444444444444444,
              "#bd3786"
             ],
             [
              0.5555555555555556,
              "#d8576b"
             ],
             [
              0.6666666666666666,
              "#ed7953"
             ],
             [
              0.7777777777777778,
              "#fb9f3a"
             ],
             [
              0.8888888888888888,
              "#fdca26"
             ],
             [
              1,
              "#f0f921"
             ]
            ],
            "type": "histogram2dcontour"
           }
          ],
          "mesh3d": [
           {
            "colorbar": {
             "outlinewidth": 0,
             "ticks": ""
            },
            "type": "mesh3d"
           }
          ],
          "parcoords": [
           {
            "line": {
             "colorbar": {
              "outlinewidth": 0,
              "ticks": ""
             }
            },
            "type": "parcoords"
           }
          ],
          "pie": [
           {
            "automargin": true,
            "type": "pie"
           }
          ],
          "scatter": [
           {
            "fillpattern": {
             "fillmode": "overlay",
             "size": 10,
             "solidity": 0.2
            },
            "type": "scatter"
           }
          ],
          "scatter3d": [
           {
            "line": {
             "colorbar": {
              "outlinewidth": 0,
              "ticks": ""
             }
            },
            "marker": {
             "colorbar": {
              "outlinewidth": 0,
              "ticks": ""
             }
            },
            "type": "scatter3d"
           }
          ],
          "scattercarpet": [
           {
            "marker": {
             "colorbar": {
              "outlinewidth": 0,
              "ticks": ""
             }
            },
            "type": "scattercarpet"
           }
          ],
          "scattergeo": [
           {
            "marker": {
             "colorbar": {
              "outlinewidth": 0,
              "ticks": ""
             }
            },
            "type": "scattergeo"
           }
          ],
          "scattergl": [
           {
            "marker": {
             "colorbar": {
              "outlinewidth": 0,
              "ticks": ""
             }
            },
            "type": "scattergl"
           }
          ],
          "scattermapbox": [
           {
            "marker": {
             "colorbar": {
              "outlinewidth": 0,
              "ticks": ""
             }
            },
            "type": "scattermapbox"
           }
          ],
          "scatterpolar": [
           {
            "marker": {
             "colorbar": {
              "outlinewidth": 0,
              "ticks": ""
             }
            },
            "type": "scatterpolar"
           }
          ],
          "scatterpolargl": [
           {
            "marker": {
             "colorbar": {
              "outlinewidth": 0,
              "ticks": ""
             }
            },
            "type": "scatterpolargl"
           }
          ],
          "scatterternary": [
           {
            "marker": {
             "colorbar": {
              "outlinewidth": 0,
              "ticks": ""
             }
            },
            "type": "scatterternary"
           }
          ],
          "surface": [
           {
            "colorbar": {
             "outlinewidth": 0,
             "ticks": ""
            },
            "colorscale": [
             [
              0,
              "#0d0887"
             ],
             [
              0.1111111111111111,
              "#46039f"
             ],
             [
              0.2222222222222222,
              "#7201a8"
             ],
             [
              0.3333333333333333,
              "#9c179e"
             ],
             [
              0.4444444444444444,
              "#bd3786"
             ],
             [
              0.5555555555555556,
              "#d8576b"
             ],
             [
              0.6666666666666666,
              "#ed7953"
             ],
             [
              0.7777777777777778,
              "#fb9f3a"
             ],
             [
              0.8888888888888888,
              "#fdca26"
             ],
             [
              1,
              "#f0f921"
             ]
            ],
            "type": "surface"
           }
          ],
          "table": [
           {
            "cells": {
             "fill": {
              "color": "#EBF0F8"
             },
             "line": {
              "color": "white"
             }
            },
            "header": {
             "fill": {
              "color": "#C8D4E3"
             },
             "line": {
              "color": "white"
             }
            },
            "type": "table"
           }
          ]
         },
         "layout": {
          "annotationdefaults": {
           "arrowcolor": "#2a3f5f",
           "arrowhead": 0,
           "arrowwidth": 1
          },
          "autotypenumbers": "strict",
          "coloraxis": {
           "colorbar": {
            "outlinewidth": 0,
            "ticks": ""
           }
          },
          "colorscale": {
           "diverging": [
            [
             0,
             "#8e0152"
            ],
            [
             0.1,
             "#c51b7d"
            ],
            [
             0.2,
             "#de77ae"
            ],
            [
             0.3,
             "#f1b6da"
            ],
            [
             0.4,
             "#fde0ef"
            ],
            [
             0.5,
             "#f7f7f7"
            ],
            [
             0.6,
             "#e6f5d0"
            ],
            [
             0.7,
             "#b8e186"
            ],
            [
             0.8,
             "#7fbc41"
            ],
            [
             0.9,
             "#4d9221"
            ],
            [
             1,
             "#276419"
            ]
           ],
           "sequential": [
            [
             0,
             "#0d0887"
            ],
            [
             0.1111111111111111,
             "#46039f"
            ],
            [
             0.2222222222222222,
             "#7201a8"
            ],
            [
             0.3333333333333333,
             "#9c179e"
            ],
            [
             0.4444444444444444,
             "#bd3786"
            ],
            [
             0.5555555555555556,
             "#d8576b"
            ],
            [
             0.6666666666666666,
             "#ed7953"
            ],
            [
             0.7777777777777778,
             "#fb9f3a"
            ],
            [
             0.8888888888888888,
             "#fdca26"
            ],
            [
             1,
             "#f0f921"
            ]
           ],
           "sequentialminus": [
            [
             0,
             "#0d0887"
            ],
            [
             0.1111111111111111,
             "#46039f"
            ],
            [
             0.2222222222222222,
             "#7201a8"
            ],
            [
             0.3333333333333333,
             "#9c179e"
            ],
            [
             0.4444444444444444,
             "#bd3786"
            ],
            [
             0.5555555555555556,
             "#d8576b"
            ],
            [
             0.6666666666666666,
             "#ed7953"
            ],
            [
             0.7777777777777778,
             "#fb9f3a"
            ],
            [
             0.8888888888888888,
             "#fdca26"
            ],
            [
             1,
             "#f0f921"
            ]
           ]
          },
          "colorway": [
           "#636efa",
           "#EF553B",
           "#00cc96",
           "#ab63fa",
           "#FFA15A",
           "#19d3f3",
           "#FF6692",
           "#B6E880",
           "#FF97FF",
           "#FECB52"
          ],
          "font": {
           "color": "#2a3f5f"
          },
          "geo": {
           "bgcolor": "white",
           "lakecolor": "white",
           "landcolor": "#E5ECF6",
           "showlakes": true,
           "showland": true,
           "subunitcolor": "white"
          },
          "hoverlabel": {
           "align": "left"
          },
          "hovermode": "closest",
          "mapbox": {
           "style": "light"
          },
          "paper_bgcolor": "white",
          "plot_bgcolor": "#E5ECF6",
          "polar": {
           "angularaxis": {
            "gridcolor": "white",
            "linecolor": "white",
            "ticks": ""
           },
           "bgcolor": "#E5ECF6",
           "radialaxis": {
            "gridcolor": "white",
            "linecolor": "white",
            "ticks": ""
           }
          },
          "scene": {
           "xaxis": {
            "backgroundcolor": "#E5ECF6",
            "gridcolor": "white",
            "gridwidth": 2,
            "linecolor": "white",
            "showbackground": true,
            "ticks": "",
            "zerolinecolor": "white"
           },
           "yaxis": {
            "backgroundcolor": "#E5ECF6",
            "gridcolor": "white",
            "gridwidth": 2,
            "linecolor": "white",
            "showbackground": true,
            "ticks": "",
            "zerolinecolor": "white"
           },
           "zaxis": {
            "backgroundcolor": "#E5ECF6",
            "gridcolor": "white",
            "gridwidth": 2,
            "linecolor": "white",
            "showbackground": true,
            "ticks": "",
            "zerolinecolor": "white"
           }
          },
          "shapedefaults": {
           "line": {
            "color": "#2a3f5f"
           }
          },
          "ternary": {
           "aaxis": {
            "gridcolor": "white",
            "linecolor": "white",
            "ticks": ""
           },
           "baxis": {
            "gridcolor": "white",
            "linecolor": "white",
            "ticks": ""
           },
           "bgcolor": "#E5ECF6",
           "caxis": {
            "gridcolor": "white",
            "linecolor": "white",
            "ticks": ""
           }
          },
          "title": {
           "x": 0.05
          },
          "xaxis": {
           "automargin": true,
           "gridcolor": "white",
           "linecolor": "white",
           "ticks": "",
           "title": {
            "standoff": 15
           },
           "zerolinecolor": "white",
           "zerolinewidth": 2
          },
          "yaxis": {
           "automargin": true,
           "gridcolor": "white",
           "linecolor": "white",
           "ticks": "",
           "title": {
            "standoff": 15
           },
           "zerolinecolor": "white",
           "zerolinewidth": 2
          }
         }
        },
        "title": {
         "text": "Price vs. Turnover with Volume as Bubble Size"
        },
        "xaxis": {
         "anchor": "y",
         "domain": [
          0,
          1
         ],
         "title": {
          "text": "Price"
         },
         "type": "log"
        },
        "yaxis": {
         "anchor": "x",
         "domain": [
          0,
          1
         ],
         "title": {
          "text": "Turnover"
         },
         "type": "log"
        }
       }
      }
     },
     "metadata": {},
     "output_type": "display_data"
    }
   ],
   "source": [
    "fig = px.scatter(\n",
    "    data,\n",
    "    x='Price',\n",
    "    y='Turnover',\n",
    "    size='Volume',\n",
    "    color='Company Name',\n",
    "    title='Price vs. Turnover with Volume as Bubble Size',\n",
    "    hover_data=['Price', 'Turnover', 'Volume'],\n",
    "    size_max=40  \n",
    ")\n",
    "fig.update_xaxes(type='log')  \n",
    "fig.update_yaxes(type='log')  \n",
    "fig.show()"
   ]
  },
  {
   "cell_type": "markdown",
   "id": "377bb549-04c5-46e1-8a65-fc09bf7b503e",
   "metadata": {},
   "source": [
    "# Analytical Questions and Insights\n",
    "This section of the notebook is dedicated to answering key questions about stock market data through a series of structured analyses."
   ]
  },
  {
   "cell_type": "markdown",
   "id": "50a7e256-d4e2-4024-96c5-c74e439e2a7d",
   "metadata": {},
   "source": [
    "# 1. Which company has the highest current stock price?"
   ]
  },
  {
   "cell_type": "code",
   "execution_count": 26,
   "id": "93cf9455-b39a-4f80-8ca8-6c802f9709d9",
   "metadata": {},
   "outputs": [
    {
     "name": "stdout",
     "output_type": "stream",
     "text": [
      "Company with the highest current stock price: ELM\n"
     ]
    }
   ],
   "source": [
    "highest_price_company = data.loc[data['Price'].idxmax()]\n",
    "print(\"Company with the highest current stock price:\", highest_price_company['Company Name'])"
   ]
  },
  {
   "cell_type": "markdown",
   "id": "d3b39e3a-b94f-4890-a7b1-c01e4bcee24a",
   "metadata": {},
   "source": [
    "# 2. Which company has experienced the most significant change in stock price?"
   ]
  },
  {
   "cell_type": "code",
   "execution_count": 27,
   "id": "9e7d5af4-13c1-4460-8126-f1482690e1d9",
   "metadata": {},
   "outputs": [
    {
     "name": "stdout",
     "output_type": "stream",
     "text": [
      "Company with the most significant change in stock price: ACWA POWER\n"
     ]
    }
   ],
   "source": [
    "most_significant_change_company = data.loc[data['Change'].abs().idxmax()]\n",
    "print(\"Company with the most significant change in stock price:\", most_significant_change_company['Company Name'])"
   ]
  },
  {
   "cell_type": "markdown",
   "id": "b38b1e11-2e93-41d1-8f6d-56cd7d189e80",
   "metadata": {},
   "source": [
    "# 3. How do companies with high transaction volumes correlate with price stability or volatility?"
   ]
  },
  {
   "cell_type": "code",
   "execution_count": 28,
   "id": "01432c11-021f-4c2b-bd79-b1b7da62c142",
   "metadata": {},
   "outputs": [
    {
     "ename": "TypeError",
     "evalue": "bad operand type for abs(): 'str'",
     "output_type": "error",
     "traceback": [
      "\u001b[1;31m---------------------------------------------------------------------------\u001b[0m",
      "\u001b[1;31mTypeError\u001b[0m                                 Traceback (most recent call last)",
      "Cell \u001b[1;32mIn[28], line 1\u001b[0m\n\u001b[1;32m----> 1\u001b[0m data[\u001b[38;5;124m'\u001b[39m\u001b[38;5;124mVolatility\u001b[39m\u001b[38;5;124m'\u001b[39m] \u001b[38;5;241m=\u001b[39m \u001b[43mdata\u001b[49m\u001b[43m[\u001b[49m\u001b[38;5;124;43m'\u001b[39;49m\u001b[38;5;124;43mChange (\u001b[39;49m\u001b[38;5;124;43m%\u001b[39;49m\u001b[38;5;124;43m)\u001b[39;49m\u001b[38;5;124;43m'\u001b[39;49m\u001b[43m]\u001b[49m\u001b[38;5;241;43m.\u001b[39;49m\u001b[43mabs\u001b[49m\u001b[43m(\u001b[49m\u001b[43m)\u001b[49m\n\u001b[0;32m      2\u001b[0m high_transaction_companies \u001b[38;5;241m=\u001b[39m data\u001b[38;5;241m.\u001b[39msort_values(by\u001b[38;5;241m=\u001b[39m\u001b[38;5;124m'\u001b[39m\u001b[38;5;124mTransactions\u001b[39m\u001b[38;5;124m'\u001b[39m, ascending\u001b[38;5;241m=\u001b[39m\u001b[38;5;28;01mFalse\u001b[39;00m)\u001b[38;5;241m.\u001b[39mhead(\u001b[38;5;241m5\u001b[39m)\n\u001b[0;32m      3\u001b[0m \u001b[38;5;28mprint\u001b[39m(\u001b[38;5;124m\"\u001b[39m\u001b[38;5;124mTop 5 companies with highest transactions and their volatility:\u001b[39m\u001b[38;5;130;01m\\n\u001b[39;00m\u001b[38;5;124m\"\u001b[39m, high_transaction_companies[[\u001b[38;5;124m'\u001b[39m\u001b[38;5;124mCompany Name\u001b[39m\u001b[38;5;124m'\u001b[39m, \u001b[38;5;124m'\u001b[39m\u001b[38;5;124mTransactions\u001b[39m\u001b[38;5;124m'\u001b[39m, \u001b[38;5;124m'\u001b[39m\u001b[38;5;124mVolatility\u001b[39m\u001b[38;5;124m'\u001b[39m]])\n",
      "File \u001b[1;32mc:\\Users\\kingd\\AppData\\Local\\Programs\\Python\\Python312\\Lib\\site-packages\\pandas\\core\\generic.py:1719\u001b[0m, in \u001b[0;36mNDFrame.abs\u001b[1;34m(self)\u001b[0m\n\u001b[0;32m   1651\u001b[0m \u001b[38;5;129m@final\u001b[39m\n\u001b[0;32m   1652\u001b[0m \u001b[38;5;28;01mdef\u001b[39;00m \u001b[38;5;21mabs\u001b[39m(\u001b[38;5;28mself\u001b[39m) \u001b[38;5;241m-\u001b[39m\u001b[38;5;241m>\u001b[39m Self:\n\u001b[0;32m   1653\u001b[0m \u001b[38;5;250m    \u001b[39m\u001b[38;5;124;03m\"\"\"\u001b[39;00m\n\u001b[0;32m   1654\u001b[0m \u001b[38;5;124;03m    Return a Series/DataFrame with absolute numeric value of each element.\u001b[39;00m\n\u001b[0;32m   1655\u001b[0m \n\u001b[1;32m   (...)\u001b[0m\n\u001b[0;32m   1717\u001b[0m \u001b[38;5;124;03m    3    7   40  -50\u001b[39;00m\n\u001b[0;32m   1718\u001b[0m \u001b[38;5;124;03m    \"\"\"\u001b[39;00m\n\u001b[1;32m-> 1719\u001b[0m     res_mgr \u001b[38;5;241m=\u001b[39m \u001b[38;5;28;43mself\u001b[39;49m\u001b[38;5;241;43m.\u001b[39;49m\u001b[43m_mgr\u001b[49m\u001b[38;5;241;43m.\u001b[39;49m\u001b[43mapply\u001b[49m\u001b[43m(\u001b[49m\u001b[43mnp\u001b[49m\u001b[38;5;241;43m.\u001b[39;49m\u001b[43mabs\u001b[49m\u001b[43m)\u001b[49m\n\u001b[0;32m   1720\u001b[0m     \u001b[38;5;28;01mreturn\u001b[39;00m \u001b[38;5;28mself\u001b[39m\u001b[38;5;241m.\u001b[39m_constructor_from_mgr(res_mgr, axes\u001b[38;5;241m=\u001b[39mres_mgr\u001b[38;5;241m.\u001b[39maxes)\u001b[38;5;241m.\u001b[39m__finalize__(\n\u001b[0;32m   1721\u001b[0m         \u001b[38;5;28mself\u001b[39m, name\u001b[38;5;241m=\u001b[39m\u001b[38;5;124m\"\u001b[39m\u001b[38;5;124mabs\u001b[39m\u001b[38;5;124m\"\u001b[39m\n\u001b[0;32m   1722\u001b[0m     )\n",
      "File \u001b[1;32mc:\\Users\\kingd\\AppData\\Local\\Programs\\Python\\Python312\\Lib\\site-packages\\pandas\\core\\internals\\managers.py:361\u001b[0m, in \u001b[0;36mBaseBlockManager.apply\u001b[1;34m(self, f, align_keys, **kwargs)\u001b[0m\n\u001b[0;32m    358\u001b[0m             kwargs[k] \u001b[38;5;241m=\u001b[39m obj[b\u001b[38;5;241m.\u001b[39mmgr_locs\u001b[38;5;241m.\u001b[39mindexer]\n\u001b[0;32m    360\u001b[0m \u001b[38;5;28;01mif\u001b[39;00m \u001b[38;5;28mcallable\u001b[39m(f):\n\u001b[1;32m--> 361\u001b[0m     applied \u001b[38;5;241m=\u001b[39m \u001b[43mb\u001b[49m\u001b[38;5;241;43m.\u001b[39;49m\u001b[43mapply\u001b[49m\u001b[43m(\u001b[49m\u001b[43mf\u001b[49m\u001b[43m,\u001b[49m\u001b[43m \u001b[49m\u001b[38;5;241;43m*\u001b[39;49m\u001b[38;5;241;43m*\u001b[39;49m\u001b[43mkwargs\u001b[49m\u001b[43m)\u001b[49m\n\u001b[0;32m    362\u001b[0m \u001b[38;5;28;01melse\u001b[39;00m:\n\u001b[0;32m    363\u001b[0m     applied \u001b[38;5;241m=\u001b[39m \u001b[38;5;28mgetattr\u001b[39m(b, f)(\u001b[38;5;241m*\u001b[39m\u001b[38;5;241m*\u001b[39mkwargs)\n",
      "File \u001b[1;32mc:\\Users\\kingd\\AppData\\Local\\Programs\\Python\\Python312\\Lib\\site-packages\\pandas\\core\\internals\\blocks.py:393\u001b[0m, in \u001b[0;36mBlock.apply\u001b[1;34m(self, func, **kwargs)\u001b[0m\n\u001b[0;32m    387\u001b[0m \u001b[38;5;129m@final\u001b[39m\n\u001b[0;32m    388\u001b[0m \u001b[38;5;28;01mdef\u001b[39;00m \u001b[38;5;21mapply\u001b[39m(\u001b[38;5;28mself\u001b[39m, func, \u001b[38;5;241m*\u001b[39m\u001b[38;5;241m*\u001b[39mkwargs) \u001b[38;5;241m-\u001b[39m\u001b[38;5;241m>\u001b[39m \u001b[38;5;28mlist\u001b[39m[Block]:\n\u001b[0;32m    389\u001b[0m \u001b[38;5;250m    \u001b[39m\u001b[38;5;124;03m\"\"\"\u001b[39;00m\n\u001b[0;32m    390\u001b[0m \u001b[38;5;124;03m    apply the function to my values; return a block if we are not\u001b[39;00m\n\u001b[0;32m    391\u001b[0m \u001b[38;5;124;03m    one\u001b[39;00m\n\u001b[0;32m    392\u001b[0m \u001b[38;5;124;03m    \"\"\"\u001b[39;00m\n\u001b[1;32m--> 393\u001b[0m     result \u001b[38;5;241m=\u001b[39m \u001b[43mfunc\u001b[49m\u001b[43m(\u001b[49m\u001b[38;5;28;43mself\u001b[39;49m\u001b[38;5;241;43m.\u001b[39;49m\u001b[43mvalues\u001b[49m\u001b[43m,\u001b[49m\u001b[43m \u001b[49m\u001b[38;5;241;43m*\u001b[39;49m\u001b[38;5;241;43m*\u001b[39;49m\u001b[43mkwargs\u001b[49m\u001b[43m)\u001b[49m\n\u001b[0;32m    395\u001b[0m     result \u001b[38;5;241m=\u001b[39m maybe_coerce_values(result)\n\u001b[0;32m    396\u001b[0m     \u001b[38;5;28;01mreturn\u001b[39;00m \u001b[38;5;28mself\u001b[39m\u001b[38;5;241m.\u001b[39m_split_op_result(result)\n",
      "\u001b[1;31mTypeError\u001b[0m: bad operand type for abs(): 'str'"
     ]
    }
   ],
   "source": [
    "data['Volatility'] = data['Change (%)'].abs()\n",
    "high_transaction_companies = data.sort_values(by='Transactions', ascending=False).head(5)\n",
    "print(\"Top 5 companies with highest transactions and their volatility:\\n\", high_transaction_companies[['Company Name', 'Transactions', 'Volatility']])"
   ]
  },
  {
   "cell_type": "markdown",
   "id": "0f79e22d-c6c6-4d7c-8c3e-b32cc80015a9",
   "metadata": {},
   "source": [
    "# 4. Which company has the smallest price range over the 52 weeks?"
   ]
  },
  {
   "cell_type": "code",
   "execution_count": 29,
   "id": "d8d269be-8108-4d79-8936-f02b840e9ced",
   "metadata": {},
   "outputs": [
    {
     "name": "stdout",
     "output_type": "stream",
     "text": [
      "Company with the smallest 52-week price range: ALINMA SUKUK\n"
     ]
    }
   ],
   "source": [
    "data['Price_Range'] = data['52_Week_High'] - data['52_Week_Low']\n",
    "smallest_range_company = data.loc[data['Price_Range'].idxmin()]\n",
    "print(\"Company with the smallest 52-week price range:\", smallest_range_company['Company Name'])"
   ]
  },
  {
   "cell_type": "markdown",
   "id": "50d17ead-0bea-4409-9318-cedf21aa777d",
   "metadata": {},
   "source": [
    "# 5. Are companies with the highest turnovers also experiencing the most significant price changes?"
   ]
  },
  {
   "cell_type": "code",
   "execution_count": 30,
   "id": "8f90a1a5-afb4-4b55-aa14-74ac0c02944f",
   "metadata": {},
   "outputs": [
    {
     "name": "stdout",
     "output_type": "stream",
     "text": [
      "Top 5 companies with highest turnovers and their price changes:\n",
      "      Company Name    Turnover Change (%)\n",
      "0    SAUDI ARAMCO  1071073603     1.63 %\n",
      "156       ALRAJHI   713078290     1.98 %\n",
      "159           SNB   494103789     0.00 %\n",
      "165        ALBAHA   301206844     0.00 %\n",
      "158        ALINMA   292974889     0.35 %\n"
     ]
    }
   ],
   "source": [
    "high_turnover_companies = data.sort_values(by='Turnover', ascending=False).head(5)\n",
    "print(\"Top 5 companies with highest turnovers and their price changes:\\n\", high_turnover_companies[['Company Name', 'Turnover', 'Change (%)']])"
   ]
  },
  {
   "cell_type": "markdown",
   "id": "4b92cae2-3170-4ac7-b1cd-6f5cdef4d68b",
   "metadata": {},
   "source": [
    "# 5. Which company is closest to its 52-week high, indicating a potential bullish trend?"
   ]
  },
  {
   "cell_type": "code",
   "execution_count": 57,
   "id": "0c930426-a8af-467d-a006-31872826d1c4",
   "metadata": {},
   "outputs": [
    {
     "name": "stdout",
     "output_type": "stream",
     "text": [
      "Company closest to its 52-week high: ELM\n"
     ]
    }
   ],
   "source": [
    "data['Distance_to_High'] = data['52_Week_High'] - data['Price']\n",
    "closest_to_high_company = data.loc[data['Distance_to_High'].idxmin()]\n",
    "print(\"Company closest to its 52-week high:\", closest_to_high_company['Company Name'])"
   ]
  },
  {
   "cell_type": "markdown",
   "id": "4c7f1d99-79a5-4fb3-9dc5-dab513eb5e3c",
   "metadata": {},
   "source": [
    "# 6.  Which company has the largest percentage difference between its current price and its 52-week high?"
   ]
  },
  {
   "cell_type": "code",
   "execution_count": 58,
   "id": "f3f13174-6982-4511-a24d-7e55f583df41",
   "metadata": {},
   "outputs": [
    {
     "name": "stdout",
     "output_type": "stream",
     "text": [
      "Company with the largest percentage difference from its 52-week high: ARABIAN DRILLING\n"
     ]
    }
   ],
   "source": [
    "data['Percentage_Below_High'] = ((data['52_Week_High'] - data['Price']) / data['52_Week_High']) * 100\n",
    "largest_percentage_difference = data.loc[data['Percentage_Below_High'].idxmax()]\n",
    "print(\"Company with the largest percentage difference from its 52-week high:\", largest_percentage_difference['Company Name'])"
   ]
  },
  {
   "cell_type": "markdown",
   "id": "7433d39b-bdbe-46ba-9e1d-2c422835e769",
   "metadata": {},
   "source": [
    "# 7.  Which companies have positive price changes and also high turnover, indicating strong market activity?"
   ]
  },
  {
   "cell_type": "code",
   "execution_count": 59,
   "id": "0087a54d-30e7-4460-aea4-6d3b95146518",
   "metadata": {},
   "outputs": [
    {
     "name": "stdout",
     "output_type": "stream",
     "text": [
      "Companies with positive price changes and high turnover:\n",
      "          Company Name    Price  Change    Turnover\n",
      "0        SAUDI ARAMCO    28.00    0.45  1071073603\n",
      "1    ARABIAN DRILLING   110.20    1.40    23366519\n",
      "2                ADES    19.74    0.06    17988539\n",
      "3        PETRO RABIGH     8.37    0.13    15386263\n",
      "5             ALDREES   135.40    1.20    31570475\n",
      "..                ...      ...     ...         ...\n",
      "239         SOLUTIONS   262.60    2.20    28398448\n",
      "240               ELM  1081.60    7.40    35554932\n",
      "241                2P    14.64    0.22    10036058\n",
      "242       ALMAJED OUD   152.60    1.40    34575085\n",
      "257            SAB HK    10.62    1.18    35209761\n",
      "\n",
      "[119 rows x 4 columns]\n"
     ]
    }
   ],
   "source": [
    "positive_change_high_turnover = data[(data['Change'] > 0) & (data['Turnover'] > data['Turnover'].median())]\n",
    "print(\"Companies with positive price changes and high turnover:\\n\", positive_change_high_turnover[['Company Name', 'Price', 'Change', 'Turnover']])"
   ]
  },
  {
   "cell_type": "markdown",
   "id": "73905e41-b147-4ea7-bbff-d0d1c38d1bb9",
   "metadata": {},
   "source": [
    "# 8. What is the average price of stocks for companies that have a par value of 10?"
   ]
  },
  {
   "cell_type": "code",
   "execution_count": 60,
   "id": "2216c09e-ff8b-45f4-9c87-6b791ce3c8a3",
   "metadata": {},
   "outputs": [
    {
     "name": "stdout",
     "output_type": "stream",
     "text": [
      "Average price of stocks with par value of 10: 66.008\n"
     ]
    }
   ],
   "source": [
    "average_price_par_10 = data[data['Par Value'] == 10]['Price'].mean()\n",
    "print(\"Average price of stocks with par value of 10:\", average_price_par_10)"
   ]
  },
  {
   "cell_type": "markdown",
   "id": "76ced2de-af3b-4f24-ac2a-cfc61277afc2",
   "metadata": {},
   "source": [
    "# 9. Which company has the highest percentage gained , and does it have high or low transaction volume?"
   ]
  },
  {
   "cell_type": "code",
   "execution_count": 61,
   "id": "dc840063-c03b-4272-9813-714338249b97",
   "metadata": {},
   "outputs": [
    {
     "name": "stdout",
     "output_type": "stream",
     "text": [
      "Company with the highest percentage gained: RASAN\n",
      "Transaction volume: 6851\n"
     ]
    }
   ],
   "source": [
    "highest_percentage_gain = data.loc[data['Change (%)'].idxmax()]\n",
    "print(\"Company with the highest percentage gained:\", highest_percentage_gain['Company Name'])\n",
    "print(\"Transaction volume:\", highest_percentage_gain['Transactions'])"
   ]
  },
  {
   "cell_type": "markdown",
   "id": "4a546773-616c-4e4e-a423-7f284248af5f",
   "metadata": {},
   "source": [
    "# 10. How does the change in stock price correlate with the turnover and transaction volumes?"
   ]
  },
  {
   "cell_type": "code",
   "execution_count": 62,
   "id": "66b70344-e659-495d-9e42-4940b48a2974",
   "metadata": {},
   "outputs": [
    {
     "name": "stdout",
     "output_type": "stream",
     "text": [
      "Correlation between price change and turnover: 0.0832928468622529\n",
      "Correlation between price change and transactions: 0.14248364353973622\n"
     ]
    }
   ],
   "source": [
    "correlation_change_turnover = data['Change'].corr(data['Turnover'])\n",
    "correlation_change_transactions = data['Change'].corr(data['Transactions'])\n",
    "print(\"Correlation between price change and turnover:\", correlation_change_turnover)\n",
    "print(\"Correlation between price change and transactions:\", correlation_change_transactions)"
   ]
  },
  {
   "cell_type": "markdown",
   "id": "15853548-713f-4863-97af-282c0269c0c3",
   "metadata": {},
   "source": [
    "# 11. Are there any companies with a high price change but low transaction volume, indicating potential market inefficiencies?"
   ]
  },
  {
   "cell_type": "code",
   "execution_count": 63,
   "id": "c9c07a83-d646-40a7-adb7-4350cdcdb128",
   "metadata": {},
   "outputs": [
    {
     "name": "stdout",
     "output_type": "stream",
     "text": [
      "Companies with high price change but low transaction volume:\n",
      "          Company Name  Change  Transactions\n",
      "1    ARABIAN DRILLING    1.40          1700\n",
      "5             ALDREES    1.20          1711\n",
      "10               AMAK    1.60          1400\n",
      "34             ZOUJAJ    1.00           879\n",
      "44              QACCO    1.00          1349\n",
      "45               SPCC    0.70          1368\n",
      "47              EPCCO    0.70          1181\n",
      "52      RIYADH CABLES    2.40          1859\n",
      "55   ASTRA INDUSTRIAL    1.20          1816\n",
      "60          ALBABTAIN    0.80          1564\n",
      "61        SAUDI CABLE    2.40          1176\n",
      "64            ALOMRAN    0.95           727\n",
      "68            CATRION    2.20          1430\n",
      "83             NASEEJ    3.30          1777\n",
      "90                DWF    3.20          1068\n",
      "93               NCLE    5.80           587\n",
      "96             ALAMAR    2.20          1514\n",
      "100          ALARABIA    2.40          1249\n",
      "105             SASCO    1.10           762\n",
      "113             NAHDI    1.40          1606\n",
      "114           ALDAWAA    0.70           618\n",
      "115            THIMAR    1.20          1095\n",
      "118                HB    1.50           687\n",
      "129            ALJOUF    1.60           942\n",
      "131           TANMIAH    1.00          1139\n",
      "134           SADAFCO    1.00           736\n",
      "143     DALLAH HEALTH    2.20          1206\n",
      "148    JAMJOOM PHARMA    1.60          1025\n",
      "149     AVALON PHARMA    1.80           794\n",
      "186   ALRAJHI TAKAFUL    1.20          1324\n",
      "202              AWPT    1.60          1653\n",
      "204           MARAFIQ    1.30          1745\n",
      "226              MCDC    1.40           325\n",
      "227             ARDCO    0.75          1269\n",
      "237               MIS    8.00          1422\n"
     ]
    }
   ],
   "source": [
    "high_change_low_volume = data[(data['Change'].abs() > data['Change'].abs().mean()) & (data['Transactions'] < data['Transactions'].mean())]\n",
    "print(\"Companies with high price change but low transaction volume:\\n\", high_change_low_volume[['Company Name', 'Change', 'Transactions']])"
   ]
  },
  {
   "cell_type": "markdown",
   "id": "99163c08-47a4-4a83-8e79-77344adaad98",
   "metadata": {},
   "source": [
    "# 12. Which companies have a low 52-week price range but significant daily price changes, indicating recent volatility?"
   ]
  },
  {
   "cell_type": "code",
   "execution_count": 64,
   "id": "0cae6d66-c14c-498b-b06e-f2688fa98272",
   "metadata": {},
   "outputs": [
    {
     "ename": "TypeError",
     "evalue": "bad operand type for abs(): 'str'",
     "output_type": "error",
     "traceback": [
      "\u001b[1;31m---------------------------------------------------------------------------\u001b[0m",
      "\u001b[1;31mTypeError\u001b[0m                                 Traceback (most recent call last)",
      "Cell \u001b[1;32mIn[64], line 1\u001b[0m\n\u001b[1;32m----> 1\u001b[0m low_range_high_volatility \u001b[38;5;241m=\u001b[39m data[(data[\u001b[38;5;124m'\u001b[39m\u001b[38;5;124mPrice_Range\u001b[39m\u001b[38;5;124m'\u001b[39m] \u001b[38;5;241m<\u001b[39m data[\u001b[38;5;124m'\u001b[39m\u001b[38;5;124mPrice_Range\u001b[39m\u001b[38;5;124m'\u001b[39m]\u001b[38;5;241m.\u001b[39mmean()) \u001b[38;5;241m&\u001b[39m (\u001b[43mdata\u001b[49m\u001b[43m[\u001b[49m\u001b[38;5;124;43m'\u001b[39;49m\u001b[38;5;124;43mChange (\u001b[39;49m\u001b[38;5;124;43m%\u001b[39;49m\u001b[38;5;124;43m)\u001b[39;49m\u001b[38;5;124;43m'\u001b[39;49m\u001b[43m]\u001b[49m\u001b[38;5;241;43m.\u001b[39;49m\u001b[43mabs\u001b[49m\u001b[43m(\u001b[49m\u001b[43m)\u001b[49m \u001b[38;5;241m>\u001b[39m data[\u001b[38;5;124m'\u001b[39m\u001b[38;5;124mChange (\u001b[39m\u001b[38;5;124m%\u001b[39m\u001b[38;5;124m)\u001b[39m\u001b[38;5;124m'\u001b[39m]\u001b[38;5;241m.\u001b[39mmean())]\n\u001b[0;32m      2\u001b[0m \u001b[38;5;28mprint\u001b[39m(\u001b[38;5;124m\"\u001b[39m\u001b[38;5;124mCompanies with a low 52-week range but significant daily changes:\u001b[39m\u001b[38;5;130;01m\\n\u001b[39;00m\u001b[38;5;124m\"\u001b[39m, low_range_high_volatility[[\u001b[38;5;124m'\u001b[39m\u001b[38;5;124mCompany Name\u001b[39m\u001b[38;5;124m'\u001b[39m, \u001b[38;5;124m'\u001b[39m\u001b[38;5;124mPrice_Range\u001b[39m\u001b[38;5;124m'\u001b[39m, \u001b[38;5;124m'\u001b[39m\u001b[38;5;124mChange (\u001b[39m\u001b[38;5;124m%\u001b[39m\u001b[38;5;124m)\u001b[39m\u001b[38;5;124m'\u001b[39m]])\n",
      "File \u001b[1;32mc:\\Users\\kingd\\AppData\\Local\\Programs\\Python\\Python312\\Lib\\site-packages\\pandas\\core\\generic.py:1719\u001b[0m, in \u001b[0;36mNDFrame.abs\u001b[1;34m(self)\u001b[0m\n\u001b[0;32m   1651\u001b[0m \u001b[38;5;129m@final\u001b[39m\n\u001b[0;32m   1652\u001b[0m \u001b[38;5;28;01mdef\u001b[39;00m \u001b[38;5;21mabs\u001b[39m(\u001b[38;5;28mself\u001b[39m) \u001b[38;5;241m-\u001b[39m\u001b[38;5;241m>\u001b[39m Self:\n\u001b[0;32m   1653\u001b[0m \u001b[38;5;250m    \u001b[39m\u001b[38;5;124;03m\"\"\"\u001b[39;00m\n\u001b[0;32m   1654\u001b[0m \u001b[38;5;124;03m    Return a Series/DataFrame with absolute numeric value of each element.\u001b[39;00m\n\u001b[0;32m   1655\u001b[0m \n\u001b[1;32m   (...)\u001b[0m\n\u001b[0;32m   1717\u001b[0m \u001b[38;5;124;03m    3    7   40  -50\u001b[39;00m\n\u001b[0;32m   1718\u001b[0m \u001b[38;5;124;03m    \"\"\"\u001b[39;00m\n\u001b[1;32m-> 1719\u001b[0m     res_mgr \u001b[38;5;241m=\u001b[39m \u001b[38;5;28;43mself\u001b[39;49m\u001b[38;5;241;43m.\u001b[39;49m\u001b[43m_mgr\u001b[49m\u001b[38;5;241;43m.\u001b[39;49m\u001b[43mapply\u001b[49m\u001b[43m(\u001b[49m\u001b[43mnp\u001b[49m\u001b[38;5;241;43m.\u001b[39;49m\u001b[43mabs\u001b[49m\u001b[43m)\u001b[49m\n\u001b[0;32m   1720\u001b[0m     \u001b[38;5;28;01mreturn\u001b[39;00m \u001b[38;5;28mself\u001b[39m\u001b[38;5;241m.\u001b[39m_constructor_from_mgr(res_mgr, axes\u001b[38;5;241m=\u001b[39mres_mgr\u001b[38;5;241m.\u001b[39maxes)\u001b[38;5;241m.\u001b[39m__finalize__(\n\u001b[0;32m   1721\u001b[0m         \u001b[38;5;28mself\u001b[39m, name\u001b[38;5;241m=\u001b[39m\u001b[38;5;124m\"\u001b[39m\u001b[38;5;124mabs\u001b[39m\u001b[38;5;124m\"\u001b[39m\n\u001b[0;32m   1722\u001b[0m     )\n",
      "File \u001b[1;32mc:\\Users\\kingd\\AppData\\Local\\Programs\\Python\\Python312\\Lib\\site-packages\\pandas\\core\\internals\\managers.py:361\u001b[0m, in \u001b[0;36mBaseBlockManager.apply\u001b[1;34m(self, f, align_keys, **kwargs)\u001b[0m\n\u001b[0;32m    358\u001b[0m             kwargs[k] \u001b[38;5;241m=\u001b[39m obj[b\u001b[38;5;241m.\u001b[39mmgr_locs\u001b[38;5;241m.\u001b[39mindexer]\n\u001b[0;32m    360\u001b[0m \u001b[38;5;28;01mif\u001b[39;00m \u001b[38;5;28mcallable\u001b[39m(f):\n\u001b[1;32m--> 361\u001b[0m     applied \u001b[38;5;241m=\u001b[39m \u001b[43mb\u001b[49m\u001b[38;5;241;43m.\u001b[39;49m\u001b[43mapply\u001b[49m\u001b[43m(\u001b[49m\u001b[43mf\u001b[49m\u001b[43m,\u001b[49m\u001b[43m \u001b[49m\u001b[38;5;241;43m*\u001b[39;49m\u001b[38;5;241;43m*\u001b[39;49m\u001b[43mkwargs\u001b[49m\u001b[43m)\u001b[49m\n\u001b[0;32m    362\u001b[0m \u001b[38;5;28;01melse\u001b[39;00m:\n\u001b[0;32m    363\u001b[0m     applied \u001b[38;5;241m=\u001b[39m \u001b[38;5;28mgetattr\u001b[39m(b, f)(\u001b[38;5;241m*\u001b[39m\u001b[38;5;241m*\u001b[39mkwargs)\n",
      "File \u001b[1;32mc:\\Users\\kingd\\AppData\\Local\\Programs\\Python\\Python312\\Lib\\site-packages\\pandas\\core\\internals\\blocks.py:393\u001b[0m, in \u001b[0;36mBlock.apply\u001b[1;34m(self, func, **kwargs)\u001b[0m\n\u001b[0;32m    387\u001b[0m \u001b[38;5;129m@final\u001b[39m\n\u001b[0;32m    388\u001b[0m \u001b[38;5;28;01mdef\u001b[39;00m \u001b[38;5;21mapply\u001b[39m(\u001b[38;5;28mself\u001b[39m, func, \u001b[38;5;241m*\u001b[39m\u001b[38;5;241m*\u001b[39mkwargs) \u001b[38;5;241m-\u001b[39m\u001b[38;5;241m>\u001b[39m \u001b[38;5;28mlist\u001b[39m[Block]:\n\u001b[0;32m    389\u001b[0m \u001b[38;5;250m    \u001b[39m\u001b[38;5;124;03m\"\"\"\u001b[39;00m\n\u001b[0;32m    390\u001b[0m \u001b[38;5;124;03m    apply the function to my values; return a block if we are not\u001b[39;00m\n\u001b[0;32m    391\u001b[0m \u001b[38;5;124;03m    one\u001b[39;00m\n\u001b[0;32m    392\u001b[0m \u001b[38;5;124;03m    \"\"\"\u001b[39;00m\n\u001b[1;32m--> 393\u001b[0m     result \u001b[38;5;241m=\u001b[39m \u001b[43mfunc\u001b[49m\u001b[43m(\u001b[49m\u001b[38;5;28;43mself\u001b[39;49m\u001b[38;5;241;43m.\u001b[39;49m\u001b[43mvalues\u001b[49m\u001b[43m,\u001b[49m\u001b[43m \u001b[49m\u001b[38;5;241;43m*\u001b[39;49m\u001b[38;5;241;43m*\u001b[39;49m\u001b[43mkwargs\u001b[49m\u001b[43m)\u001b[49m\n\u001b[0;32m    395\u001b[0m     result \u001b[38;5;241m=\u001b[39m maybe_coerce_values(result)\n\u001b[0;32m    396\u001b[0m     \u001b[38;5;28;01mreturn\u001b[39;00m \u001b[38;5;28mself\u001b[39m\u001b[38;5;241m.\u001b[39m_split_op_result(result)\n",
      "\u001b[1;31mTypeError\u001b[0m: bad operand type for abs(): 'str'"
     ]
    }
   ],
   "source": [
    "low_range_high_volatility = data[(data['Price_Range'] < data['Price_Range'].mean()) & (data['Change (%)'].abs() > data['Change (%)'].mean())]\n",
    "print(\"Companies with a low 52-week range but significant daily changes:\\n\", low_range_high_volatility[['Company Name', 'Price_Range', 'Change (%)']])"
   ]
  },
  {
   "cell_type": "markdown",
   "id": "acaa7a97-9ae2-45c9-9ae2-65b58f9e14c8",
   "metadata": {},
   "source": [
    "# 13. Which company has the highest volume-to-turnover ratio?"
   ]
  },
  {
   "cell_type": "code",
   "execution_count": 65,
   "id": "d8c8d0c8-a0a4-47b4-bb3c-80ea27733326",
   "metadata": {},
   "outputs": [
    {
     "name": "stdout",
     "output_type": "stream",
     "text": [
      "Company with the highest volume-to-turnover ratio: ALBAHA\n"
     ]
    }
   ],
   "source": [
    "data['Volume_to_Turnover_Ratio'] = data['Volume'] / data['Turnover']\n",
    "highest_ratio_company = data.loc[data['Volume_to_Turnover_Ratio'].idxmax()]\n",
    "print(\"Company with the highest volume-to-turnover ratio:\", highest_ratio_company['Company Name'])"
   ]
  },
  {
   "cell_type": "markdown",
   "id": "818f96a6-7e4d-42ac-8656-14c6b328f75c",
   "metadata": {},
   "source": [
    "# 14. How many companies have experienced a price increase despite a relatively low transaction volume?"
   ]
  },
  {
   "cell_type": "code",
   "execution_count": 39,
   "id": "ee404784-d655-46f9-8b2d-05417b5feb8f",
   "metadata": {},
   "outputs": [
    {
     "name": "stdout",
     "output_type": "stream",
     "text": [
      "Number of companies with a price increase despite low transaction volume: 118\n"
     ]
    }
   ],
   "source": [
    "low_volume_price_increase = data[(data['Change'] > 0) & (data['Transactions'] < data['Transactions'].median())]\n",
    "count_low_volume_increase = len(low_volume_price_increase)\n",
    "print(\"Number of companies with a price increase despite low transaction volume:\", count_low_volume_increase)"
   ]
  },
  {
   "cell_type": "markdown",
   "id": "17bf36e2-7fa6-400a-a9b7-721921ab8490",
   "metadata": {},
   "source": [
    "# 15. Which company has the most consistent price performance, showing the smallest average daily price change?"
   ]
  },
  {
   "cell_type": "code",
   "execution_count": 40,
   "id": "faa1f5c4-3678-4a22-bf87-98cb2f872f1c",
   "metadata": {},
   "outputs": [
    {
     "name": "stdout",
     "output_type": "stream",
     "text": [
      "Company with the most consistent price performance: NAMA CHEMICALS\n"
     ]
    }
   ],
   "source": [
    "data['Daily_Change_Abs'] = data['Change'].abs()\n",
    "most_consistent_company = data.loc[data['Daily_Change_Abs'].idxmin()]\n",
    "print(\"Company with the most consistent price performance:\", most_consistent_company['Company Name'])"
   ]
  }
 ],
 "metadata": {
  "kernelspec": {
   "display_name": "Python 3 (ipykernel)",
   "language": "python",
   "name": "python3"
  },
  "language_info": {
   "codemirror_mode": {
    "name": "ipython",
    "version": 3
   },
   "file_extension": ".py",
   "mimetype": "text/x-python",
   "name": "python",
   "nbconvert_exporter": "python",
   "pygments_lexer": "ipython3",
   "version": "3.12.4"
  }
 },
 "nbformat": 4,
 "nbformat_minor": 5
}
